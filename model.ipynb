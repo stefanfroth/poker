{
 "cells": [
  {
   "cell_type": "code",
   "execution_count": 2,
   "metadata": {},
   "outputs": [
    {
     "name": "stderr",
     "output_type": "stream",
     "text": [
      "/Users/stefanroth/.local/lib/python3.7/site-packages/tensorflow/python/framework/dtypes.py:526: FutureWarning: Passing (type, 1) or '1type' as a synonym of type is deprecated; in a future version of numpy, it will be understood as (type, (1,)) / '(1,)type'.\n",
      "  _np_qint8 = np.dtype([(\"qint8\", np.int8, 1)])\n",
      "/Users/stefanroth/.local/lib/python3.7/site-packages/tensorflow/python/framework/dtypes.py:527: FutureWarning: Passing (type, 1) or '1type' as a synonym of type is deprecated; in a future version of numpy, it will be understood as (type, (1,)) / '(1,)type'.\n",
      "  _np_quint8 = np.dtype([(\"quint8\", np.uint8, 1)])\n",
      "/Users/stefanroth/.local/lib/python3.7/site-packages/tensorflow/python/framework/dtypes.py:528: FutureWarning: Passing (type, 1) or '1type' as a synonym of type is deprecated; in a future version of numpy, it will be understood as (type, (1,)) / '(1,)type'.\n",
      "  _np_qint16 = np.dtype([(\"qint16\", np.int16, 1)])\n",
      "/Users/stefanroth/.local/lib/python3.7/site-packages/tensorflow/python/framework/dtypes.py:529: FutureWarning: Passing (type, 1) or '1type' as a synonym of type is deprecated; in a future version of numpy, it will be understood as (type, (1,)) / '(1,)type'.\n",
      "  _np_quint16 = np.dtype([(\"quint16\", np.uint16, 1)])\n",
      "/Users/stefanroth/.local/lib/python3.7/site-packages/tensorflow/python/framework/dtypes.py:530: FutureWarning: Passing (type, 1) or '1type' as a synonym of type is deprecated; in a future version of numpy, it will be understood as (type, (1,)) / '(1,)type'.\n",
      "  _np_qint32 = np.dtype([(\"qint32\", np.int32, 1)])\n",
      "/Users/stefanroth/.local/lib/python3.7/site-packages/tensorflow/python/framework/dtypes.py:535: FutureWarning: Passing (type, 1) or '1type' as a synonym of type is deprecated; in a future version of numpy, it will be understood as (type, (1,)) / '(1,)type'.\n",
      "  np_resource = np.dtype([(\"resource\", np.ubyte, 1)])\n"
     ]
    }
   ],
   "source": [
    "#import itertools\n",
    "#import pandas as pd\n",
    "#import sqlalchemy as sqa\n",
    "import numpy as np\n",
    "from tensorflow.keras import models, layers, metrics, optimizers, utils\n",
    "from tensorflow.keras.models import model_from_json, Sequential\n",
    "from tensorflow.keras.layers import Input, Dense, Activation, Conv2D, MaxPooling2D, Flatten, Dropout, BatchNormalization\n",
    "from tensorflow.keras import backend as K\n",
    "import tensorflow as tf\n",
    "#import datetime"
   ]
  },
  {
   "cell_type": "code",
   "execution_count": 6,
   "metadata": {},
   "outputs": [],
   "source": [
    "max_features = 53\n",
    "max_len = 7\n",
    "vector_size = 4"
   ]
  },
  {
   "cell_type": "code",
   "execution_count": 9,
   "metadata": {},
   "outputs": [],
   "source": [
    "# Card embeddings\n",
    "card_input = Input(shape=(7,))\n",
    "card_output = layers.Embedding(max_features, vector_size, input_length=max_len)(card_input)\n",
    "#card_output = layers.BatchNormalization()(card_output)\n",
    "card_output = layers.Flatten()(card_output)\n",
    "\n",
    "# Other information\n",
    "state_input = Input(shape=(13,))\n",
    "\n",
    "#Merge and add dense layer\n",
    "merge_layer = layers.concatenate([state_input, card_output])\n",
    "x = layers.BatchNormalization()(merge_layer)\n",
    "x = layers.Dense(64, activation='relu')(x)\n",
    "#x = layers.Dense(64, activation='relu')(merge_layer)\n",
    "x = layers.BatchNormalization()(x)\n",
    "x = layers.Dense(32, activation='relu')(x)\n",
    "x = layers.BatchNormalization()(x)\n",
    "main_output = layers.Dense(3, activation='softmax')(x)\n",
    "\n",
    "# Define model with two inputs\n",
    "model = models.Model(inputs=[card_input, state_input], outputs=[main_output])\n",
    "\n",
    "\n",
    "#    action_prob_ph = self.model.output\n",
    "action_prob_ph = model.output#K.sum(self.model.output)\n",
    "#print(f'The probabilities for the three actions are {action_prob_ph}')\n",
    "action_onehot_ph = K.placeholder(shape=(None, 3),\n",
    "                                         name=\"action_onehot\")\n",
    "reward_ph = K.placeholder(shape=(None,),\n",
    "                                            name=\"reward\")\n",
    "\n",
    "action_prob = K.sum(action_prob_ph * action_onehot_ph, axis=1)\n",
    "log_action_prob = K.log(action_prob)\n",
    "\n",
    "loss = - log_action_prob * reward_ph\n",
    "loss = K.mean(loss)\n",
    "\n",
    "adam = optimizers.Adam(clipvalue=0.5)\n",
    "\n",
    "updates = adam.get_updates(params=model.trainable_weights,\n",
    "                           #constraints=[],\n",
    "                           loss=loss)\n",
    "\n",
    "train_fn = K.function(inputs=[model.input[0],\n",
    "                                    model.input[1],\n",
    "                                   action_onehot_ph,\n",
    "                                   reward_ph],\n",
    "                           outputs=[loss, action_onehot_ph+1, action_prob_ph, action_prob, log_action_prob, reward_ph+1], updates=updates)\n",
    "\n",
    "model.compile(optimizer=adam, loss='categorical_crossentropy')"
   ]
  },
  {
   "cell_type": "code",
   "execution_count": 11,
   "metadata": {},
   "outputs": [
    {
     "name": "stdout",
     "output_type": "stream",
     "text": [
      "__________________________________________________________________________________________________\n",
      "Layer (type)                    Output Shape         Param #     Connected to                     \n",
      "==================================================================================================\n",
      "input_7 (InputLayer)            (None, 7)            0                                            \n",
      "__________________________________________________________________________________________________\n",
      "embedding_1 (Embedding)         (None, 7, 4)         212         input_7[0][0]                    \n",
      "__________________________________________________________________________________________________\n",
      "input_8 (InputLayer)            (None, 13)           0                                            \n",
      "__________________________________________________________________________________________________\n",
      "flatten_1 (Flatten)             (None, 28)           0           embedding_1[0][0]                \n",
      "__________________________________________________________________________________________________\n",
      "concatenate_1 (Concatenate)     (None, 41)           0           input_8[0][0]                    \n",
      "                                                                 flatten_1[0][0]                  \n",
      "__________________________________________________________________________________________________\n",
      "batch_normalization_v1_3 (Batch (None, 41)           164         concatenate_1[0][0]              \n",
      "__________________________________________________________________________________________________\n",
      "dense_3 (Dense)                 (None, 64)           2688        batch_normalization_v1_3[0][0]   \n",
      "__________________________________________________________________________________________________\n",
      "batch_normalization_v1_4 (Batch (None, 64)           256         dense_3[0][0]                    \n",
      "__________________________________________________________________________________________________\n",
      "dense_4 (Dense)                 (None, 32)           2080        batch_normalization_v1_4[0][0]   \n",
      "__________________________________________________________________________________________________\n",
      "batch_normalization_v1_5 (Batch (None, 32)           128         dense_4[0][0]                    \n",
      "__________________________________________________________________________________________________\n",
      "dense_5 (Dense)                 (None, 3)            99          batch_normalization_v1_5[0][0]   \n",
      "==================================================================================================\n",
      "Total params: 5,627\n",
      "Trainable params: 5,353\n",
      "Non-trainable params: 274\n",
      "__________________________________________________________________________________________________\n"
     ]
    }
   ],
   "source": [
    "model.summary()"
   ]
  },
  {
   "cell_type": "code",
   "execution_count": 13,
   "metadata": {},
   "outputs": [
    {
     "data": {
      "text/plain": [
       "<tf.Tensor 'dense_5/Softmax:0' shape=(?, 3) dtype=float32>"
      ]
     },
     "execution_count": 13,
     "metadata": {},
     "output_type": "execute_result"
    }
   ],
   "source": [
    "model.output()"
   ]
  },
  {
   "cell_type": "code",
   "execution_count": null,
   "metadata": {},
   "outputs": [],
   "source": []
  }
 ],
 "metadata": {
  "kernelspec": {
   "display_name": "Python 3",
   "language": "python",
   "name": "python3"
  },
  "language_info": {
   "codemirror_mode": {
    "name": "ipython",
    "version": 3
   },
   "file_extension": ".py",
   "mimetype": "text/x-python",
   "name": "python",
   "nbconvert_exporter": "python",
   "pygments_lexer": "ipython3",
   "version": "3.7.3"
  }
 },
 "nbformat": 4,
 "nbformat_minor": 2
}
