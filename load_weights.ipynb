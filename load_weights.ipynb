{
 "cells": [
  {
   "cell_type": "code",
   "execution_count": 1,
   "metadata": {},
   "outputs": [],
   "source": [
    "import os"
   ]
  },
  {
   "cell_type": "code",
   "execution_count": 6,
   "metadata": {},
   "outputs": [
    {
     "data": {
      "text/plain": [
       "['weights_2019-08-13-17:00.h5',\n",
       " 'weights_2019-08-13-17:00.json',\n",
       " 'weights_2019-08-13-17:05.h5',\n",
       " 'weights_2019-08-13-17:05.json',\n",
       " 'weights_2019-08-13-17:12.h5',\n",
       " 'weights_2019-08-13-17:12.json',\n",
       " 'weights_2019-08-13-17:26.h5',\n",
       " 'weights_2019-08-13-17:26.json',\n",
       " 'weights_2019-08-13-17:27.h5',\n",
       " 'weights_2019-08-13-17:27.json',\n",
       " 'weights_2019-08-13-17:30.h5',\n",
       " 'weights_2019-08-13-17:30.json',\n",
       " 'weights_2019-08-13-17:31.h5',\n",
       " 'weights_2019-08-13-17:31.json',\n",
       " 'weights_2019-08-13-17:32.h5',\n",
       " 'weights_2019-08-13-17:32.json',\n",
       " 'weights_2019-08-13-17:33.h5',\n",
       " 'weights_2019-08-13-17:33.json',\n",
       " 'weights_2019-08-13-17:35.h5',\n",
       " 'weights_2019-08-13-17:35.json',\n",
       " 'weights_2019-08-13-17:36.h5',\n",
       " 'weights_2019-08-13-17:36.json',\n",
       " 'weights_2019-08-13-17:41.h5',\n",
       " 'weights_2019-08-13-17:41.json',\n",
       " 'weights_2019-08-13-18:26.h5',\n",
       " 'weights_2019-08-13-18:26.json',\n",
       " 'weights_2019-08-13-18:27.h5',\n",
       " 'weights_2019-08-13-18:27.json',\n",
       " 'weights_2019-08-13-18:28.h5',\n",
       " 'weights_2019-08-13-18:28.json',\n",
       " 'weights_2019-08-13-18:51.h5',\n",
       " 'weights_2019-08-13-18:51.json',\n",
       " 'weights_2019-08-13-18:53.h5',\n",
       " 'weights_2019-08-13-18:53.json',\n",
       " 'weights_2019-08-13-18:59.h5',\n",
       " 'weights_2019-08-13-18:59.json',\n",
       " 'weights_2019-08-13-19:00.h5',\n",
       " 'weights_2019-08-13-19:00.json',\n",
       " 'weights_2019-08-13-19:03.h5',\n",
       " 'weights_2019-08-13-19:03.json',\n",
       " 'weights_2019-08-13-19:04.h5',\n",
       " 'weights_2019-08-13-19:04.json',\n",
       " 'weights_2019-08-13-19:35.h5',\n",
       " 'weights_2019-08-13-19:35.json',\n",
       " 'weights_2019-08-13-19:37.h5',\n",
       " 'weights_2019-08-13-19:37.json',\n",
       " 'weights_2019-08-13-19:58.h5',\n",
       " 'weights_2019-08-13-19:58.json',\n",
       " 'weights_2019-08-14-00:24.h5',\n",
       " 'weights_2019-08-14-00:24.json']"
      ]
     },
     "execution_count": 6,
     "metadata": {},
     "output_type": "execute_result"
    }
   ],
   "source": [
    "sorted(os.listdir('./weights'))"
   ]
  },
  {
   "cell_type": "code",
   "execution_count": null,
   "metadata": {},
   "outputs": [],
   "source": []
  }
 ],
 "metadata": {
  "kernelspec": {
   "display_name": "Python 3",
   "language": "python",
   "name": "python3"
  },
  "language_info": {
   "codemirror_mode": {
    "name": "ipython",
    "version": 3
   },
   "file_extension": ".py",
   "mimetype": "text/x-python",
   "name": "python",
   "nbconvert_exporter": "python",
   "pygments_lexer": "ipython3",
   "version": "3.7.3"
  }
 },
 "nbformat": 4,
 "nbformat_minor": 2
}
