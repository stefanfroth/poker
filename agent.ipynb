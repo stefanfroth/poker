{
 "cells": [
  {
   "cell_type": "code",
   "execution_count": 2,
   "metadata": {},
   "outputs": [],
   "source": [
    "import itertools\n",
    "import pandas as pd\n",
    "import sqlalchemy as sqa\n",
    "import numpy as np\n",
    "from tensorflow.keras import models, layers\n",
    "from tensorflow.keras.layers import Input\n",
    "\n",
    "DB = f'postgres://localhost/{\"poker\"}'\n",
    "ENGINE = sqa.create_engine(DB)\n",
    "\n",
    "max_features = 53\n",
    "max_len = 7\n",
    "vector_size = 4"
   ]
  },
  {
   "cell_type": "code",
   "execution_count": 3,
   "metadata": {},
   "outputs": [],
   "source": [
    "df = pd.read_sql_table(\"results\", con=ENGINE)"
   ]
  },
  {
   "cell_type": "code",
   "execution_count": 4,
   "metadata": {},
   "outputs": [],
   "source": [
    "y = np.array(df['action'])"
   ]
  },
  {
   "cell_type": "code",
   "execution_count": 5,
   "metadata": {},
   "outputs": [
    {
     "data": {
      "text/plain": [
       "array([[33., 15.,  0., ...,  0.,  0.,  0.],\n",
       "       [20., 47.,  0., ...,  0.,  0.,  0.],\n",
       "       [22.,  4.,  0., ...,  0.,  0.,  0.],\n",
       "       ...,\n",
       "       [27., 15., 17., ..., 22.,  1.,  0.],\n",
       "       [ 8., 47., 17., ..., 22.,  1.,  0.],\n",
       "       [27., 15., 17., ..., 22.,  1.,  0.]])"
      ]
     },
     "execution_count": 5,
     "metadata": {},
     "output_type": "execute_result"
    }
   ],
   "source": [
    "cards = np.array(df[['hand1', 'hand2', 'community1', 'community2', 'community3', 'community4', 'community5']].loc[0])\n",
    "for i in range(1, df.shape[0]):\n",
    "    cards = np.vstack((cards, np.array(df[['hand1', 'hand2', 'community1', 'community2', 'community3', 'community4', 'community5']].loc[i])))\n",
    "cards"
   ]
  },
  {
   "cell_type": "code",
   "execution_count": 6,
   "metadata": {},
   "outputs": [
    {
     "data": {
      "text/plain": [
       "(201, 7)"
      ]
     },
     "execution_count": 6,
     "metadata": {},
     "output_type": "execute_result"
    }
   ],
   "source": [
    "cards.shape"
   ]
  },
  {
   "cell_type": "code",
   "execution_count": 16,
   "metadata": {},
   "outputs": [
    {
     "data": {
      "text/plain": [
       "array([33., 15.,  0.,  0.,  0.,  0.,  0.])"
      ]
     },
     "execution_count": 16,
     "metadata": {},
     "output_type": "execute_result"
    }
   ],
   "source": [
    "cards[0]"
   ]
  },
  {
   "cell_type": "code",
   "execution_count": 7,
   "metadata": {},
   "outputs": [
    {
     "data": {
      "text/plain": [
       "array([[2.0e+00, 1.0e+00, 1.0e+00, ..., 0.0e+00, 0.0e+00, 0.0e+00],\n",
       "       [3.0e+00, 1.0e+00, 1.0e+00, ..., 0.0e+00, 0.0e+00, 0.0e+00],\n",
       "       [4.0e+00, 1.0e+00, 1.0e+00, ..., 0.0e+00, 0.0e+00, 0.0e+00],\n",
       "       ...,\n",
       "       [2.0e+00, 3.0e+00, 1.0e+00, ..., 4.0e+02, 8.0e+02, 1.8e+03],\n",
       "       [0.0e+00, 3.0e+00, 0.0e+00, ..., 4.0e+02, 8.0e+02, 1.8e+03],\n",
       "       [2.0e+00, 3.0e+00, 1.0e+00, ..., 4.0e+02, 8.0e+02, 1.8e+03]])"
      ]
     },
     "execution_count": 7,
     "metadata": {},
     "output_type": "execute_result"
    }
   ],
   "source": [
    "rest = np.array(df[['position', 'round', 'active_0', 'active_1', 'active_2', 'active_3', 'active_4', 'bid', 'bid_0', 'bid_1', 'bid_2', 'bid_3', 'bid_4']].loc[0])\n",
    "for i in range(1, df.shape[0]):\n",
    "    rest = np.vstack((rest, np.array(df[['position', 'round', 'active_0', 'active_1', 'active_2', 'active_3', 'active_4', 'bid', 'bid_0', 'bid_1', 'bid_2', 'bid_3', 'bid_4']].loc[i])))\n",
    "rest"
   ]
  },
  {
   "cell_type": "code",
   "execution_count": 8,
   "metadata": {},
   "outputs": [
    {
     "data": {
      "text/plain": [
       "(201, 13)"
      ]
     },
     "execution_count": 8,
     "metadata": {},
     "output_type": "execute_result"
    }
   ],
   "source": [
    "rest.shape"
   ]
  },
  {
   "cell_type": "markdown",
   "metadata": {},
   "source": [
    "Create a model:"
   ]
  },
  {
   "cell_type": "code",
   "execution_count": 9,
   "metadata": {},
   "outputs": [
    {
     "name": "stderr",
     "output_type": "stream",
     "text": [
      "WARNING: Logging before flag parsing goes to stderr.\n",
      "W0810 18:12:26.426512 4744574400 deprecation.py:506] From /Users/stefanroth/anaconda3/envs/poker/lib/python3.7/site-packages/tensorflow/python/keras/initializers.py:119: calling RandomUniform.__init__ (from tensorflow.python.ops.init_ops) with dtype is deprecated and will be removed in a future version.\n",
      "Instructions for updating:\n",
      "Call initializer instance with the dtype argument instead of passing it to the constructor\n",
      "W0810 18:12:26.462013 4744574400 deprecation.py:506] From /Users/stefanroth/anaconda3/envs/poker/lib/python3.7/site-packages/tensorflow/python/ops/init_ops.py:1251: calling VarianceScaling.__init__ (from tensorflow.python.ops.init_ops) with dtype is deprecated and will be removed in a future version.\n",
      "Instructions for updating:\n",
      "Call initializer instance with the dtype argument instead of passing it to the constructor\n"
     ]
    }
   ],
   "source": [
    "# Card embeddings\n",
    "card_input = Input(shape=cards.shape[1])\n",
    "card_output = layers.Embedding(max_features, vector_size, input_length=max_len)(card_input)\n",
    "card_output = layers.Flatten()(card_output)\n",
    "\n",
    "# Other information\n",
    "state_input = Input(shape=rest.shape[1])\n",
    "\n",
    "#Merge and add dense layer\n",
    "merge_layer = layers.concatenate([state_input, card_output])\n",
    "x = layers.Dense(64, activation='relu')(merge_layer)\n",
    "x = layers.Dense(32, activation='relu')(x)\n",
    "main_output = layers.Dense(3, activation='softmax')(x)\n",
    "\n",
    "# Define model with two inputs\n",
    "model = models.Model(inputs=[card_input, state_input], outputs=[main_output])\n",
    "\n",
    "model.compile(\n",
    "    optimizer='rmsprop',\n",
    "    loss='sparse_categorical_crossentropy',\n",
    "    metrics=['accuracy']\n",
    ")"
   ]
  },
  {
   "cell_type": "code",
   "execution_count": 26,
   "metadata": {},
   "outputs": [
    {
     "name": "stdout",
     "output_type": "stream",
     "text": [
      "Epoch 1/10\n",
      "201/201 [==============================] - 0s 223us/sample - loss: 14.8911 - acc: 0.5224\n",
      "Epoch 2/10\n",
      "201/201 [==============================] - 0s 230us/sample - loss: 11.9024 - acc: 0.5622\n",
      "Epoch 3/10\n",
      "201/201 [==============================] - 0s 178us/sample - loss: 13.8787 - acc: 0.5373\n",
      "Epoch 4/10\n",
      "201/201 [==============================] - 0s 193us/sample - loss: 9.2593 - acc: 0.6070\n",
      "Epoch 5/10\n",
      "201/201 [==============================] - 0s 198us/sample - loss: 9.2232 - acc: 0.6617\n",
      "Epoch 6/10\n",
      "201/201 [==============================] - 0s 206us/sample - loss: 9.7201 - acc: 0.6119\n",
      "Epoch 7/10\n",
      "201/201 [==============================] - 0s 218us/sample - loss: 10.1314 - acc: 0.6070\n",
      "Epoch 8/10\n",
      "201/201 [==============================] - 0s 236us/sample - loss: 8.6636 - acc: 0.6119\n",
      "Epoch 9/10\n",
      "201/201 [==============================] - 0s 214us/sample - loss: 11.0821 - acc: 0.5622\n",
      "Epoch 10/10\n",
      "201/201 [==============================] - 0s 197us/sample - loss: 8.8118 - acc: 0.6468\n"
     ]
    },
    {
     "data": {
      "text/plain": [
       "<tensorflow.python.keras.callbacks.History at 0x12fba21d0>"
      ]
     },
     "execution_count": 26,
     "metadata": {},
     "output_type": "execute_result"
    }
   ],
   "source": [
    "model.fit([cards, rest], y, batch_size=10, epochs=10)"
   ]
  },
  {
   "cell_type": "code",
   "execution_count": 24,
   "metadata": {},
   "outputs": [
    {
     "data": {
      "text/plain": [
       "(7,)"
      ]
     },
     "execution_count": 24,
     "metadata": {},
     "output_type": "execute_result"
    }
   ],
   "source": [
    "cards[0].shape"
   ]
  },
  {
   "cell_type": "code",
   "execution_count": 22,
   "metadata": {},
   "outputs": [
    {
     "data": {
      "text/plain": [
       "[array([33., 15.,  0.,  0.,  0.,  0.,  0.]),\n",
       " array([  2.,   1.,   1.,   1.,   1.,   1.,   1.,   0., 100., 200.,   0.,\n",
       "          0.,   0.])]"
      ]
     },
     "execution_count": 22,
     "metadata": {},
     "output_type": "execute_result"
    }
   ],
   "source": [
    "[cards[0], rest[0]]"
   ]
  },
  {
   "cell_type": "code",
   "execution_count": 28,
   "metadata": {},
   "outputs": [
    {
     "data": {
      "text/plain": [
       "array([[1.00000000e+00, 9.47840286e-15, 2.83321147e-18],\n",
       "       [1.00000000e+00, 1.03631957e-14, 2.18358104e-18],\n",
       "       [1.00000000e+00, 9.78454090e-15, 1.50575802e-18],\n",
       "       [1.00000000e+00, 8.91378680e-15, 8.97898661e-19],\n",
       "       [1.00000000e+00, 2.11110729e-09, 4.43053016e-12],\n",
       "       [2.08673324e-22, 1.03473174e-10, 1.00000000e+00],\n",
       "       [2.42386333e-10, 6.01358414e-02, 9.39864159e-01],\n",
       "       [9.20188725e-08, 9.99998927e-01, 9.51850552e-07],\n",
       "       [6.32742058e-06, 9.99993682e-01, 2.83651547e-09]], dtype=float32)"
      ]
     },
     "execution_count": 28,
     "metadata": {},
     "output_type": "execute_result"
    }
   ],
   "source": [
    "model.predict([cards[0:9], rest[0:9]])"
   ]
  },
  {
   "cell_type": "code",
   "execution_count": null,
   "metadata": {},
   "outputs": [],
   "source": [
    "from keras.layers import Merge\n",
    "\n",
    "left_branch = Sequential()\n",
    "left_branch.add(layers.Embedding(max_features, vector_size, input_length=max_len))\n",
    "\n",
    "right_branch = Sequential()\n",
    "right_branch.add(Dense(32, input_dim=784))\n",
    "\n",
    "merged = Merge([left_branch, right_branch], mode='concat')\n",
    "\n",
    "final_model = Sequential()\n",
    "final_model.add(merged)\n",
    "final_model.add(Dense(10, activation='softmax'))"
   ]
  },
  {
   "cell_type": "code",
   "execution_count": 24,
   "metadata": {},
   "outputs": [
    {
     "name": "stderr",
     "output_type": "stream",
     "text": [
      "W0810 17:43:26.784821 4741285312 deprecation.py:506] From /Users/stefanroth/anaconda3/envs/poker/lib/python3.7/site-packages/tensorflow/python/ops/init_ops.py:1251: calling VarianceScaling.__init__ (from tensorflow.python.ops.init_ops) with dtype is deprecated and will be removed in a future version.\n",
      "Instructions for updating:\n",
      "Call initializer instance with the dtype argument instead of passing it to the constructor\n"
     ]
    },
    {
     "name": "stdout",
     "output_type": "stream",
     "text": [
      "Model: \"sequential\"\n",
      "_________________________________________________________________\n",
      "Layer (type)                 Output Shape              Param #   \n",
      "=================================================================\n",
      "embedding_4 (Embedding)      (None, 7, 4)              212       \n",
      "_________________________________________________________________\n",
      "flatten (Flatten)            (None, 28)                0         \n",
      "_________________________________________________________________\n",
      "dense (Dense)                (None, 1)                 29        \n",
      "=================================================================\n",
      "Total params: 241\n",
      "Trainable params: 241\n",
      "Non-trainable params: 0\n",
      "_________________________________________________________________\n"
     ]
    }
   ],
   "source": [
    "model = models.Sequential()\n",
    "\n",
    "model.add(layers.Embedding(\n",
    "    max_features, vector_size, input_length=max_len\n",
    "    # Number of distinct features, size of the word vector, input size\n",
    "                          ))\n",
    "state_input = Input(shape=rest.shape)\n",
    "\n",
    "model.add(layers.Flatten())\n",
    "model.add(layers.Dense(1, activation='softmax'))\n",
    "model.summary()\n",
    "\n",
    "model.compile(\n",
    "    optimizer='rmsprop',\n",
    "    loss='categorical_crossentropy',\n",
    "    metrics=['accuracy']\n",
    ")"
   ]
  },
  {
   "cell_type": "code",
   "execution_count": 103,
   "metadata": {},
   "outputs": [
    {
     "data": {
      "text/plain": [
       "Index(['index', 'action', 'active_0', 'active_1', 'active_2', 'active_3',\n",
       "       'active_4', 'bid', 'bid_0', 'bid_1', 'bid_2', 'bid_3', 'bid_4',\n",
       "       'community1', 'community2', 'community3', 'community4', 'community5',\n",
       "       'hand1', 'hand2', 'player', 'position', 'round', 'reward'],\n",
       "      dtype='object')"
      ]
     },
     "execution_count": 103,
     "metadata": {},
     "output_type": "execute_result"
    }
   ],
   "source": [
    "df.columns"
   ]
  },
  {
   "cell_type": "code",
   "execution_count": 10,
   "metadata": {},
   "outputs": [],
   "source": [
    "rest = df[['position', 'round', 'active_0', 'active_1', 'active_2', 'active_3', 'active_4', 'bid', 'bid_0', 'bid_1', 'bid_2', 'bid_3', 'bid_4'\\\n",
    "          , 'hand1', 'hand2', 'community1', 'community2', 'community3', 'community4', 'community5']]"
   ]
  },
  {
   "cell_type": "code",
   "execution_count": 14,
   "metadata": {},
   "outputs": [
    {
     "data": {
      "text/html": [
       "<div>\n",
       "<style scoped>\n",
       "    .dataframe tbody tr th:only-of-type {\n",
       "        vertical-align: middle;\n",
       "    }\n",
       "\n",
       "    .dataframe tbody tr th {\n",
       "        vertical-align: top;\n",
       "    }\n",
       "\n",
       "    .dataframe thead th {\n",
       "        text-align: right;\n",
       "    }\n",
       "</style>\n",
       "<table border=\"1\" class=\"dataframe\">\n",
       "  <thead>\n",
       "    <tr style=\"text-align: right;\">\n",
       "      <th></th>\n",
       "      <th>index</th>\n",
       "      <th>action</th>\n",
       "      <th>active_0</th>\n",
       "      <th>active_1</th>\n",
       "      <th>active_2</th>\n",
       "      <th>active_3</th>\n",
       "      <th>active_4</th>\n",
       "      <th>bid</th>\n",
       "      <th>bid_0</th>\n",
       "      <th>bid_1</th>\n",
       "      <th>...</th>\n",
       "      <th>community2</th>\n",
       "      <th>community3</th>\n",
       "      <th>community4</th>\n",
       "      <th>community5</th>\n",
       "      <th>hand1</th>\n",
       "      <th>hand2</th>\n",
       "      <th>player</th>\n",
       "      <th>position</th>\n",
       "      <th>round</th>\n",
       "      <th>reward</th>\n",
       "    </tr>\n",
       "  </thead>\n",
       "  <tbody>\n",
       "    <tr>\n",
       "      <th>0</th>\n",
       "      <td>0</td>\n",
       "      <td>4.0</td>\n",
       "      <td>1.0</td>\n",
       "      <td>1.0</td>\n",
       "      <td>1.0</td>\n",
       "      <td>1.0</td>\n",
       "      <td>1.0</td>\n",
       "      <td>200.0</td>\n",
       "      <td>100.0</td>\n",
       "      <td>200.0</td>\n",
       "      <td>...</td>\n",
       "      <td>999.0</td>\n",
       "      <td>999.0</td>\n",
       "      <td>999.0</td>\n",
       "      <td>999.0</td>\n",
       "      <td>25.0</td>\n",
       "      <td>22.0</td>\n",
       "      <td>2.0</td>\n",
       "      <td>2.0</td>\n",
       "      <td>1.0</td>\n",
       "      <td>-400.0</td>\n",
       "    </tr>\n",
       "    <tr>\n",
       "      <th>1</th>\n",
       "      <td>1</td>\n",
       "      <td>0.0</td>\n",
       "      <td>1.0</td>\n",
       "      <td>1.0</td>\n",
       "      <td>1.0</td>\n",
       "      <td>1.0</td>\n",
       "      <td>1.0</td>\n",
       "      <td>0.0</td>\n",
       "      <td>100.0</td>\n",
       "      <td>200.0</td>\n",
       "      <td>...</td>\n",
       "      <td>999.0</td>\n",
       "      <td>999.0</td>\n",
       "      <td>999.0</td>\n",
       "      <td>999.0</td>\n",
       "      <td>44.0</td>\n",
       "      <td>51.0</td>\n",
       "      <td>3.0</td>\n",
       "      <td>3.0</td>\n",
       "      <td>1.0</td>\n",
       "      <td>0.0</td>\n",
       "    </tr>\n",
       "    <tr>\n",
       "      <th>2</th>\n",
       "      <td>2</td>\n",
       "      <td>4.0</td>\n",
       "      <td>1.0</td>\n",
       "      <td>1.0</td>\n",
       "      <td>1.0</td>\n",
       "      <td>0.0</td>\n",
       "      <td>1.0</td>\n",
       "      <td>200.0</td>\n",
       "      <td>100.0</td>\n",
       "      <td>200.0</td>\n",
       "      <td>...</td>\n",
       "      <td>999.0</td>\n",
       "      <td>999.0</td>\n",
       "      <td>999.0</td>\n",
       "      <td>999.0</td>\n",
       "      <td>31.0</td>\n",
       "      <td>35.0</td>\n",
       "      <td>4.0</td>\n",
       "      <td>4.0</td>\n",
       "      <td>1.0</td>\n",
       "      <td>-1000.0</td>\n",
       "    </tr>\n",
       "    <tr>\n",
       "      <th>3</th>\n",
       "      <td>3</td>\n",
       "      <td>5.0</td>\n",
       "      <td>1.0</td>\n",
       "      <td>1.0</td>\n",
       "      <td>1.0</td>\n",
       "      <td>0.0</td>\n",
       "      <td>1.0</td>\n",
       "      <td>400.0</td>\n",
       "      <td>100.0</td>\n",
       "      <td>200.0</td>\n",
       "      <td>...</td>\n",
       "      <td>999.0</td>\n",
       "      <td>999.0</td>\n",
       "      <td>999.0</td>\n",
       "      <td>999.0</td>\n",
       "      <td>11.0</td>\n",
       "      <td>42.0</td>\n",
       "      <td>5.0</td>\n",
       "      <td>5.0</td>\n",
       "      <td>1.0</td>\n",
       "      <td>-1600.0</td>\n",
       "    </tr>\n",
       "    <tr>\n",
       "      <th>4</th>\n",
       "      <td>4</td>\n",
       "      <td>4.0</td>\n",
       "      <td>1.0</td>\n",
       "      <td>1.0</td>\n",
       "      <td>0.0</td>\n",
       "      <td>1.0</td>\n",
       "      <td>1.0</td>\n",
       "      <td>400.0</td>\n",
       "      <td>200.0</td>\n",
       "      <td>200.0</td>\n",
       "      <td>...</td>\n",
       "      <td>999.0</td>\n",
       "      <td>999.0</td>\n",
       "      <td>999.0</td>\n",
       "      <td>999.0</td>\n",
       "      <td>0.0</td>\n",
       "      <td>8.0</td>\n",
       "      <td>0.0</td>\n",
       "      <td>0.0</td>\n",
       "      <td>1.0</td>\n",
       "      <td>-2000.0</td>\n",
       "    </tr>\n",
       "  </tbody>\n",
       "</table>\n",
       "<p>5 rows × 24 columns</p>\n",
       "</div>"
      ],
      "text/plain": [
       "   index  action  active_0  active_1  active_2  active_3  active_4    bid  \\\n",
       "0      0     4.0       1.0       1.0       1.0       1.0       1.0  200.0   \n",
       "1      1     0.0       1.0       1.0       1.0       1.0       1.0    0.0   \n",
       "2      2     4.0       1.0       1.0       1.0       0.0       1.0  200.0   \n",
       "3      3     5.0       1.0       1.0       1.0       0.0       1.0  400.0   \n",
       "4      4     4.0       1.0       1.0       0.0       1.0       1.0  400.0   \n",
       "\n",
       "   bid_0  bid_1  ...  community2  community3  community4  community5  hand1  \\\n",
       "0  100.0  200.0  ...       999.0       999.0       999.0       999.0   25.0   \n",
       "1  100.0  200.0  ...       999.0       999.0       999.0       999.0   44.0   \n",
       "2  100.0  200.0  ...       999.0       999.0       999.0       999.0   31.0   \n",
       "3  100.0  200.0  ...       999.0       999.0       999.0       999.0   11.0   \n",
       "4  200.0  200.0  ...       999.0       999.0       999.0       999.0    0.0   \n",
       "\n",
       "   hand2  player  position  round  reward  \n",
       "0   22.0     2.0       2.0    1.0  -400.0  \n",
       "1   51.0     3.0       3.0    1.0     0.0  \n",
       "2   35.0     4.0       4.0    1.0 -1000.0  \n",
       "3   42.0     5.0       5.0    1.0 -1600.0  \n",
       "4    8.0     0.0       0.0    1.0 -2000.0  \n",
       "\n",
       "[5 rows x 24 columns]"
      ]
     },
     "execution_count": 14,
     "metadata": {},
     "output_type": "execute_result"
    }
   ],
   "source": [
    "df.head()"
   ]
  },
  {
   "cell_type": "code",
   "execution_count": 86,
   "metadata": {},
   "outputs": [],
   "source": [
    "class Agent:\n",
    "    '''\n",
    "    The class Agent takes the following parameters as input:\n",
    "    \n",
    "    and uses them to decide on his action in a specified game of poker\n",
    "    '''\n",
    "    \n",
    "    def __init__(self, df):\n",
    "        self.dataframe = df\n",
    "        self.input_card_embedding = \"\"\n",
    "        self.input_state = \"\"\n",
    "        self.rewards = df[['action', 'reward']]\n",
    "    \n",
    "    def create_embedding_input(self):\n",
    "        '''\n",
    "        The function create_embedding_input creates the input for the embedding of the card vectors\n",
    "        '''\n",
    "        cards = np.array(self.dataframe[['hand1', 'hand2', 'community1', 'community2', 'community3', 'community4', 'community5']].loc[0])\n",
    "        for i in range(1, df.shape[0]):\n",
    "            cards = np.vstack((cards, np.array(self.dataframe[['hand1', 'hand2', 'community1', 'community2', 'community3', 'community4', 'community5']].loc[i])))\n",
    "        \n",
    "        self.input_card_embedding = cards\n",
    "        \n",
    "    \n",
    "    def create_state_input(self):\n",
    "        '''\n",
    "        The function create_state_input creates the input for the neural network apart from the card embeddings\n",
    "        '''\n",
    "        state = np.array(df[['position', 'round', 'active_0', 'active_1', 'active_2', 'active_3', 'active_4', 'bid', 'bid_0', 'bid_1', 'bid_2', 'bid_3', 'bid_4'\\\n",
    "          , 'hand1', 'hand2', 'community1', 'community2', 'community3', 'community4', 'community5']].loc[0])\n",
    "        for i in range(1, df.shape[0]):\n",
    "            state = np.vstack((rest, np.array(df[['position', 'round', 'active_0', 'active_1', 'active_2', 'active_3', 'active_4', 'bid', 'bid_0', 'bid_1', 'bid_2', 'bid_3', 'bid_4'\\\n",
    "                  , 'hand1', 'hand2', 'community1', 'community2', 'community3', 'community4', 'community5']].loc[i])))\n",
    "        \n",
    "        self.input_state = rest\n",
    "        "
   ]
  },
  {
   "cell_type": "code",
   "execution_count": 87,
   "metadata": {},
   "outputs": [],
   "source": [
    "agent = Agent(df)"
   ]
  },
  {
   "cell_type": "code",
   "execution_count": 88,
   "metadata": {},
   "outputs": [],
   "source": [
    "agent.create_embedding_input()"
   ]
  },
  {
   "cell_type": "code",
   "execution_count": 89,
   "metadata": {},
   "outputs": [
    {
     "data": {
      "text/plain": [
       "array([[ 25.,  22., 999., ..., 999., 999., 999.],\n",
       "       [ 44.,  51., 999., ..., 999., 999., 999.],\n",
       "       [ 31.,  35., 999., ..., 999., 999., 999.],\n",
       "       ...,\n",
       "       [ 49.,  34., 999., ..., 999., 999., 999.],\n",
       "       [ 31.,  46., 999., ..., 999., 999., 999.],\n",
       "       [  8.,   1., 999., ..., 999., 999., 999.]])"
      ]
     },
     "execution_count": 89,
     "metadata": {},
     "output_type": "execute_result"
    }
   ],
   "source": [
    "agent.input_card_embedding"
   ]
  },
  {
   "cell_type": "code",
   "execution_count": 4,
   "metadata": {},
   "outputs": [
    {
     "data": {
      "text/plain": [
       "(25.0, 51.0)"
      ]
     },
     "execution_count": 4,
     "metadata": {},
     "output_type": "execute_result"
    }
   ],
   "source": [
    "df.hand1[0], df.hand2[1]"
   ]
  },
  {
   "cell_type": "code",
   "execution_count": null,
   "metadata": {},
   "outputs": [],
   "source": []
  },
  {
   "cell_type": "markdown",
   "metadata": {},
   "source": [
    "Let us look at the community cards:"
   ]
  },
  {
   "cell_type": "code",
   "execution_count": 8,
   "metadata": {},
   "outputs": [
    {
     "name": "stdout",
     "output_type": "stream",
     "text": [
      "{\"(q,c)\",\"(5,d)\",\"(7,c)\"}\n",
      "{\"(q,c)\",\"(5,d)\",\"(7,c)\"}\n",
      "{\"(q,c)\",\"(5,d)\",\"(7,c)\",\"(j,d)\"}\n",
      "{\"(q,c)\",\"(5,d)\",\"(7,c)\",\"(j,d)\"}\n",
      "{\"(q,c)\",\"(5,d)\",\"(7,c)\",\"(j,d)\"}\n",
      "{\"(3,d)\",\"(t,h)\",\"(a,c)\"}\n",
      "{\"(3,d)\",\"(t,h)\",\"(a,c)\"}\n",
      "{\"(3,d)\",\"(t,h)\",\"(a,c)\",\"(q,c)\"}\n",
      "{\"(3,d)\",\"(t,h)\",\"(a,c)\",\"(q,c)\"}\n",
      "{\"(3,h)\",\"(7,s)\",\"(9,c)\"}\n",
      "{\"(3,h)\",\"(7,s)\",\"(9,c)\"}\n",
      "{\"(3,h)\",\"(7,s)\",\"(9,c)\"}\n",
      "{\"(3,h)\",\"(7,s)\",\"(9,c)\"}\n",
      "{\"(3,h)\",\"(7,s)\",\"(9,c)\"}\n",
      "{\"(3,h)\",\"(7,s)\",\"(9,c)\"}\n",
      "{\"(3,h)\",\"(7,s)\",\"(9,c)\"}\n",
      "{\"(3,h)\",\"(7,s)\",\"(9,c)\"}\n",
      "{\"(3,h)\",\"(7,s)\",\"(9,c)\"}\n",
      "{\"(3,h)\",\"(7,s)\",\"(9,c)\"}\n",
      "{\"(3,h)\",\"(7,s)\",\"(9,c)\"}\n",
      "{\"(3,h)\",\"(7,s)\",\"(9,c)\"}\n",
      "{\"(3,h)\",\"(7,s)\",\"(9,c)\"}\n",
      "{\"(3,h)\",\"(7,s)\",\"(9,c)\"}\n",
      "{\"(3,h)\",\"(7,s)\",\"(9,c)\"}\n",
      "{\"(3,h)\",\"(7,s)\",\"(9,c)\",\"(k,d)\"}\n",
      "{\"(3,h)\",\"(7,s)\",\"(9,c)\",\"(k,d)\"}\n",
      "{\"(3,h)\",\"(7,s)\",\"(9,c)\",\"(k,d)\"}\n",
      "{\"(3,h)\",\"(7,s)\",\"(9,c)\",\"(k,d)\"}\n",
      "{\"(3,h)\",\"(7,s)\",\"(9,c)\",\"(k,d)\"}\n",
      "{\"(3,h)\",\"(2,c)\",\"(4,h)\"}\n",
      "{\"(3,h)\",\"(2,c)\",\"(4,h)\"}\n",
      "{\"(3,h)\",\"(2,c)\",\"(4,h)\",\"(a,c)\"}\n",
      "{\"(3,h)\",\"(2,c)\",\"(4,h)\",\"(a,c)\"}\n",
      "{\"(k,d)\",\"(2,c)\",\"(5,d)\"}\n",
      "{\"(k,d)\",\"(2,c)\",\"(5,d)\"}\n",
      "{\"(k,d)\",\"(2,c)\",\"(5,d)\"}\n",
      "{\"(8,d)\",\"(4,c)\",\"(q,d)\"}\n",
      "{\"(8,d)\",\"(4,c)\",\"(q,d)\"}\n",
      "{\"(8,d)\",\"(4,c)\",\"(q,d)\",\"(3,d)\"}\n",
      "{\"(8,d)\",\"(4,c)\",\"(q,d)\",\"(3,d)\"}\n",
      "{\"(8,d)\",\"(4,c)\",\"(q,d)\",\"(3,d)\",\"(3,h)\"}\n",
      "{\"(8,d)\",\"(4,c)\",\"(q,d)\",\"(3,d)\",\"(3,h)\"}\n"
     ]
    }
   ],
   "source": [
    "for i in range(df.shape[0]):\n",
    "    if len(df.community[i]) > 2:\n",
    "        print(df.community[i])"
   ]
  },
  {
   "cell_type": "code",
   "execution_count": null,
   "metadata": {},
   "outputs": [],
   "source": []
  }
 ],
 "metadata": {
  "kernelspec": {
   "display_name": "Python 3",
   "language": "python",
   "name": "python3"
  },
  "language_info": {
   "codemirror_mode": {
    "name": "ipython",
    "version": 3
   },
   "file_extension": ".py",
   "mimetype": "text/x-python",
   "name": "python",
   "nbconvert_exporter": "python",
   "pygments_lexer": "ipython3",
   "version": "3.7.3"
  }
 },
 "nbformat": 4,
 "nbformat_minor": 2
}
