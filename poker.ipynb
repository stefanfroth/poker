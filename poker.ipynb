{
 "cells": [
  {
   "cell_type": "markdown",
   "metadata": {},
   "source": [
    "# Does the poker code run?"
   ]
  },
  {
   "cell_type": "code",
   "execution_count": 31,
   "metadata": {},
   "outputs": [
    {
     "data": {
      "text/html": [
       "<div>\n",
       "<style scoped>\n",
       "    .dataframe tbody tr th:only-of-type {\n",
       "        vertical-align: middle;\n",
       "    }\n",
       "\n",
       "    .dataframe tbody tr th {\n",
       "        vertical-align: top;\n",
       "    }\n",
       "\n",
       "    .dataframe thead th {\n",
       "        text-align: right;\n",
       "    }\n",
       "</style>\n",
       "<table border=\"1\" class=\"dataframe\">\n",
       "  <thead>\n",
       "    <tr style=\"text-align: right;\">\n",
       "      <th></th>\n",
       "      <th>1</th>\n",
       "      <th>2</th>\n",
       "    </tr>\n",
       "  </thead>\n",
       "  <tbody>\n",
       "    <tr>\n",
       "      <th>0</th>\n",
       "      <td>1.0</td>\n",
       "      <td>2.0</td>\n",
       "    </tr>\n",
       "  </tbody>\n",
       "</table>\n",
       "</div>"
      ],
      "text/plain": [
       "     1    2\n",
       "0  1.0  2.0"
      ]
     },
     "execution_count": 31,
     "metadata": {},
     "output_type": "execute_result"
    }
   ],
   "source": [
    "df = df.append({'1': 1, '2': 2}, ignore_index=True)\n",
    "df"
   ]
  },
  {
   "cell_type": "code",
   "execution_count": 32,
   "metadata": {},
   "outputs": [],
   "source": [
    "d = {}\n",
    "d['name'] = 1"
   ]
  },
  {
   "cell_type": "code",
   "execution_count": 35,
   "metadata": {},
   "outputs": [
    {
     "data": {
      "text/plain": [
       "1"
      ]
     },
     "execution_count": 35,
     "metadata": {},
     "output_type": "execute_result"
    }
   ],
   "source": [
    "d['name']"
   ]
  },
  {
   "cell_type": "code",
   "execution_count": 2,
   "metadata": {},
   "outputs": [],
   "source": [
    "import pandas as pd"
   ]
  },
  {
   "cell_type": "code",
   "execution_count": 1,
   "metadata": {},
   "outputs": [],
   "source": [
    "from poker import Card, Evaluator, Player, Game"
   ]
  },
  {
   "cell_type": "code",
   "execution_count": 2,
   "metadata": {},
   "outputs": [],
   "source": [
    "g = Game(6, 100, 10000) "
   ]
  },
  {
   "cell_type": "code",
   "execution_count": 3,
   "metadata": {},
   "outputs": [
    {
     "name": "stdout",
     "output_type": "stream",
     "text": [
      "The order is [0, 1, 2, 3, 4, 5]\n",
      "1's hand is [('3', '♥'), ('10', '♦')] \n",
      "2's hand is [('9', '♥'), ('2', '♣')] \n",
      "3's hand is [('8', '♣'), ('j', '♣')] \n",
      "4's hand is [('j', '♠'), ('9', '♦')] \n",
      "5's hand is [('a', '♥'), ('6', '♥')] \n",
      "6's hand is [('9', '♠'), ('5', '♠')] \n",
      "Player 1: I have bet the small blind of $100!\n",
      "Player 2: I have bet the big blind of $200!\n",
      "Player 3: I think I can win this game. I am calling!\n",
      "Player 3: I have 4 and am betting $200!\n",
      "The row {'player': 2, 'position': 0, 'round': 1, 'action': 4, 'bid': 200, 'hand': [('8', '♣'), ('j', '♣')], 'community': [], 'bid_0': 100, 'active_0': 1, 'bid_1': 200, 'active_1': 1, 'bid_2': 0, 'active_2': 1, 'bid_3': 0, 'active_3': 1, 'bid_4': 0, 'active_4': 1} will be added to the output frame\n",
      "Player 4: I have 5 and am betting $400!\n",
      "The row {'player': 3, 'position': 1, 'round': 1, 'action': 5, 'bid': 400, 'hand': [('j', '♠'), ('9', '♦')], 'community': [], 'bid_0': 100, 'active_0': 1, 'bid_1': 200, 'active_1': 1, 'bid_2': 200, 'active_2': 1, 'bid_3': 0, 'active_3': 1, 'bid_4': 0, 'active_4': 1} will be added to the output frame\n",
      "Player 5: My cards are sh..! I fold!\n",
      "Player 5: I have 0 and am betting $0!\n",
      "The row {'player': 4, 'position': 2, 'round': 1, 'action': 0, 'bid': 0, 'hand': [('a', '♥'), ('6', '♥')], 'community': [], 'bid_0': 100, 'active_0': 1, 'bid_1': 200, 'active_1': 1, 'bid_2': 200, 'active_2': 1, 'bid_3': 400, 'active_3': 1, 'bid_4': 0, 'active_4': 1} will be added to the output frame\n",
      "Player 6: I think I can win this game. I am calling!\n",
      "Player 6: I have 4 and am betting $400!\n",
      "The row {'player': 5, 'position': 3, 'round': 1, 'action': 4, 'bid': 400, 'hand': [('9', '♠'), ('5', '♠')], 'community': [], 'bid_0': 100, 'active_0': 1, 'bid_1': 200, 'active_1': 1, 'bid_2': 200, 'active_2': 1, 'bid_3': 400, 'active_3': 1, 'bid_4': 0, 'active_4': 0} will be added to the output frame\n",
      "entered while loop\n",
      "entered for loop\n",
      "The highest bid is 400\n",
      "Player 1: I have 5 and am betting $600!\n",
      "The row {'player': 0, 'position': 0, 'round': 1, 'action': 5, 'bid': 600, 'hand': [('3', '♥'), ('10', '♦')], 'community': [], 'bid_0': 200, 'active_0': 1, 'bid_1': 200, 'active_1': 1, 'bid_2': 400, 'active_2': 1, 'bid_3': 0, 'active_3': 0, 'bid_4': 400, 'active_4': 1} will be added to the output frame\n",
      "entered for loop\n",
      "The highest bid is 600\n",
      "Player 2: I think I can win this game. I am calling!\n",
      "Player 2: I have 4 and am betting $600!\n",
      "The row {'player': 1, 'position': 1, 'round': 1, 'action': 4, 'bid': 600, 'hand': [('9', '♥'), ('2', '♣')], 'community': [], 'bid_0': 600, 'active_0': 1, 'bid_1': 200, 'active_1': 1, 'bid_2': 400, 'active_2': 1, 'bid_3': 0, 'active_3': 0, 'bid_4': 400, 'active_4': 1} will be added to the output frame\n",
      "entered for loop\n",
      "The highest bid is 600\n",
      "Player 3: I have 5 and am betting $800!\n",
      "The row {'player': 2, 'position': 2, 'round': 1, 'action': 5, 'bid': 800, 'hand': [('8', '♣'), ('j', '♣')], 'community': [], 'bid_0': 600, 'active_0': 1, 'bid_1': 600, 'active_1': 1, 'bid_2': 400, 'active_2': 1, 'bid_3': 0, 'active_3': 0, 'bid_4': 400, 'active_4': 1} will be added to the output frame\n",
      "entered for loop\n",
      "The highest bid is 800\n",
      "Player 4: I think I can win this game. I am calling!\n",
      "Player 4: I have 4 and am betting $800!\n",
      "The row {'player': 3, 'position': 3, 'round': 1, 'action': 4, 'bid': 800, 'hand': [('j', '♠'), ('9', '♦')], 'community': [], 'bid_0': 600, 'active_0': 1, 'bid_1': 600, 'active_1': 1, 'bid_2': 800, 'active_2': 1, 'bid_3': 0, 'active_3': 0, 'bid_4': 400, 'active_4': 1} will be added to the output frame\n",
      "entered for loop\n",
      "entered for loop\n",
      "The highest bid is 800\n",
      "Player 6: My cards are sh..! I fold!\n",
      "Player 6: I have 0 and am betting $400!\n",
      "The row {'player': 5, 'position': 5, 'round': 1, 'action': 0, 'bid': 400, 'hand': [('9', '♠'), ('5', '♠')], 'community': [], 'bid_0': 600, 'active_0': 1, 'bid_1': 600, 'active_1': 1, 'bid_2': 800, 'active_2': 1, 'bid_3': 800, 'active_3': 1, 'bid_4': 0, 'active_4': 0} will be added to the output frame\n",
      "entered while loop\n",
      "entered for loop\n",
      "The highest bid is 800\n",
      "Player 1: I have 5 and am betting $1000!\n",
      "The row {'player': 0, 'position': 0, 'round': 1, 'action': 5, 'bid': 1000, 'hand': [('3', '♥'), ('10', '♦')], 'community': [], 'bid_0': 600, 'active_0': 1, 'bid_1': 800, 'active_1': 1, 'bid_2': 800, 'active_2': 1, 'bid_3': 0, 'active_3': 0, 'bid_4': 400, 'active_4': 0} will be added to the output frame\n",
      "entered for loop\n",
      "The highest bid is 1000\n",
      "Player 2: I have 5 and am betting $1200!\n",
      "The row {'player': 1, 'position': 1, 'round': 1, 'action': 5, 'bid': 1200, 'hand': [('9', '♥'), ('2', '♣')], 'community': [], 'bid_0': 1000, 'active_0': 1, 'bid_1': 800, 'active_1': 1, 'bid_2': 800, 'active_2': 1, 'bid_3': 0, 'active_3': 0, 'bid_4': 400, 'active_4': 0} will be added to the output frame\n",
      "entered for loop\n",
      "The highest bid is 1200\n",
      "Player 3: I have 5 and am betting $1400!\n",
      "The row {'player': 2, 'position': 2, 'round': 1, 'action': 5, 'bid': 1400, 'hand': [('8', '♣'), ('j', '♣')], 'community': [], 'bid_0': 1000, 'active_0': 1, 'bid_1': 1200, 'active_1': 1, 'bid_2': 800, 'active_2': 1, 'bid_3': 0, 'active_3': 0, 'bid_4': 400, 'active_4': 0} will be added to the output frame\n",
      "entered for loop\n",
      "The highest bid is 1400\n",
      "Player 4: I think I can win this game. I am calling!\n",
      "Player 4: I have 4 and am betting $1400!\n",
      "The row {'player': 3, 'position': 3, 'round': 1, 'action': 4, 'bid': 1400, 'hand': [('j', '♠'), ('9', '♦')], 'community': [], 'bid_0': 1000, 'active_0': 1, 'bid_1': 1200, 'active_1': 1, 'bid_2': 1400, 'active_2': 1, 'bid_3': 0, 'active_3': 0, 'bid_4': 400, 'active_4': 0} will be added to the output frame\n",
      "entered for loop\n",
      "entered for loop\n",
      "entered while loop\n",
      "entered for loop\n",
      "The highest bid is 1400\n",
      "Player 1: I have 5 and am betting $1600!\n",
      "The row {'player': 0, 'position': 0, 'round': 1, 'action': 5, 'bid': 1600, 'hand': [('3', '♥'), ('10', '♦')], 'community': [], 'bid_0': 1200, 'active_0': 1, 'bid_1': 1400, 'active_1': 1, 'bid_2': 1400, 'active_2': 1, 'bid_3': 0, 'active_3': 0, 'bid_4': 400, 'active_4': 0} will be added to the output frame\n",
      "entered for loop\n",
      "The highest bid is 1600\n",
      "Player 2: I think I can win this game. I am calling!\n",
      "Player 2: I have 4 and am betting $1600!\n",
      "The row {'player': 1, 'position': 1, 'round': 1, 'action': 4, 'bid': 1600, 'hand': [('9', '♥'), ('2', '♣')], 'community': [], 'bid_0': 1600, 'active_0': 1, 'bid_1': 1400, 'active_1': 1, 'bid_2': 1400, 'active_2': 1, 'bid_3': 0, 'active_3': 0, 'bid_4': 400, 'active_4': 0} will be added to the output frame\n",
      "entered for loop\n",
      "The highest bid is 1600\n",
      "Player 3: My cards are sh..! I fold!\n",
      "Player 3: I have 0 and am betting $1400!\n",
      "The row {'player': 2, 'position': 2, 'round': 1, 'action': 0, 'bid': 1400, 'hand': [('8', '♣'), ('j', '♣')], 'community': [], 'bid_0': 1600, 'active_0': 1, 'bid_1': 1600, 'active_1': 1, 'bid_2': 1400, 'active_2': 1, 'bid_3': 0, 'active_3': 0, 'bid_4': 400, 'active_4': 0} will be added to the output frame\n",
      "entered for loop\n",
      "The highest bid is 1600\n",
      "Player 4: I think I can win this game. I am calling!\n",
      "Player 4: I have 4 and am betting $1600!\n",
      "The row {'player': 3, 'position': 3, 'round': 1, 'action': 4, 'bid': 1600, 'hand': [('j', '♠'), ('9', '♦')], 'community': [], 'bid_0': 1600, 'active_0': 1, 'bid_1': 1600, 'active_1': 1, 'bid_2': 1400, 'active_2': 0, 'bid_3': 0, 'active_3': 0, 'bid_4': 400, 'active_4': 0} will be added to the output frame\n",
      "entered for loop\n",
      "entered for loop\n",
      "round 2 is over and 3 players\n",
      "        are still in the game\n",
      "The flop is: [('7', '♠'), ('k', '♦'), ('7', '♣')]\n",
      "Player 1 has the hand [('3', '♥'), ('10', '♦'), ('7', '♠'), ('k', '♦'), ('7', '♣')]\n",
      "Player 2 has the hand [('9', '♥'), ('2', '♣'), ('7', '♠'), ('k', '♦'), ('7', '♣')]\n",
      "Player 4 has the hand [('j', '♠'), ('9', '♦'), ('7', '♠'), ('k', '♦'), ('7', '♣')]\n",
      "entered while loop\n",
      "entered for loop\n",
      "The highest bid is 1600\n",
      "Player 1: I am curious what is going to happen.            I am checking!\n",
      "Player 1: I have 3 and am betting $1600!\n",
      "The row {'player': 0, 'position': 0, 'round': 2, 'action': 3, 'bid': 1600, 'hand': [('3', '♥'), ('10', '♦')], 'community': [('7', '♠'), ('k', '♦'), ('7', '♣')], 'bid_0': 1600, 'active_0': 1, 'bid_1': 1400, 'active_1': 0, 'bid_2': 1600, 'active_2': 1, 'bid_3': 0, 'active_3': 0, 'bid_4': 400, 'active_4': 0} will be added to the output frame\n",
      "entered for loop\n",
      "The highest bid is 1600\n",
      "Player 2: I have 5 and am betting $1800!\n",
      "The row {'player': 1, 'position': 1, 'round': 2, 'action': 5, 'bid': 1800, 'hand': [('9', '♥'), ('2', '♣')], 'community': [('7', '♠'), ('k', '♦'), ('7', '♣')], 'bid_0': 1600, 'active_0': 1, 'bid_1': 1400, 'active_1': 0, 'bid_2': 1600, 'active_2': 1, 'bid_3': 0, 'active_3': 0, 'bid_4': 400, 'active_4': 0} will be added to the output frame\n",
      "entered for loop\n",
      "entered for loop\n",
      "The highest bid is 1800\n",
      "Player 4: My cards are sh..! I fold!\n",
      "Player 4: I have 0 and am betting $1600!\n",
      "The row {'player': 3, 'position': 3, 'round': 2, 'action': 0, 'bid': 1600, 'hand': [('j', '♠'), ('9', '♦')], 'community': [('7', '♠'), ('k', '♦'), ('7', '♣')], 'bid_0': 1600, 'active_0': 1, 'bid_1': 1800, 'active_1': 1, 'bid_2': 1400, 'active_2': 0, 'bid_3': 0, 'active_3': 0, 'bid_4': 400, 'active_4': 0} will be added to the output frame\n",
      "entered for loop\n",
      "entered for loop\n",
      "entered while loop\n",
      "entered for loop\n",
      "The highest bid is 1800\n",
      "Player 1: I think I can win this game. I am calling!\n",
      "Player 1: I have 4 and am betting $1800!\n",
      "The row {'player': 0, 'position': 0, 'round': 2, 'action': 4, 'bid': 1800, 'hand': [('3', '♥'), ('10', '♦')], 'community': [('7', '♠'), ('k', '♦'), ('7', '♣')], 'bid_0': 1800, 'active_0': 1, 'bid_1': 1400, 'active_1': 0, 'bid_2': 1600, 'active_2': 0, 'bid_3': 0, 'active_3': 0, 'bid_4': 400, 'active_4': 0} will be added to the output frame\n",
      "entered for loop\n",
      "The highest bid is 1800\n",
      "Player 2: I have 5 and am betting $2000!\n",
      "The row {'player': 1, 'position': 1, 'round': 2, 'action': 5, 'bid': 2000, 'hand': [('9', '♥'), ('2', '♣')], 'community': [('7', '♠'), ('k', '♦'), ('7', '♣')], 'bid_0': 1800, 'active_0': 1, 'bid_1': 1400, 'active_1': 0, 'bid_2': 1600, 'active_2': 0, 'bid_3': 0, 'active_3': 0, 'bid_4': 400, 'active_4': 0} will be added to the output frame\n",
      "entered for loop\n",
      "entered for loop\n",
      "entered for loop\n",
      "entered for loop\n",
      "entered while loop\n",
      "entered for loop\n",
      "The highest bid is 2000\n",
      "Player 1: My cards are sh..! I fold!\n",
      "Player 1: I have 0 and am betting $1800!\n",
      "The row {'player': 0, 'position': 0, 'round': 2, 'action': 0, 'bid': 1800, 'hand': [('3', '♥'), ('10', '♦')], 'community': [('7', '♠'), ('k', '♦'), ('7', '♣')], 'bid_0': 2000, 'active_0': 1, 'bid_1': 1400, 'active_1': 0, 'bid_2': 1600, 'active_2': 0, 'bid_3': 0, 'active_3': 0, 'bid_4': 400, 'active_4': 0} will be added to the output frame\n"
     ]
    },
    {
     "name": "stdout",
     "output_type": "stream",
     "text": [
      "The game has ended\n",
      "The second round is over and -3         players are still in the game\n",
      "Player 2 wins because everyone else dropped                    out.\n",
      "The winner is 2\n",
      "Player 1's stack after game 1             is 8200.\n",
      "Player 2's stack after game 1             is 15200.\n",
      "Player 3's stack after game 1             is 8600.\n",
      "Player 4's stack after game 1             is 8400.\n",
      "Player 5's stack after game 1             is 10000.\n",
      "Player 6's stack after game 1             is 9600.\n",
      "CPU times: user 204 ms, sys: 19.1 ms, total: 223 ms\n",
      "Wall time: 219 ms\n"
     ]
    }
   ],
   "source": [
    "%%time\n",
    "g.play_one_complete_game()"
   ]
  },
  {
   "cell_type": "code",
   "execution_count": 4,
   "metadata": {},
   "outputs": [
    {
     "data": {
      "text/html": [
       "<div>\n",
       "<style scoped>\n",
       "    .dataframe tbody tr th:only-of-type {\n",
       "        vertical-align: middle;\n",
       "    }\n",
       "\n",
       "    .dataframe tbody tr th {\n",
       "        vertical-align: top;\n",
       "    }\n",
       "\n",
       "    .dataframe thead th {\n",
       "        text-align: right;\n",
       "    }\n",
       "</style>\n",
       "<table border=\"1\" class=\"dataframe\">\n",
       "  <thead>\n",
       "    <tr style=\"text-align: right;\">\n",
       "      <th></th>\n",
       "      <th>action</th>\n",
       "      <th>active_0</th>\n",
       "      <th>active_1</th>\n",
       "      <th>active_2</th>\n",
       "      <th>active_3</th>\n",
       "      <th>active_4</th>\n",
       "      <th>bid</th>\n",
       "      <th>bid_0</th>\n",
       "      <th>bid_1</th>\n",
       "      <th>bid_2</th>\n",
       "      <th>bid_3</th>\n",
       "      <th>bid_4</th>\n",
       "      <th>community</th>\n",
       "      <th>hand</th>\n",
       "      <th>player</th>\n",
       "      <th>position</th>\n",
       "      <th>round</th>\n",
       "    </tr>\n",
       "  </thead>\n",
       "  <tbody>\n",
       "    <tr>\n",
       "      <th>0</th>\n",
       "      <td>4.0</td>\n",
       "      <td>1.0</td>\n",
       "      <td>1.0</td>\n",
       "      <td>1.0</td>\n",
       "      <td>1.0</td>\n",
       "      <td>1.0</td>\n",
       "      <td>200.0</td>\n",
       "      <td>100.0</td>\n",
       "      <td>200.0</td>\n",
       "      <td>0.0</td>\n",
       "      <td>0.0</td>\n",
       "      <td>0.0</td>\n",
       "      <td>[]</td>\n",
       "      <td>[(8, ♣), (j, ♣)]</td>\n",
       "      <td>2.0</td>\n",
       "      <td>0.0</td>\n",
       "      <td>1.0</td>\n",
       "    </tr>\n",
       "    <tr>\n",
       "      <th>1</th>\n",
       "      <td>5.0</td>\n",
       "      <td>1.0</td>\n",
       "      <td>1.0</td>\n",
       "      <td>1.0</td>\n",
       "      <td>1.0</td>\n",
       "      <td>1.0</td>\n",
       "      <td>400.0</td>\n",
       "      <td>100.0</td>\n",
       "      <td>200.0</td>\n",
       "      <td>200.0</td>\n",
       "      <td>0.0</td>\n",
       "      <td>0.0</td>\n",
       "      <td>[]</td>\n",
       "      <td>[(j, ♠), (9, ♦)]</td>\n",
       "      <td>3.0</td>\n",
       "      <td>1.0</td>\n",
       "      <td>1.0</td>\n",
       "    </tr>\n",
       "    <tr>\n",
       "      <th>2</th>\n",
       "      <td>0.0</td>\n",
       "      <td>1.0</td>\n",
       "      <td>1.0</td>\n",
       "      <td>1.0</td>\n",
       "      <td>1.0</td>\n",
       "      <td>1.0</td>\n",
       "      <td>0.0</td>\n",
       "      <td>100.0</td>\n",
       "      <td>200.0</td>\n",
       "      <td>200.0</td>\n",
       "      <td>400.0</td>\n",
       "      <td>0.0</td>\n",
       "      <td>[]</td>\n",
       "      <td>[(a, ♥), (6, ♥)]</td>\n",
       "      <td>4.0</td>\n",
       "      <td>2.0</td>\n",
       "      <td>1.0</td>\n",
       "    </tr>\n",
       "    <tr>\n",
       "      <th>3</th>\n",
       "      <td>4.0</td>\n",
       "      <td>1.0</td>\n",
       "      <td>1.0</td>\n",
       "      <td>1.0</td>\n",
       "      <td>1.0</td>\n",
       "      <td>0.0</td>\n",
       "      <td>400.0</td>\n",
       "      <td>100.0</td>\n",
       "      <td>200.0</td>\n",
       "      <td>200.0</td>\n",
       "      <td>400.0</td>\n",
       "      <td>0.0</td>\n",
       "      <td>[]</td>\n",
       "      <td>[(9, ♠), (5, ♠)]</td>\n",
       "      <td>5.0</td>\n",
       "      <td>3.0</td>\n",
       "      <td>1.0</td>\n",
       "    </tr>\n",
       "    <tr>\n",
       "      <th>4</th>\n",
       "      <td>5.0</td>\n",
       "      <td>1.0</td>\n",
       "      <td>1.0</td>\n",
       "      <td>1.0</td>\n",
       "      <td>0.0</td>\n",
       "      <td>1.0</td>\n",
       "      <td>600.0</td>\n",
       "      <td>200.0</td>\n",
       "      <td>200.0</td>\n",
       "      <td>400.0</td>\n",
       "      <td>0.0</td>\n",
       "      <td>400.0</td>\n",
       "      <td>[]</td>\n",
       "      <td>[(3, ♥), (10, ♦)]</td>\n",
       "      <td>0.0</td>\n",
       "      <td>0.0</td>\n",
       "      <td>1.0</td>\n",
       "    </tr>\n",
       "    <tr>\n",
       "      <th>5</th>\n",
       "      <td>4.0</td>\n",
       "      <td>1.0</td>\n",
       "      <td>1.0</td>\n",
       "      <td>1.0</td>\n",
       "      <td>0.0</td>\n",
       "      <td>1.0</td>\n",
       "      <td>600.0</td>\n",
       "      <td>600.0</td>\n",
       "      <td>200.0</td>\n",
       "      <td>400.0</td>\n",
       "      <td>0.0</td>\n",
       "      <td>400.0</td>\n",
       "      <td>[]</td>\n",
       "      <td>[(9, ♥), (2, ♣)]</td>\n",
       "      <td>1.0</td>\n",
       "      <td>1.0</td>\n",
       "      <td>1.0</td>\n",
       "    </tr>\n",
       "    <tr>\n",
       "      <th>6</th>\n",
       "      <td>5.0</td>\n",
       "      <td>1.0</td>\n",
       "      <td>1.0</td>\n",
       "      <td>1.0</td>\n",
       "      <td>0.0</td>\n",
       "      <td>1.0</td>\n",
       "      <td>800.0</td>\n",
       "      <td>600.0</td>\n",
       "      <td>600.0</td>\n",
       "      <td>400.0</td>\n",
       "      <td>0.0</td>\n",
       "      <td>400.0</td>\n",
       "      <td>[]</td>\n",
       "      <td>[(8, ♣), (j, ♣)]</td>\n",
       "      <td>2.0</td>\n",
       "      <td>2.0</td>\n",
       "      <td>1.0</td>\n",
       "    </tr>\n",
       "    <tr>\n",
       "      <th>7</th>\n",
       "      <td>4.0</td>\n",
       "      <td>1.0</td>\n",
       "      <td>1.0</td>\n",
       "      <td>1.0</td>\n",
       "      <td>0.0</td>\n",
       "      <td>1.0</td>\n",
       "      <td>800.0</td>\n",
       "      <td>600.0</td>\n",
       "      <td>600.0</td>\n",
       "      <td>800.0</td>\n",
       "      <td>0.0</td>\n",
       "      <td>400.0</td>\n",
       "      <td>[]</td>\n",
       "      <td>[(j, ♠), (9, ♦)]</td>\n",
       "      <td>3.0</td>\n",
       "      <td>3.0</td>\n",
       "      <td>1.0</td>\n",
       "    </tr>\n",
       "    <tr>\n",
       "      <th>8</th>\n",
       "      <td>0.0</td>\n",
       "      <td>1.0</td>\n",
       "      <td>1.0</td>\n",
       "      <td>1.0</td>\n",
       "      <td>1.0</td>\n",
       "      <td>0.0</td>\n",
       "      <td>400.0</td>\n",
       "      <td>600.0</td>\n",
       "      <td>600.0</td>\n",
       "      <td>800.0</td>\n",
       "      <td>800.0</td>\n",
       "      <td>0.0</td>\n",
       "      <td>[]</td>\n",
       "      <td>[(9, ♠), (5, ♠)]</td>\n",
       "      <td>5.0</td>\n",
       "      <td>5.0</td>\n",
       "      <td>1.0</td>\n",
       "    </tr>\n",
       "    <tr>\n",
       "      <th>9</th>\n",
       "      <td>5.0</td>\n",
       "      <td>1.0</td>\n",
       "      <td>1.0</td>\n",
       "      <td>1.0</td>\n",
       "      <td>0.0</td>\n",
       "      <td>0.0</td>\n",
       "      <td>1000.0</td>\n",
       "      <td>600.0</td>\n",
       "      <td>800.0</td>\n",
       "      <td>800.0</td>\n",
       "      <td>0.0</td>\n",
       "      <td>400.0</td>\n",
       "      <td>[]</td>\n",
       "      <td>[(3, ♥), (10, ♦)]</td>\n",
       "      <td>0.0</td>\n",
       "      <td>0.0</td>\n",
       "      <td>1.0</td>\n",
       "    </tr>\n",
       "    <tr>\n",
       "      <th>10</th>\n",
       "      <td>5.0</td>\n",
       "      <td>1.0</td>\n",
       "      <td>1.0</td>\n",
       "      <td>1.0</td>\n",
       "      <td>0.0</td>\n",
       "      <td>0.0</td>\n",
       "      <td>1200.0</td>\n",
       "      <td>1000.0</td>\n",
       "      <td>800.0</td>\n",
       "      <td>800.0</td>\n",
       "      <td>0.0</td>\n",
       "      <td>400.0</td>\n",
       "      <td>[]</td>\n",
       "      <td>[(9, ♥), (2, ♣)]</td>\n",
       "      <td>1.0</td>\n",
       "      <td>1.0</td>\n",
       "      <td>1.0</td>\n",
       "    </tr>\n",
       "    <tr>\n",
       "      <th>11</th>\n",
       "      <td>5.0</td>\n",
       "      <td>1.0</td>\n",
       "      <td>1.0</td>\n",
       "      <td>1.0</td>\n",
       "      <td>0.0</td>\n",
       "      <td>0.0</td>\n",
       "      <td>1400.0</td>\n",
       "      <td>1000.0</td>\n",
       "      <td>1200.0</td>\n",
       "      <td>800.0</td>\n",
       "      <td>0.0</td>\n",
       "      <td>400.0</td>\n",
       "      <td>[]</td>\n",
       "      <td>[(8, ♣), (j, ♣)]</td>\n",
       "      <td>2.0</td>\n",
       "      <td>2.0</td>\n",
       "      <td>1.0</td>\n",
       "    </tr>\n",
       "    <tr>\n",
       "      <th>12</th>\n",
       "      <td>4.0</td>\n",
       "      <td>1.0</td>\n",
       "      <td>1.0</td>\n",
       "      <td>1.0</td>\n",
       "      <td>0.0</td>\n",
       "      <td>0.0</td>\n",
       "      <td>1400.0</td>\n",
       "      <td>1000.0</td>\n",
       "      <td>1200.0</td>\n",
       "      <td>1400.0</td>\n",
       "      <td>0.0</td>\n",
       "      <td>400.0</td>\n",
       "      <td>[]</td>\n",
       "      <td>[(j, ♠), (9, ♦)]</td>\n",
       "      <td>3.0</td>\n",
       "      <td>3.0</td>\n",
       "      <td>1.0</td>\n",
       "    </tr>\n",
       "    <tr>\n",
       "      <th>13</th>\n",
       "      <td>5.0</td>\n",
       "      <td>1.0</td>\n",
       "      <td>1.0</td>\n",
       "      <td>1.0</td>\n",
       "      <td>0.0</td>\n",
       "      <td>0.0</td>\n",
       "      <td>1600.0</td>\n",
       "      <td>1200.0</td>\n",
       "      <td>1400.0</td>\n",
       "      <td>1400.0</td>\n",
       "      <td>0.0</td>\n",
       "      <td>400.0</td>\n",
       "      <td>[]</td>\n",
       "      <td>[(3, ♥), (10, ♦)]</td>\n",
       "      <td>0.0</td>\n",
       "      <td>0.0</td>\n",
       "      <td>1.0</td>\n",
       "    </tr>\n",
       "    <tr>\n",
       "      <th>14</th>\n",
       "      <td>4.0</td>\n",
       "      <td>1.0</td>\n",
       "      <td>1.0</td>\n",
       "      <td>1.0</td>\n",
       "      <td>0.0</td>\n",
       "      <td>0.0</td>\n",
       "      <td>1600.0</td>\n",
       "      <td>1600.0</td>\n",
       "      <td>1400.0</td>\n",
       "      <td>1400.0</td>\n",
       "      <td>0.0</td>\n",
       "      <td>400.0</td>\n",
       "      <td>[]</td>\n",
       "      <td>[(9, ♥), (2, ♣)]</td>\n",
       "      <td>1.0</td>\n",
       "      <td>1.0</td>\n",
       "      <td>1.0</td>\n",
       "    </tr>\n",
       "    <tr>\n",
       "      <th>15</th>\n",
       "      <td>0.0</td>\n",
       "      <td>1.0</td>\n",
       "      <td>1.0</td>\n",
       "      <td>1.0</td>\n",
       "      <td>0.0</td>\n",
       "      <td>0.0</td>\n",
       "      <td>1400.0</td>\n",
       "      <td>1600.0</td>\n",
       "      <td>1600.0</td>\n",
       "      <td>1400.0</td>\n",
       "      <td>0.0</td>\n",
       "      <td>400.0</td>\n",
       "      <td>[]</td>\n",
       "      <td>[(8, ♣), (j, ♣)]</td>\n",
       "      <td>2.0</td>\n",
       "      <td>2.0</td>\n",
       "      <td>1.0</td>\n",
       "    </tr>\n",
       "    <tr>\n",
       "      <th>16</th>\n",
       "      <td>4.0</td>\n",
       "      <td>1.0</td>\n",
       "      <td>1.0</td>\n",
       "      <td>0.0</td>\n",
       "      <td>0.0</td>\n",
       "      <td>0.0</td>\n",
       "      <td>1600.0</td>\n",
       "      <td>1600.0</td>\n",
       "      <td>1600.0</td>\n",
       "      <td>1400.0</td>\n",
       "      <td>0.0</td>\n",
       "      <td>400.0</td>\n",
       "      <td>[]</td>\n",
       "      <td>[(j, ♠), (9, ♦)]</td>\n",
       "      <td>3.0</td>\n",
       "      <td>3.0</td>\n",
       "      <td>1.0</td>\n",
       "    </tr>\n",
       "    <tr>\n",
       "      <th>17</th>\n",
       "      <td>3.0</td>\n",
       "      <td>1.0</td>\n",
       "      <td>0.0</td>\n",
       "      <td>1.0</td>\n",
       "      <td>0.0</td>\n",
       "      <td>0.0</td>\n",
       "      <td>1600.0</td>\n",
       "      <td>1600.0</td>\n",
       "      <td>1400.0</td>\n",
       "      <td>1600.0</td>\n",
       "      <td>0.0</td>\n",
       "      <td>400.0</td>\n",
       "      <td>[(7, ♠), (k, ♦), (7, ♣)]</td>\n",
       "      <td>[(3, ♥), (10, ♦)]</td>\n",
       "      <td>0.0</td>\n",
       "      <td>0.0</td>\n",
       "      <td>2.0</td>\n",
       "    </tr>\n",
       "    <tr>\n",
       "      <th>18</th>\n",
       "      <td>5.0</td>\n",
       "      <td>1.0</td>\n",
       "      <td>0.0</td>\n",
       "      <td>1.0</td>\n",
       "      <td>0.0</td>\n",
       "      <td>0.0</td>\n",
       "      <td>1800.0</td>\n",
       "      <td>1600.0</td>\n",
       "      <td>1400.0</td>\n",
       "      <td>1600.0</td>\n",
       "      <td>0.0</td>\n",
       "      <td>400.0</td>\n",
       "      <td>[(7, ♠), (k, ♦), (7, ♣)]</td>\n",
       "      <td>[(9, ♥), (2, ♣)]</td>\n",
       "      <td>1.0</td>\n",
       "      <td>1.0</td>\n",
       "      <td>2.0</td>\n",
       "    </tr>\n",
       "    <tr>\n",
       "      <th>19</th>\n",
       "      <td>0.0</td>\n",
       "      <td>1.0</td>\n",
       "      <td>1.0</td>\n",
       "      <td>0.0</td>\n",
       "      <td>0.0</td>\n",
       "      <td>0.0</td>\n",
       "      <td>1600.0</td>\n",
       "      <td>1600.0</td>\n",
       "      <td>1800.0</td>\n",
       "      <td>1400.0</td>\n",
       "      <td>0.0</td>\n",
       "      <td>400.0</td>\n",
       "      <td>[(7, ♠), (k, ♦), (7, ♣)]</td>\n",
       "      <td>[(j, ♠), (9, ♦)]</td>\n",
       "      <td>3.0</td>\n",
       "      <td>3.0</td>\n",
       "      <td>2.0</td>\n",
       "    </tr>\n",
       "    <tr>\n",
       "      <th>20</th>\n",
       "      <td>4.0</td>\n",
       "      <td>1.0</td>\n",
       "      <td>0.0</td>\n",
       "      <td>0.0</td>\n",
       "      <td>0.0</td>\n",
       "      <td>0.0</td>\n",
       "      <td>1800.0</td>\n",
       "      <td>1800.0</td>\n",
       "      <td>1400.0</td>\n",
       "      <td>1600.0</td>\n",
       "      <td>0.0</td>\n",
       "      <td>400.0</td>\n",
       "      <td>[(7, ♠), (k, ♦), (7, ♣)]</td>\n",
       "      <td>[(3, ♥), (10, ♦)]</td>\n",
       "      <td>0.0</td>\n",
       "      <td>0.0</td>\n",
       "      <td>2.0</td>\n",
       "    </tr>\n",
       "    <tr>\n",
       "      <th>21</th>\n",
       "      <td>5.0</td>\n",
       "      <td>1.0</td>\n",
       "      <td>0.0</td>\n",
       "      <td>0.0</td>\n",
       "      <td>0.0</td>\n",
       "      <td>0.0</td>\n",
       "      <td>2000.0</td>\n",
       "      <td>1800.0</td>\n",
       "      <td>1400.0</td>\n",
       "      <td>1600.0</td>\n",
       "      <td>0.0</td>\n",
       "      <td>400.0</td>\n",
       "      <td>[(7, ♠), (k, ♦), (7, ♣)]</td>\n",
       "      <td>[(9, ♥), (2, ♣)]</td>\n",
       "      <td>1.0</td>\n",
       "      <td>1.0</td>\n",
       "      <td>2.0</td>\n",
       "    </tr>\n",
       "    <tr>\n",
       "      <th>22</th>\n",
       "      <td>0.0</td>\n",
       "      <td>1.0</td>\n",
       "      <td>0.0</td>\n",
       "      <td>0.0</td>\n",
       "      <td>0.0</td>\n",
       "      <td>0.0</td>\n",
       "      <td>1800.0</td>\n",
       "      <td>2000.0</td>\n",
       "      <td>1400.0</td>\n",
       "      <td>1600.0</td>\n",
       "      <td>0.0</td>\n",
       "      <td>400.0</td>\n",
       "      <td>[(7, ♠), (k, ♦), (7, ♣)]</td>\n",
       "      <td>[(3, ♥), (10, ♦)]</td>\n",
       "      <td>0.0</td>\n",
       "      <td>0.0</td>\n",
       "      <td>2.0</td>\n",
       "    </tr>\n",
       "  </tbody>\n",
       "</table>\n",
       "</div>"
      ],
      "text/plain": [
       "    action  active_0  active_1  active_2  active_3  active_4     bid   bid_0  \\\n",
       "0      4.0       1.0       1.0       1.0       1.0       1.0   200.0   100.0   \n",
       "1      5.0       1.0       1.0       1.0       1.0       1.0   400.0   100.0   \n",
       "2      0.0       1.0       1.0       1.0       1.0       1.0     0.0   100.0   \n",
       "3      4.0       1.0       1.0       1.0       1.0       0.0   400.0   100.0   \n",
       "4      5.0       1.0       1.0       1.0       0.0       1.0   600.0   200.0   \n",
       "5      4.0       1.0       1.0       1.0       0.0       1.0   600.0   600.0   \n",
       "6      5.0       1.0       1.0       1.0       0.0       1.0   800.0   600.0   \n",
       "7      4.0       1.0       1.0       1.0       0.0       1.0   800.0   600.0   \n",
       "8      0.0       1.0       1.0       1.0       1.0       0.0   400.0   600.0   \n",
       "9      5.0       1.0       1.0       1.0       0.0       0.0  1000.0   600.0   \n",
       "10     5.0       1.0       1.0       1.0       0.0       0.0  1200.0  1000.0   \n",
       "11     5.0       1.0       1.0       1.0       0.0       0.0  1400.0  1000.0   \n",
       "12     4.0       1.0       1.0       1.0       0.0       0.0  1400.0  1000.0   \n",
       "13     5.0       1.0       1.0       1.0       0.0       0.0  1600.0  1200.0   \n",
       "14     4.0       1.0       1.0       1.0       0.0       0.0  1600.0  1600.0   \n",
       "15     0.0       1.0       1.0       1.0       0.0       0.0  1400.0  1600.0   \n",
       "16     4.0       1.0       1.0       0.0       0.0       0.0  1600.0  1600.0   \n",
       "17     3.0       1.0       0.0       1.0       0.0       0.0  1600.0  1600.0   \n",
       "18     5.0       1.0       0.0       1.0       0.0       0.0  1800.0  1600.0   \n",
       "19     0.0       1.0       1.0       0.0       0.0       0.0  1600.0  1600.0   \n",
       "20     4.0       1.0       0.0       0.0       0.0       0.0  1800.0  1800.0   \n",
       "21     5.0       1.0       0.0       0.0       0.0       0.0  2000.0  1800.0   \n",
       "22     0.0       1.0       0.0       0.0       0.0       0.0  1800.0  2000.0   \n",
       "\n",
       "     bid_1   bid_2  bid_3  bid_4                 community               hand  \\\n",
       "0    200.0     0.0    0.0    0.0                        []   [(8, ♣), (j, ♣)]   \n",
       "1    200.0   200.0    0.0    0.0                        []   [(j, ♠), (9, ♦)]   \n",
       "2    200.0   200.0  400.0    0.0                        []   [(a, ♥), (6, ♥)]   \n",
       "3    200.0   200.0  400.0    0.0                        []   [(9, ♠), (5, ♠)]   \n",
       "4    200.0   400.0    0.0  400.0                        []  [(3, ♥), (10, ♦)]   \n",
       "5    200.0   400.0    0.0  400.0                        []   [(9, ♥), (2, ♣)]   \n",
       "6    600.0   400.0    0.0  400.0                        []   [(8, ♣), (j, ♣)]   \n",
       "7    600.0   800.0    0.0  400.0                        []   [(j, ♠), (9, ♦)]   \n",
       "8    600.0   800.0  800.0    0.0                        []   [(9, ♠), (5, ♠)]   \n",
       "9    800.0   800.0    0.0  400.0                        []  [(3, ♥), (10, ♦)]   \n",
       "10   800.0   800.0    0.0  400.0                        []   [(9, ♥), (2, ♣)]   \n",
       "11  1200.0   800.0    0.0  400.0                        []   [(8, ♣), (j, ♣)]   \n",
       "12  1200.0  1400.0    0.0  400.0                        []   [(j, ♠), (9, ♦)]   \n",
       "13  1400.0  1400.0    0.0  400.0                        []  [(3, ♥), (10, ♦)]   \n",
       "14  1400.0  1400.0    0.0  400.0                        []   [(9, ♥), (2, ♣)]   \n",
       "15  1600.0  1400.0    0.0  400.0                        []   [(8, ♣), (j, ♣)]   \n",
       "16  1600.0  1400.0    0.0  400.0                        []   [(j, ♠), (9, ♦)]   \n",
       "17  1400.0  1600.0    0.0  400.0  [(7, ♠), (k, ♦), (7, ♣)]  [(3, ♥), (10, ♦)]   \n",
       "18  1400.0  1600.0    0.0  400.0  [(7, ♠), (k, ♦), (7, ♣)]   [(9, ♥), (2, ♣)]   \n",
       "19  1800.0  1400.0    0.0  400.0  [(7, ♠), (k, ♦), (7, ♣)]   [(j, ♠), (9, ♦)]   \n",
       "20  1400.0  1600.0    0.0  400.0  [(7, ♠), (k, ♦), (7, ♣)]  [(3, ♥), (10, ♦)]   \n",
       "21  1400.0  1600.0    0.0  400.0  [(7, ♠), (k, ♦), (7, ♣)]   [(9, ♥), (2, ♣)]   \n",
       "22  1400.0  1600.0    0.0  400.0  [(7, ♠), (k, ♦), (7, ♣)]  [(3, ♥), (10, ♦)]   \n",
       "\n",
       "    player  position  round  \n",
       "0      2.0       0.0    1.0  \n",
       "1      3.0       1.0    1.0  \n",
       "2      4.0       2.0    1.0  \n",
       "3      5.0       3.0    1.0  \n",
       "4      0.0       0.0    1.0  \n",
       "5      1.0       1.0    1.0  \n",
       "6      2.0       2.0    1.0  \n",
       "7      3.0       3.0    1.0  \n",
       "8      5.0       5.0    1.0  \n",
       "9      0.0       0.0    1.0  \n",
       "10     1.0       1.0    1.0  \n",
       "11     2.0       2.0    1.0  \n",
       "12     3.0       3.0    1.0  \n",
       "13     0.0       0.0    1.0  \n",
       "14     1.0       1.0    1.0  \n",
       "15     2.0       2.0    1.0  \n",
       "16     3.0       3.0    1.0  \n",
       "17     0.0       0.0    2.0  \n",
       "18     1.0       1.0    2.0  \n",
       "19     3.0       3.0    2.0  \n",
       "20     0.0       0.0    2.0  \n",
       "21     1.0       1.0    2.0  \n",
       "22     0.0       0.0    2.0  "
      ]
     },
     "execution_count": 4,
     "metadata": {},
     "output_type": "execute_result"
    }
   ],
   "source": [
    "g.output"
   ]
  },
  {
   "cell_type": "code",
   "execution_count": 9,
   "metadata": {},
   "outputs": [
    {
     "data": {
      "text/plain": [
       "(22, 23)"
      ]
     },
     "execution_count": 9,
     "metadata": {},
     "output_type": "execute_result"
    }
   ],
   "source": [
    "g.output.shape"
   ]
  },
  {
   "cell_type": "code",
   "execution_count": 8,
   "metadata": {},
   "outputs": [
    {
     "name": "stdout",
     "output_type": "stream",
     "text": [
      "[0, 0, 0, 0]\n",
      "[0, 0, 0, 0]\n",
      "[0, 0, 0, 0]\n",
      "[0, 0, 0, 0]\n",
      "[0, 0, 0, 0]\n",
      "[0, 0, 0, 0]\n"
     ]
    }
   ],
   "source": [
    "for player in g.players:\n",
    "    if len(player.last_actions) < 4:\n",
    "        [player.last_actions.append(0) for i in range(4-len(player.last_actions))]\n",
    "    print(player.last_actions)"
   ]
  },
  {
   "cell_type": "code",
   "execution_count": 22,
   "metadata": {},
   "outputs": [],
   "source": [
    "l = [1, 2, 3]\n",
    "leng = 5"
   ]
  },
  {
   "cell_type": "code",
   "execution_count": 23,
   "metadata": {},
   "outputs": [
    {
     "data": {
      "text/plain": [
       "[0, 1]"
      ]
     },
     "execution_count": 23,
     "metadata": {},
     "output_type": "execute_result"
    }
   ],
   "source": [
    "[x for x in range(leng-len(l))]"
   ]
  },
  {
   "cell_type": "code",
   "execution_count": 25,
   "metadata": {},
   "outputs": [
    {
     "ename": "TypeError",
     "evalue": "unsupported operand type(s) for *: 'NoneType' and 'int'",
     "output_type": "error",
     "traceback": [
      "\u001b[0;31m---------------------------------------------------------------------------\u001b[0m",
      "\u001b[0;31mTypeError\u001b[0m                                 Traceback (most recent call last)",
      "\u001b[0;32m<ipython-input-25-1efc68bee741>\u001b[0m in \u001b[0;36m<module>\u001b[0;34m\u001b[0m\n\u001b[0;32m----> 1\u001b[0;31m \u001b[0ml\u001b[0m\u001b[0;34m.\u001b[0m\u001b[0mappend\u001b[0m\u001b[0;34m(\u001b[0m\u001b[0;36m0\u001b[0m\u001b[0;34m)\u001b[0m \u001b[0;34m*\u001b[0m \u001b[0;36m2\u001b[0m\u001b[0;34m\u001b[0m\u001b[0;34m\u001b[0m\u001b[0m\n\u001b[0m",
      "\u001b[0;31mTypeError\u001b[0m: unsupported operand type(s) for *: 'NoneType' and 'int'"
     ]
    }
   ],
   "source": [
    "l.append(0) * 2"
   ]
  },
  {
   "cell_type": "code",
   "execution_count": 7,
   "metadata": {},
   "outputs": [
    {
     "data": {
      "text/plain": [
       "[1, 2, 3, 0, 0]"
      ]
     },
     "execution_count": 7,
     "metadata": {},
     "output_type": "execute_result"
    }
   ],
   "source": [
    "for i in range(2):\n",
    "    l.append(0)\n",
    "l"
   ]
  },
  {
   "cell_type": "code",
   "execution_count": 26,
   "metadata": {},
   "outputs": [],
   "source": [
    "if len(l) < leng:\n",
    "#    print(leng-len(l))\n",
    "    [l.append(0) for i in range(leng-len(l))]\n",
    "elif len(l) > leng:\n",
    "    raise ValueError('The input shape is already to long')"
   ]
  },
  {
   "cell_type": "code",
   "execution_count": 10,
   "metadata": {},
   "outputs": [],
   "source": [
    "l = [1] * 6"
   ]
  },
  {
   "cell_type": "code",
   "execution_count": 27,
   "metadata": {},
   "outputs": [
    {
     "data": {
      "text/plain": [
       "[1, 2, 3, 0, 0]"
      ]
     },
     "execution_count": 27,
     "metadata": {},
     "output_type": "execute_result"
    }
   ],
   "source": [
    "l"
   ]
  },
  {
   "cell_type": "code",
   "execution_count": 30,
   "metadata": {},
   "outputs": [],
   "source": [
    "x = [8, 9]"
   ]
  },
  {
   "cell_type": "code",
   "execution_count": 36,
   "metadata": {},
   "outputs": [],
   "source": [
    "x.extend(l)"
   ]
  },
  {
   "cell_type": "code",
   "execution_count": 37,
   "metadata": {},
   "outputs": [
    {
     "data": {
      "text/plain": [
       "[1, 2, 3, 0, 0]"
      ]
     },
     "execution_count": 37,
     "metadata": {},
     "output_type": "execute_result"
    }
   ],
   "source": [
    "l"
   ]
  },
  {
   "cell_type": "code",
   "execution_count": 38,
   "metadata": {},
   "outputs": [
    {
     "data": {
      "text/plain": [
       "[8, 9, 1, 2, 3, 0, 0, 1, 2, 3, 0, 0, 1, 2, 3, 0, 0]"
      ]
     },
     "execution_count": 38,
     "metadata": {},
     "output_type": "execute_result"
    }
   ],
   "source": [
    "x"
   ]
  },
  {
   "cell_type": "code",
   "execution_count": 34,
   "metadata": {},
   "outputs": [],
   "source": [
    "s = (l, x, x.extend(l))"
   ]
  },
  {
   "cell_type": "code",
   "execution_count": 35,
   "metadata": {},
   "outputs": [
    {
     "data": {
      "text/plain": [
       "([1, 2, 3, 0, 0], [8, 9, 1, 2, 3, 0, 0, 1, 2, 3, 0, 0], None)"
      ]
     },
     "execution_count": 35,
     "metadata": {},
     "output_type": "execute_result"
    }
   ],
   "source": [
    "s"
   ]
  },
  {
   "cell_type": "code",
   "execution_count": 46,
   "metadata": {},
   "outputs": [],
   "source": [
    "s = set(l)"
   ]
  },
  {
   "cell_type": "code",
   "execution_count": 47,
   "metadata": {},
   "outputs": [
    {
     "data": {
      "text/plain": [
       "{0, 1, 2, 3}"
      ]
     },
     "execution_count": 47,
     "metadata": {},
     "output_type": "execute_result"
    }
   ],
   "source": [
    "s"
   ]
  },
  {
   "cell_type": "code",
   "execution_count": 48,
   "metadata": {},
   "outputs": [],
   "source": [
    "s.update(x)"
   ]
  },
  {
   "cell_type": "code",
   "execution_count": 49,
   "metadata": {},
   "outputs": [
    {
     "data": {
      "text/plain": [
       "{0, 1, 2, 3, 8, 9}"
      ]
     },
     "execution_count": 49,
     "metadata": {},
     "output_type": "execute_result"
    }
   ],
   "source": [
    "s"
   ]
  },
  {
   "cell_type": "code",
   "execution_count": 50,
   "metadata": {},
   "outputs": [
    {
     "data": {
      "text/plain": [
       "[1, 2, 3, 0, 0]"
      ]
     },
     "execution_count": 50,
     "metadata": {},
     "output_type": "execute_result"
    }
   ],
   "source": [
    "l"
   ]
  },
  {
   "cell_type": "code",
   "execution_count": 53,
   "metadata": {},
   "outputs": [],
   "source": [
    "l.remove(3)"
   ]
  },
  {
   "cell_type": "code",
   "execution_count": 55,
   "metadata": {},
   "outputs": [],
   "source": [
    "t = l.remove(2)"
   ]
  },
  {
   "cell_type": "code",
   "execution_count": 58,
   "metadata": {},
   "outputs": [
    {
     "data": {
      "text/plain": [
       "[1, 0, 0]"
      ]
     },
     "execution_count": 58,
     "metadata": {},
     "output_type": "execute_result"
    }
   ],
   "source": [
    "l"
   ]
  },
  {
   "cell_type": "code",
   "execution_count": null,
   "metadata": {},
   "outputs": [],
   "source": []
  }
 ],
 "metadata": {
  "kernelspec": {
   "display_name": "Python 3",
   "language": "python",
   "name": "python3"
  },
  "language_info": {
   "codemirror_mode": {
    "name": "ipython",
    "version": 3
   },
   "file_extension": ".py",
   "mimetype": "text/x-python",
   "name": "python",
   "nbconvert_exporter": "python",
   "pygments_lexer": "ipython3",
   "version": "3.7.3"
  }
 },
 "nbformat": 4,
 "nbformat_minor": 2
}
