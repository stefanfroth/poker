{
 "cells": [
  {
   "cell_type": "markdown",
   "metadata": {},
   "source": [
    "# Does the poker code run?"
   ]
  },
  {
   "cell_type": "code",
   "execution_count": 1,
   "metadata": {},
   "outputs": [],
   "source": [
    "from poker import Card, Evaluator, Player, Game"
   ]
  },
  {
   "cell_type": "code",
   "execution_count": 2,
   "metadata": {},
   "outputs": [],
   "source": [
    "g = Game(6, 100, 10000) "
   ]
  },
  {
   "cell_type": "code",
   "execution_count": 11,
   "metadata": {},
   "outputs": [
    {
     "name": "stdout",
     "output_type": "stream",
     "text": [
      "The position of the small blind is 3\n",
      "[2, 3]\n",
      "The order is [2, 3, 4, 5, 0, 1]\n",
      "1's hand is [('a', '♥'), ('6', '♦')] \n",
      "2's hand is [('5', '♥'), ('j', '♦')] \n",
      "3's hand is [('6', '♥'), ('6', '♣')] \n",
      "4's hand is [('q', '♣'), ('7', '♣')] \n",
      "5's hand is [('2', '♠'), ('8', '♦')] \n",
      "6's hand is [('j', '♣'), ('3', '♣')] \n",
      "Player 3: I have bet the small blind of $100!\n",
      "Player 4: I have bet the big blind of $200!\n",
      "Player 5: I am curious what is going to happen.            I am checking!\n",
      "Player 5: I have 3 and am betting $5200!\n",
      "Player 6: I have 5 and am betting $5400!\n",
      "Player 1: I think I can win this round. I am calling!\n",
      "Player 1: I have 4 and am betting $5400!\n",
      "Player 2: I have 5 and am betting $5600!\n",
      "The highest bid is 5600\n",
      "Player 3: I have 5 and am betting $5800!\n",
      "The highest bid is 5800\n",
      "Player 4: I have 5 and am betting $6000!\n",
      "The highest bid is 6000\n",
      "Player 5: I have 5 and am betting $6200!\n",
      "The highest bid is 6200\n",
      "Player 6: I think I can win this round. I am calling!\n",
      "Player 6: I have 4 and am betting $6200!\n",
      "The highest bid is 6200\n",
      "Player 1: I have 5 and am betting $6400!\n",
      "The highest bid is 6400\n",
      "Player 2: I think I can win this round. I am calling!\n",
      "Player 2: I have 4 and am betting $6400!\n",
      "The highest bid is 6400\n",
      "Player 3: My cards are sh..! I fold!\n",
      "Player 3: I have 0 and am betting $5800!\n",
      "The highest bid is 6400\n",
      "Player 4: My cards are sh..! I fold!\n",
      "Player 4: I have 0 and am betting $6000!\n",
      "The highest bid is 6400\n",
      "Player 5: I think I can win this round. I am calling!\n",
      "Player 5: I have 4 and am betting $6400!\n",
      "The highest bid is 6400\n",
      "Player 6: I have 5 and am betting $6600!\n",
      "The highest bid is 6600\n",
      "Player 1: I have 5 and am betting $6800!\n",
      "The highest bid is 6800\n",
      "Player 2: I have 5 and am betting $7000!\n",
      "The highest bid is 7000\n",
      "Player 5: My cards are sh..! I fold!\n",
      "Player 5: I have 0 and am betting $6400!\n",
      "The highest bid is 7000\n",
      "Player 6: I have 5 and am betting $7200!\n",
      "The highest bid is 7200\n",
      "Player 1: I have 5 and am betting $7400!\n",
      "The highest bid is 7400\n",
      "Player 2: My cards are sh..! I fold!\n",
      "Player 2: I have 0 and am betting $7000!\n",
      "The highest bid is 7400\n",
      "Player 6: My cards are sh..! I fold!\n",
      "Player 6: I have 0 and am betting $7200!\n",
      "The game has ended\n",
      "Timestep 1 is over and 1 players        are still in the game\n",
      "Player 1 wins because everyone else dropped                    out.\n",
      "The winner is 1\n",
      "Player 1's stack after round 9             is 45100.\n",
      "Player 2's stack after round 9             is 50900.\n",
      "Player 3's stack after round 9             is -6900.\n",
      "Player 4's stack after round 9             is -17500.\n",
      "Player 5's stack after round 9             is 8000.\n",
      "Player 6's stack after round 9             is -19600.\n",
      "CPU times: user 2.97 ms, sys: 1.42 ms, total: 4.39 ms\n",
      "Wall time: 4.67 ms\n"
     ]
    }
   ],
   "source": [
    "%%time\n",
    "g.play_one_complete_round()"
   ]
  },
  {
   "cell_type": "code",
   "execution_count": null,
   "metadata": {},
   "outputs": [],
   "source": []
  }
 ],
 "metadata": {
  "kernelspec": {
   "display_name": "Python 3",
   "language": "python",
   "name": "python3"
  },
  "language_info": {
   "codemirror_mode": {
    "name": "ipython",
    "version": 3
   },
   "file_extension": ".py",
   "mimetype": "text/x-python",
   "name": "python",
   "nbconvert_exporter": "python",
   "pygments_lexer": "ipython3",
   "version": "3.7.3"
  }
 },
 "nbformat": 4,
 "nbformat_minor": 2
}
