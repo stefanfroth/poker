{
 "cells": [
  {
   "cell_type": "markdown",
   "metadata": {},
   "source": [
    "#### Pseudocode for the poker simulation:"
   ]
  },
  {
   "cell_type": "code",
   "execution_count": 36,
   "metadata": {},
   "outputs": [
    {
     "name": "stdout",
     "output_type": "stream",
     "text": [
      "[('A', 'hearts'), ('A', 'tiles'), ('A', 'clovers'), ('A', 'pikes'), ('K', 'hearts'), ('K', 'tiles'), ('K', 'clovers'), ('K', 'pikes'), ('Q', 'hearts'), ('Q', 'tiles'), ('Q', 'clovers'), ('Q', 'pikes'), ('J', 'hearts'), ('J', 'tiles'), ('J', 'clovers'), ('J', 'pikes'), ('10', 'hearts'), ('10', 'tiles'), ('10', 'clovers'), ('10', 'pikes'), ('9', 'hearts'), ('9', 'tiles'), ('9', 'clovers'), ('9', 'pikes'), ('8', 'hearts'), ('8', 'tiles'), ('8', 'clovers'), ('8', 'pikes'), ('7', 'hearts'), ('7', 'tiles'), ('7', 'clovers'), ('7', 'pikes'), ('6', 'hearts'), ('6', 'tiles'), ('6', 'clovers'), ('6', 'pikes'), ('5', 'hearts'), ('5', 'tiles'), ('5', 'clovers'), ('5', 'pikes'), ('4', 'hearts'), ('4', 'tiles'), ('4', 'clovers'), ('4', 'pikes'), ('3', 'hearts'), ('3', 'tiles'), ('3', 'clovers'), ('3', 'pikes'), ('2', 'hearts'), ('2', 'tiles'), ('2', 'clovers'), ('2', 'pikes')]\n"
     ]
    }
   ],
   "source": [
    "import numpy as np\n",
    "import itertools\n",
    "\n",
    "cards = ['A', 'K', 'Q', 'J', '10', '9', '8', '7', '6', '5', '4', '3', '2']\n",
    "suits = ['hearts', 'tiles', 'clovers', 'pikes']\n",
    "deck = list(itertools.product(cards, suits))\n",
    "\n",
    "print(deck)"
   ]
  },
  {
   "cell_type": "code",
   "execution_count": 15,
   "metadata": {},
   "outputs": [],
   "source": [
    "hand = [cards.pop(), cards.pop()]"
   ]
  },
  {
   "cell_type": "code",
   "execution_count": 16,
   "metadata": {},
   "outputs": [
    {
     "data": {
      "text/plain": [
       "['8', '5']"
      ]
     },
     "execution_count": 16,
     "metadata": {},
     "output_type": "execute_result"
    }
   ],
   "source": [
    "hand"
   ]
  },
  {
   "cell_type": "code",
   "execution_count": 37,
   "metadata": {},
   "outputs": [],
   "source": [
    "import numpy as np\n",
    "import itertools\n",
    "\n",
    "class Game:\n",
    "    '''\n",
    "    This class takes as input:\n",
    "    \n",
    "    nr_of_players: the number of players that will participate in the game\n",
    "    limit: the limit of the bets in each round\n",
    "    blind: the size of the big blind\n",
    "    stack: the size of the initial stack of the game\n",
    "    \n",
    "    and creates a pokergame where you can deal the cards, players can fold, call or raise\n",
    "    and the game thus unfolds.\n",
    "    '''\n",
    "\n",
    "    # define cards as fixed variable within the game?!\n",
    "    cards = ['A', 'K', 'Q', 'J', '10', '9', '8', '7', '6', '5', '4', '3', '2']\n",
    "    suits = ['hearts', 'tiles', 'clovers', 'pikes']\n",
    "    deck = list(itertools.product(cards, suits))\n",
    "    \n",
    "    def __init__(self, nr_of_players, blind, stack, limit=None):\n",
    "        self.nr_of_players = nr_of_players\n",
    "        self.limit = limit\n",
    "        self.blind = blind\n",
    "        self.stack = stack\n",
    "        self.players = []\n",
    "        self.hands = {}\n",
    "        self.position_small = 1\n",
    "        self.position_big = 2\n",
    "        self.highest_bet = 0\n",
    "        self.result_rating = {0: [[('A', 'hearts'), ('K', 'hearts'), ('Q', 'hearts'), ('J', 'hearts'), ('10', 'hearts')]\n",
    "                                 , [('A', 'tiles'), ('K', 'tiles'), ('Q', 'tiles'), ('J', 'tiles'), ('10', 'tiles')]\n",
    "                                 , [('A', 'clovers'), ('K', 'clovers'), ('Q', 'clovers'), ('J', 'clovers'), ('10', 'clovers')]\n",
    "                                  , [('A', 'pikes'), ('K', 'pikes'), ('Q', 'pikes'), ('J', 'pikes'), ('10', 'pikes')]\n",
    "                                 ],\n",
    "                             1: [[]\n",
    "                                ]}\n",
    "        \n",
    "    \n",
    "    \n",
    "    def _create_players(self):\n",
    "        '''\n",
    "        The function _create players takes self.nr_of_players as input and creates an equivalent amount of players.\n",
    "        '''\n",
    "        for p in range(self.nr_of_players):\n",
    "            player = Player()\n",
    "            self.players.append(player)\n",
    "    \n",
    "    \n",
    "    def deal_cards(self):\n",
    "        '''\n",
    "        The function deal_cards takes the list of players (self.players) and deals a hand of two cards for each player\n",
    "        '''\n",
    "        self._create_players(self.stack)\n",
    "        np.random.shuffle(cards)\n",
    "        for p in self.players:\n",
    "            #self.hands[p] = [cards.pop(), cards.pop()]\n",
    "            player[p].hand = [cards.pop(), cards.pop()]\n",
    "    \n",
    "    \n",
    "    "
   ]
  },
  {
   "cell_type": "code",
   "execution_count": null,
   "metadata": {},
   "outputs": [],
   "source": [
    "class Player():\n",
    "    '''\n",
    "    The class Player represents a player in a poker game.\n",
    "    The player has an initial stack of money and at the beginning of each round she is dealt two cards.\n",
    "    Given her hand \n",
    "    '''\n",
    "    \n",
    "    def __init__(self, stack):\n",
    "        self.hand = hand\n",
    "        self.stack = stack\n",
    "        self.own_bet = 0\n",
    "        self.highest_bet = 0\n",
    "        self.active = 1\n",
    "        #self.actions = ['fold', 'call', ]\n",
    "        \n",
    "    def action(self):\n",
    "        \n",
    "        \n",
    "        \n",
    "        "
   ]
  },
  {
   "cell_type": "code",
   "execution_count": 30,
   "metadata": {},
   "outputs": [],
   "source": [
    "g = Game(2, 100, 1000)"
   ]
  },
  {
   "cell_type": "code",
   "execution_count": 31,
   "metadata": {},
   "outputs": [
    {
     "ename": "NameError",
     "evalue": "name 'Player' is not defined",
     "output_type": "error",
     "traceback": [
      "\u001b[0;31m---------------------------------------------------------------------------\u001b[0m",
      "\u001b[0;31mNameError\u001b[0m                                 Traceback (most recent call last)",
      "\u001b[0;32m<ipython-input-31-fa0c0f9696a8>\u001b[0m in \u001b[0;36m<module>\u001b[0;34m\u001b[0m\n\u001b[0;32m----> 1\u001b[0;31m \u001b[0mg\u001b[0m\u001b[0;34m.\u001b[0m\u001b[0mdeal_cards\u001b[0m\u001b[0;34m(\u001b[0m\u001b[0;34m)\u001b[0m\u001b[0;34m\u001b[0m\u001b[0;34m\u001b[0m\u001b[0m\n\u001b[0m",
      "\u001b[0;32m<ipython-input-29-31934e4f5ee9>\u001b[0m in \u001b[0;36mdeal_cards\u001b[0;34m(self)\u001b[0m\n\u001b[1;32m     39\u001b[0m         \u001b[0mThe\u001b[0m \u001b[0mfunction\u001b[0m \u001b[0mdeal_cards\u001b[0m \u001b[0mtakes\u001b[0m \u001b[0mthe\u001b[0m \u001b[0mlist\u001b[0m \u001b[0mof\u001b[0m \u001b[0mplayers\u001b[0m \u001b[0;34m(\u001b[0m\u001b[0mself\u001b[0m\u001b[0;34m.\u001b[0m\u001b[0mplayers\u001b[0m\u001b[0;34m)\u001b[0m \u001b[0;32mand\u001b[0m \u001b[0mdeals\u001b[0m \u001b[0ma\u001b[0m \u001b[0mhand\u001b[0m \u001b[0mof\u001b[0m \u001b[0mtwo\u001b[0m \u001b[0mcards\u001b[0m \u001b[0;32mfor\u001b[0m \u001b[0meach\u001b[0m \u001b[0mplayer\u001b[0m\u001b[0;34m\u001b[0m\u001b[0;34m\u001b[0m\u001b[0m\n\u001b[1;32m     40\u001b[0m         '''\n\u001b[0;32m---> 41\u001b[0;31m         \u001b[0mself\u001b[0m\u001b[0;34m.\u001b[0m\u001b[0m_create_players\u001b[0m\u001b[0;34m(\u001b[0m\u001b[0;34m)\u001b[0m\u001b[0;34m\u001b[0m\u001b[0;34m\u001b[0m\u001b[0m\n\u001b[0m\u001b[1;32m     42\u001b[0m         \u001b[0mnp\u001b[0m\u001b[0;34m.\u001b[0m\u001b[0mrandom\u001b[0m\u001b[0;34m.\u001b[0m\u001b[0mshuffle\u001b[0m\u001b[0;34m(\u001b[0m\u001b[0mcards\u001b[0m\u001b[0;34m)\u001b[0m\u001b[0;34m\u001b[0m\u001b[0;34m\u001b[0m\u001b[0m\n\u001b[1;32m     43\u001b[0m         \u001b[0;32mfor\u001b[0m \u001b[0mplayer\u001b[0m \u001b[0;32min\u001b[0m \u001b[0mself\u001b[0m\u001b[0;34m.\u001b[0m\u001b[0mplayers\u001b[0m\u001b[0;34m:\u001b[0m\u001b[0;34m\u001b[0m\u001b[0;34m\u001b[0m\u001b[0m\n",
      "\u001b[0;32m<ipython-input-29-31934e4f5ee9>\u001b[0m in \u001b[0;36m_create_players\u001b[0;34m(self)\u001b[0m\n\u001b[1;32m     31\u001b[0m         '''\n\u001b[1;32m     32\u001b[0m         \u001b[0;32mfor\u001b[0m \u001b[0mp\u001b[0m \u001b[0;32min\u001b[0m \u001b[0mrange\u001b[0m\u001b[0;34m(\u001b[0m\u001b[0mself\u001b[0m\u001b[0;34m.\u001b[0m\u001b[0mnr_of_players\u001b[0m\u001b[0;34m)\u001b[0m\u001b[0;34m:\u001b[0m\u001b[0;34m\u001b[0m\u001b[0;34m\u001b[0m\u001b[0m\n\u001b[0;32m---> 33\u001b[0;31m             \u001b[0mplayer\u001b[0m \u001b[0;34m=\u001b[0m \u001b[0mPlayer\u001b[0m\u001b[0;34m(\u001b[0m\u001b[0;34m)\u001b[0m\u001b[0;34m\u001b[0m\u001b[0;34m\u001b[0m\u001b[0m\n\u001b[0m\u001b[1;32m     34\u001b[0m             \u001b[0mself\u001b[0m\u001b[0;34m.\u001b[0m\u001b[0mplayers\u001b[0m\u001b[0;34m.\u001b[0m\u001b[0mappend\u001b[0m\u001b[0;34m(\u001b[0m\u001b[0mplayer\u001b[0m\u001b[0;34m)\u001b[0m\u001b[0;34m\u001b[0m\u001b[0;34m\u001b[0m\u001b[0m\n\u001b[1;32m     35\u001b[0m \u001b[0;34m\u001b[0m\u001b[0m\n",
      "\u001b[0;31mNameError\u001b[0m: name 'Player' is not defined"
     ]
    }
   ],
   "source": [
    "g.deal_cards()"
   ]
  },
  {
   "cell_type": "code",
   "execution_count": 24,
   "metadata": {},
   "outputs": [
    {
     "data": {
      "text/plain": [
       "(2, {})"
      ]
     },
     "execution_count": 24,
     "metadata": {},
     "output_type": "execute_result"
    }
   ],
   "source": [
    "g.nr_of_players, g.hands"
   ]
  },
  {
   "cell_type": "code",
   "execution_count": 8,
   "metadata": {},
   "outputs": [
    {
     "ename": "NameError",
     "evalue": "name 'player1Score' is not defined",
     "output_type": "error",
     "traceback": [
      "\u001b[0;31m---------------------------------------------------------------------------\u001b[0m",
      "\u001b[0;31mNameError\u001b[0m                                 Traceback (most recent call last)",
      "\u001b[0;32m<ipython-input-8-eb50217d5eaf>\u001b[0m in \u001b[0;36m<module>\u001b[0;34m\u001b[0m\n\u001b[1;32m    128\u001b[0m         \u001b[0;32mreturn\u001b[0m \u001b[0mscore\u001b[0m\u001b[0;34m\u001b[0m\u001b[0;34m\u001b[0m\u001b[0m\n\u001b[1;32m    129\u001b[0m \u001b[0;34m\u001b[0m\u001b[0m\n\u001b[0;32m--> 130\u001b[0;31m \u001b[0;32mclass\u001b[0m \u001b[0mCard\u001b[0m\u001b[0;34m:\u001b[0m\u001b[0;34m\u001b[0m\u001b[0;34m\u001b[0m\u001b[0m\n\u001b[0m\u001b[1;32m    131\u001b[0m     \u001b[0;31m# value = 0\u001b[0m\u001b[0;34m\u001b[0m\u001b[0;34m\u001b[0m\u001b[0;34m\u001b[0m\u001b[0m\n\u001b[1;32m    132\u001b[0m     \u001b[0;31m# suit = 0\u001b[0m\u001b[0;34m\u001b[0m\u001b[0;34m\u001b[0m\u001b[0;34m\u001b[0m\u001b[0m\n",
      "\u001b[0;32m<ipython-input-8-eb50217d5eaf>\u001b[0m in \u001b[0;36mCard\u001b[0;34m()\u001b[0m\n\u001b[1;32m    165\u001b[0m \u001b[0;31m#                player2Score += 1\u001b[0m\u001b[0;34m\u001b[0m\u001b[0;34m\u001b[0m\u001b[0;34m\u001b[0m\u001b[0m\n\u001b[1;32m    166\u001b[0m \u001b[0;34m\u001b[0m\u001b[0m\n\u001b[0;32m--> 167\u001b[0;31m     \u001b[0mprint\u001b[0m\u001b[0;34m(\u001b[0m\u001b[0;34m\"Player one has won \"\u001b[0m \u001b[0;34m+\u001b[0m \u001b[0mstr\u001b[0m\u001b[0;34m(\u001b[0m\u001b[0mplayer1Score\u001b[0m\u001b[0;34m)\u001b[0m \u001b[0;34m+\u001b[0m \u001b[0;34m\" games! \"\u001b[0m\u001b[0;34m)\u001b[0m\u001b[0;34m\u001b[0m\u001b[0;34m\u001b[0m\u001b[0m\n\u001b[0m\u001b[1;32m    168\u001b[0m     \u001b[0mprint\u001b[0m\u001b[0;34m(\u001b[0m\u001b[0;34m\"Player two has won \"\u001b[0m \u001b[0;34m+\u001b[0m \u001b[0mstr\u001b[0m\u001b[0;34m(\u001b[0m\u001b[0mplayer2Score\u001b[0m\u001b[0;34m)\u001b[0m \u001b[0;34m+\u001b[0m \u001b[0;34m\" games! \"\u001b[0m\u001b[0;34m)\u001b[0m\u001b[0;34m\u001b[0m\u001b[0;34m\u001b[0m\u001b[0m\n\u001b[1;32m    169\u001b[0m     \u001b[0;32mif\u001b[0m \u001b[0;34m(\u001b[0m\u001b[0mplayer1Score\u001b[0m \u001b[0;34m>\u001b[0m \u001b[0mplayer2Score\u001b[0m\u001b[0;34m)\u001b[0m\u001b[0;34m:\u001b[0m\u001b[0;34m\u001b[0m\u001b[0;34m\u001b[0m\u001b[0m\n",
      "\u001b[0;31mNameError\u001b[0m: name 'player1Score' is not defined"
     ]
    }
   ],
   "source": [
    "class Game:\n",
    "    playerOnesHand = []\n",
    "    playerTwosHand = []\n",
    "    playerOneScore = 0\n",
    "    playerTwoScore = 0\n",
    "    result = 0\n",
    "\n",
    "    def __init__(self, cards):\n",
    "        cards = cards.split()\n",
    "        self.playerOnesHand = Hand(cards[0:5])\n",
    "        self.playerTwosHand = Hand(cards[5:10])\n",
    "        self.play();\n",
    "\n",
    "    def play(self):\n",
    "        self.playerOneScore = self.playerOnesHand.getScore();\n",
    "        self.playerTwosCore = self.playerTwosHand.getScore();\n",
    "\n",
    "\n",
    "        if (self.playerOneScore > self.playerTwoScore):\n",
    "            result = 1\n",
    "        else: \n",
    "            result = 2\n",
    "\n",
    "class Hand: \n",
    "    cards = []\n",
    "    values = []\n",
    "    def setValues(self):\n",
    "        for card in self.cards:\n",
    "            self.values.append(card.value)\n",
    "        self.values.sort()\n",
    "\n",
    "        print(len(self.values))\n",
    "\n",
    "    def isFlush(self):\n",
    "        currentSuit = self.cards[0].suit\n",
    "        for card in self.cards:\n",
    "            if card.suit != currentSuit:\n",
    "                return False\n",
    "            currentSuit = card.suit\n",
    "        return True\n",
    "\n",
    "    def isRoyalFlush(self):\n",
    "        for card in self.cards:\n",
    "            self.values.append(card.value)\n",
    "\n",
    "        low = min(self.values)\n",
    "\n",
    "        if low == 10 and (low + 1 in self.values) and (low + 2 in self.values) and (low + 3 in self.values) and (low + 4 in self.values):\n",
    "            return True\n",
    "        else:\n",
    "            return False\n",
    "\n",
    "    def isFourOfAKind(self):\n",
    "        cardOneCount = self.values.count(self.values[0])\n",
    "        cardTwoCount = self.values.count(self.values[len(self.values) - 1])\n",
    "\n",
    "        if cardOneCount == 4 | cardTwoCount == 4:\n",
    "            return True\n",
    "        else: \n",
    "            return False\n",
    "\n",
    "    def isThreeOfAKind(self):\n",
    "        cardOneCount = self.values.count(self.values[0])\n",
    "        cardTwoCount = self.values.count(self.values[len(self.values) - 1])\n",
    "\n",
    "        if cardOneCount == 3 | cardTwoCount == 3:\n",
    "            return True\n",
    "        else: \n",
    "            return False\n",
    "\n",
    "    def isStraight(self):\n",
    "        low = min(self.values)\n",
    "\n",
    "        if low == 10 and (low + 1 in self.values) and (low + 2 in self.values) and (low + 3 in self.values) and (low + 4 in self.values):\n",
    "            return True;\n",
    "\n",
    "    def isFullHouse(self):\n",
    "        self.values = []\n",
    "        for card in self.cards:\n",
    "            self.values.append(card.value)\n",
    "\n",
    "        self.values.sort()\n",
    "        cardOneCount = self.values.count(self.values[0])\n",
    "        cardTwoCount = self.values.count(self.values[len(self.values) - 1])\n",
    "\n",
    "        if (cardOneCount == 2 and cardTwoCount == 3 ) | (cardOneCount == 3 and cardTwoCount == 2):\n",
    "            return True\n",
    "        else: \n",
    "            return False\n",
    "\n",
    "    def isTwoPair(self):\n",
    "        cardOneCount = self.values.count(self.values[0])\n",
    "        cardTwoCount = self.values.count(self.values[4])\n",
    "        cardThreeCount = self.values.count(self.values[2])\n",
    "\n",
    "        if(cardOneCount == 2 and cardTwoCount == 2) | (cardOneCount == 2 and cardThreeCount == 2) | (cardTwoCount == 2 and cardThreeCount == 2):\n",
    "            return True;\n",
    "        return False;\n",
    "\n",
    "    def isPair(self):\n",
    "        cardOneCount = self.values.count(self.values[0])\n",
    "        cardTwoCount = self.values.count(self.values[4])\n",
    "        cardThreeCount = self.values.count(self.values[2])\n",
    "\n",
    "        if(cardOneCount == 2 ^ cardTwoCount == 2 ^ cardTwoCount == 3):\n",
    "            return True;\n",
    "        return False;\n",
    "\n",
    "    def __init__(self, cards):\n",
    "        for c in cards:\n",
    "            self.cards.append(Card(c))\n",
    "\n",
    "        self.setValues()\n",
    "\n",
    "    def getScore(self):\n",
    "        score = 0\n",
    "        if self.isRoyalFlush(): score = 140000\n",
    "        elif self.isFlush() and self.isStraight(): score = 130000\n",
    "        elif self.isFourOfAKind(): score = 120000\n",
    "        elif self.isFullHouse(): score = 110000\n",
    "        elif self.isFlush(): score = 100000\n",
    "        elif self.isStraight(): score = 90000\n",
    "        elif self.isThreeOfAKind(): score = 80000\n",
    "        elif self.isTwoPair(): score = 70000\n",
    "        elif self.isTwoPair(): score = 60000\n",
    "        else: score = 0  \n",
    "\n",
    "        return score\n",
    "\n",
    "class Card:\n",
    "    # value = 0\n",
    "    # suit = 0\n",
    "    def __init__(self, card):\n",
    "        self.value = self.determineValue(card[0])\n",
    "        self.suit = card[1]\n",
    "\n",
    "    def determineValue(x,y):\n",
    "        return {\n",
    "            '2':2,\n",
    "            '3':3,\n",
    "            '4':4,\n",
    "            '5':6,\n",
    "            '6':6,\n",
    "            '7':7,\n",
    "            '8':8,\n",
    "            '9':9,\n",
    "            'T':10,\n",
    "            'J':11,\n",
    "            'Q':12,\n",
    "            'K':13,\n",
    "            'A':14\n",
    "        }.get(y)\n",
    "\n",
    "    def playGames():\n",
    "        player1Score = 0;\n",
    "        player2Score = 0;\n",
    "        \n",
    "#    with open(\"poker-small.txt\", 'w') as file:\n",
    "\n",
    "#        for line in file:\n",
    "#            game = Game(line)\n",
    "#            if game.result == 1:\n",
    "#                player1Score += 1\n",
    "#            else:\n",
    "#                player2Score += 1\n",
    "\n",
    "    print(\"Player one has won \" + str(player1Score) + \" games! \")\n",
    "    print(\"Player two has won \" + str(player2Score) + \" games! \")\n",
    "    if (player1Score > player2Score):\n",
    "        print(\"Player 1 wins!\")\n",
    "    else:\n",
    "        print(\"Player 2 wins!\")\n",
    " \n",
    "def main():\n",
    "    playGames();\n",
    "\n",
    "if __name__ == \"__main__\":\n",
    "    main()"
   ]
  },
  {
   "cell_type": "code",
   "execution_count": null,
   "metadata": {},
   "outputs": [],
   "source": []
  }
 ],
 "metadata": {
  "kernelspec": {
   "display_name": "Python 3",
   "language": "python",
   "name": "python3"
  },
  "language_info": {
   "codemirror_mode": {
    "name": "ipython",
    "version": 3
   },
   "file_extension": ".py",
   "mimetype": "text/x-python",
   "name": "python",
   "nbconvert_exporter": "python",
   "pygments_lexer": "ipython3",
   "version": "3.6.7"
  }
 },
 "nbformat": 4,
 "nbformat_minor": 2
}
