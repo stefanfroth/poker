{
 "cells": [
  {
   "cell_type": "markdown",
   "metadata": {},
   "source": [
    "# Does the poker code run?"
   ]
  },
  {
   "cell_type": "code",
   "execution_count": 1,
   "metadata": {},
   "outputs": [],
   "source": [
    "from poker import Card, Evaluator, Player, Game"
   ]
  },
  {
   "cell_type": "code",
   "execution_count": 2,
   "metadata": {},
   "outputs": [],
   "source": [
    "g = Game(6, 100, 10000) "
   ]
  },
  {
   "cell_type": "code",
   "execution_count": 85,
   "metadata": {},
   "outputs": [
    {
     "name": "stdout",
     "output_type": "stream",
     "text": [
      "The position of the small blind is 5\n",
      "[4, 5]\n",
      "The order is [4, 5, 0, 1, 2, 3]\n",
      "1's hand is [('q', '♦'), ('9', '♣')] \n",
      "2's hand is [('7', '♠'), ('8', '♥')] \n",
      "3's hand is [('7', '♥'), ('6', '♠')] \n",
      "4's hand is [('9', '♦'), ('3', '♣')] \n",
      "5's hand is [('7', '♦'), ('4', '♠')] \n",
      "6's hand is [('5', '♥'), ('q', '♠')] \n",
      "Player 5: I have bet the small blind of $100!\n",
      "Player 6: I have bet the big blind of $200!\n",
      "Player 1: I have raise and am betting $400!\n",
      "Player 2: I have raise and am betting $600!\n",
      "Player 3: I think I can win this round. I am calling!\n",
      "Player 3: I have call and am betting $600!\n",
      "Player 4: I think I can win this round. I am calling!\n",
      "Player 4: I have call and am betting $600!\n",
      "Player 5: My cards are sh..! I fold!\n",
      "Player 5: I have fold and am betting $100!\n",
      "The highest bid is 600\n",
      "Player 6: I have raise and am betting $800!\n",
      "The highest bid is 800\n",
      "Player 1: My cards are sh..! I fold!\n",
      "Player 1: I have fold and am betting $400!\n",
      "The highest bid is 800\n",
      "Player 2: I think I can win this round. I am calling!\n",
      "Player 2: I have call and am betting $800!\n",
      "The highest bid is 800\n",
      "Player 3: My cards are sh..! I fold!\n",
      "Player 3: I have fold and am betting $600!\n",
      "The highest bid is 800\n",
      "Player 4: My cards are sh..! I fold!\n",
      "Player 4: I have fold and am betting $600!\n",
      "The first round is over and 2 players        are still in the game\n",
      "The flop is: [('9', '♠'), ('k', '♦'), ('a', '♥')]\n",
      "Player 2 has the hand [('7', '♠'), ('8', '♥'), ('9', '♠'), ('k', '♦'), ('a', '♥')]\n",
      "Player 6 has the hand [('5', '♥'), ('q', '♠'), ('9', '♠'), ('k', '♦'), ('a', '♥')]\n",
      "Player 6: I have raise and am betting $1000!\n",
      "Player 2: I think I can win this round. I am calling!\n",
      "Player 2: I have call and am betting $1000!\n",
      "The second timestep is over and 2             players are still in the game!\n",
      "The cards after the turn are: [('9', '♠'), ('k', '♦'), ('a', '♥'), ('4', '♣')]\n",
      "Player 6: I think I can win this round. I am calling!\n",
      "Player 6: I have call and am betting $1000!\n",
      "Player 2: I have raise and am betting $1200!\n",
      "The third round is over and 2         players are still in the game\n",
      "The cards after the river are: [('9', '♠'), ('k', '♦'), ('a', '♥'), ('4', '♣'), ('k', '♥')]\n",
      "[('8', '♥'), ('9', '♠'), ('k', '♦'), ('a', '♥'), ('k', '♥')]\n",
      "The best hand of player 2 is a one-pair\n",
      "[('q', '♠'), ('9', '♠'), ('k', '♦'), ('a', '♥'), ('k', '♥')]\n",
      "The best hand of player 6 is a one-pair\n",
      "Player 6 wins with a one-pair.             His hand is ['k', 'a', 'q', '9']\n",
      "The winner is 6\n",
      "Player 1's stack after round 83             is 5200.\n",
      "Player 2's stack after round 83             is -5300.\n",
      "Player 3's stack after round 83             is -4000.\n",
      "Player 4's stack after round 83             is 46100.\n",
      "Player 5's stack after round 83             is 1800.\n",
      "Player 6's stack after round 83             is 16200.\n",
      "CPU times: user 13.8 ms, sys: 5.15 ms, total: 18.9 ms\n",
      "Wall time: 17 ms\n"
     ]
    }
   ],
   "source": [
    "%%time\n",
    "g.play_one_complete_round()"
   ]
  },
  {
   "cell_type": "code",
   "execution_count": null,
   "metadata": {},
   "outputs": [],
   "source": []
  }
 ],
 "metadata": {
  "kernelspec": {
   "display_name": "Python 3",
   "language": "python",
   "name": "python3"
  },
  "language_info": {
   "codemirror_mode": {
    "name": "ipython",
    "version": 3
   },
   "file_extension": ".py",
   "mimetype": "text/x-python",
   "name": "python",
   "nbconvert_exporter": "python",
   "pygments_lexer": "ipython3",
   "version": "3.7.3"
  }
 },
 "nbformat": 4,
 "nbformat_minor": 2
}
