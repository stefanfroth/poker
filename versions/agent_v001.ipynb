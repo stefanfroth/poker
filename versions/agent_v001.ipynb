{
 "cells": [
  {
   "cell_type": "code",
   "execution_count": 1,
   "metadata": {},
   "outputs": [
    {
     "name": "stderr",
     "output_type": "stream",
     "text": [
      "/Users/stefanroth/anaconda3/envs/poker/lib/python3.7/site-packages/tensorflow/python/framework/dtypes.py:516: FutureWarning: Passing (type, 1) or '1type' as a synonym of type is deprecated; in a future version of numpy, it will be understood as (type, (1,)) / '(1,)type'.\n",
      "  _np_qint8 = np.dtype([(\"qint8\", np.int8, 1)])\n",
      "/Users/stefanroth/anaconda3/envs/poker/lib/python3.7/site-packages/tensorflow/python/framework/dtypes.py:517: FutureWarning: Passing (type, 1) or '1type' as a synonym of type is deprecated; in a future version of numpy, it will be understood as (type, (1,)) / '(1,)type'.\n",
      "  _np_quint8 = np.dtype([(\"quint8\", np.uint8, 1)])\n",
      "/Users/stefanroth/anaconda3/envs/poker/lib/python3.7/site-packages/tensorflow/python/framework/dtypes.py:518: FutureWarning: Passing (type, 1) or '1type' as a synonym of type is deprecated; in a future version of numpy, it will be understood as (type, (1,)) / '(1,)type'.\n",
      "  _np_qint16 = np.dtype([(\"qint16\", np.int16, 1)])\n",
      "/Users/stefanroth/anaconda3/envs/poker/lib/python3.7/site-packages/tensorflow/python/framework/dtypes.py:519: FutureWarning: Passing (type, 1) or '1type' as a synonym of type is deprecated; in a future version of numpy, it will be understood as (type, (1,)) / '(1,)type'.\n",
      "  _np_quint16 = np.dtype([(\"quint16\", np.uint16, 1)])\n",
      "/Users/stefanroth/anaconda3/envs/poker/lib/python3.7/site-packages/tensorflow/python/framework/dtypes.py:520: FutureWarning: Passing (type, 1) or '1type' as a synonym of type is deprecated; in a future version of numpy, it will be understood as (type, (1,)) / '(1,)type'.\n",
      "  _np_qint32 = np.dtype([(\"qint32\", np.int32, 1)])\n",
      "/Users/stefanroth/anaconda3/envs/poker/lib/python3.7/site-packages/tensorflow/python/framework/dtypes.py:525: FutureWarning: Passing (type, 1) or '1type' as a synonym of type is deprecated; in a future version of numpy, it will be understood as (type, (1,)) / '(1,)type'.\n",
      "  np_resource = np.dtype([(\"resource\", np.ubyte, 1)])\n",
      "/Users/stefanroth/anaconda3/envs/poker/lib/python3.7/site-packages/tensorboard/compat/tensorflow_stub/dtypes.py:541: FutureWarning: Passing (type, 1) or '1type' as a synonym of type is deprecated; in a future version of numpy, it will be understood as (type, (1,)) / '(1,)type'.\n",
      "  _np_qint8 = np.dtype([(\"qint8\", np.int8, 1)])\n",
      "/Users/stefanroth/anaconda3/envs/poker/lib/python3.7/site-packages/tensorboard/compat/tensorflow_stub/dtypes.py:542: FutureWarning: Passing (type, 1) or '1type' as a synonym of type is deprecated; in a future version of numpy, it will be understood as (type, (1,)) / '(1,)type'.\n",
      "  _np_quint8 = np.dtype([(\"quint8\", np.uint8, 1)])\n",
      "/Users/stefanroth/anaconda3/envs/poker/lib/python3.7/site-packages/tensorboard/compat/tensorflow_stub/dtypes.py:543: FutureWarning: Passing (type, 1) or '1type' as a synonym of type is deprecated; in a future version of numpy, it will be understood as (type, (1,)) / '(1,)type'.\n",
      "  _np_qint16 = np.dtype([(\"qint16\", np.int16, 1)])\n",
      "/Users/stefanroth/anaconda3/envs/poker/lib/python3.7/site-packages/tensorboard/compat/tensorflow_stub/dtypes.py:544: FutureWarning: Passing (type, 1) or '1type' as a synonym of type is deprecated; in a future version of numpy, it will be understood as (type, (1,)) / '(1,)type'.\n",
      "  _np_quint16 = np.dtype([(\"quint16\", np.uint16, 1)])\n",
      "/Users/stefanroth/anaconda3/envs/poker/lib/python3.7/site-packages/tensorboard/compat/tensorflow_stub/dtypes.py:545: FutureWarning: Passing (type, 1) or '1type' as a synonym of type is deprecated; in a future version of numpy, it will be understood as (type, (1,)) / '(1,)type'.\n",
      "  _np_qint32 = np.dtype([(\"qint32\", np.int32, 1)])\n",
      "/Users/stefanroth/anaconda3/envs/poker/lib/python3.7/site-packages/tensorboard/compat/tensorflow_stub/dtypes.py:550: FutureWarning: Passing (type, 1) or '1type' as a synonym of type is deprecated; in a future version of numpy, it will be understood as (type, (1,)) / '(1,)type'.\n",
      "  np_resource = np.dtype([(\"resource\", np.ubyte, 1)])\n"
     ]
    }
   ],
   "source": [
    "from tensorflow.keras.models import model_from_json\n",
    "from tensorflow.keras.models import Sequential\n",
    "from tensorflow.keras import optimizers\n",
    "from tensorflow.keras.layers import Dense, Activation, Conv2D, MaxPooling2D, Flatten, Dropout\n",
    "from tensorflow.keras import metrics\n",
    "from tensorflow.keras import backend as K\n",
    "import numpy as np\n",
    "import warnings\n",
    "\n",
    "warnings.simplefilter(action='ignore', category=FutureWarning)"
   ]
  },
  {
   "cell_type": "code",
   "execution_count": 4,
   "metadata": {},
   "outputs": [],
   "source": [
    "import itertools\n",
    "import pandas as pd\n",
    "import sqlalchemy as sqa\n",
    "import numpy as np\n",
    "from tensorflow.keras import models, layers\n",
    "from tensorflow.keras.layers import Input\n",
    "\n",
    "DB = f'postgres://localhost/{\"poker\"}'\n",
    "ENGINE = sqa.create_engine(DB)\n",
    "\n",
    "max_features = 53\n",
    "max_len = 7\n",
    "vector_size = 4"
   ]
  },
  {
   "cell_type": "code",
   "execution_count": 41,
   "metadata": {},
   "outputs": [],
   "source": [
    "df = pd.read_sql_table(\"results\", con=ENGINE)"
   ]
  },
  {
   "cell_type": "code",
   "execution_count": 42,
   "metadata": {},
   "outputs": [
    {
     "data": {
      "text/html": [
       "<div>\n",
       "<style scoped>\n",
       "    .dataframe tbody tr th:only-of-type {\n",
       "        vertical-align: middle;\n",
       "    }\n",
       "\n",
       "    .dataframe tbody tr th {\n",
       "        vertical-align: top;\n",
       "    }\n",
       "\n",
       "    .dataframe thead th {\n",
       "        text-align: right;\n",
       "    }\n",
       "</style>\n",
       "<table border=\"1\" class=\"dataframe\">\n",
       "  <thead>\n",
       "    <tr style=\"text-align: right;\">\n",
       "      <th></th>\n",
       "      <th>index</th>\n",
       "      <th>action</th>\n",
       "      <th>active_0</th>\n",
       "      <th>active_1</th>\n",
       "      <th>active_2</th>\n",
       "      <th>active_3</th>\n",
       "      <th>active_4</th>\n",
       "      <th>bid</th>\n",
       "      <th>bid_0</th>\n",
       "      <th>bid_1</th>\n",
       "      <th>...</th>\n",
       "      <th>community3</th>\n",
       "      <th>community4</th>\n",
       "      <th>community5</th>\n",
       "      <th>game</th>\n",
       "      <th>hand1</th>\n",
       "      <th>hand2</th>\n",
       "      <th>player</th>\n",
       "      <th>position</th>\n",
       "      <th>round</th>\n",
       "      <th>reward</th>\n",
       "    </tr>\n",
       "  </thead>\n",
       "  <tbody>\n",
       "    <tr>\n",
       "      <th>0</th>\n",
       "      <td>0</td>\n",
       "      <td>0.0</td>\n",
       "      <td>1.0</td>\n",
       "      <td>1.0</td>\n",
       "      <td>1.0</td>\n",
       "      <td>1.0</td>\n",
       "      <td>1.0</td>\n",
       "      <td>0.0</td>\n",
       "      <td>100.0</td>\n",
       "      <td>200.0</td>\n",
       "      <td>...</td>\n",
       "      <td>0.0</td>\n",
       "      <td>0.0</td>\n",
       "      <td>0.0</td>\n",
       "      <td>1.0</td>\n",
       "      <td>33.0</td>\n",
       "      <td>15.0</td>\n",
       "      <td>2.0</td>\n",
       "      <td>2.0</td>\n",
       "      <td>1.0</td>\n",
       "      <td>0.0</td>\n",
       "    </tr>\n",
       "  </tbody>\n",
       "</table>\n",
       "<p>1 rows × 25 columns</p>\n",
       "</div>"
      ],
      "text/plain": [
       "   index  action  active_0  active_1  active_2  active_3  active_4  bid  \\\n",
       "0      0     0.0       1.0       1.0       1.0       1.0       1.0  0.0   \n",
       "\n",
       "   bid_0  bid_1  ...  community3  community4  community5  game  hand1  hand2  \\\n",
       "0  100.0  200.0  ...         0.0         0.0         0.0   1.0   33.0   15.0   \n",
       "\n",
       "   player  position  round  reward  \n",
       "0     2.0       2.0    1.0     0.0  \n",
       "\n",
       "[1 rows x 25 columns]"
      ]
     },
     "execution_count": 42,
     "metadata": {},
     "output_type": "execute_result"
    }
   ],
   "source": [
    "df = df.loc[[0]]\n",
    "df.head()"
   ]
  },
  {
   "cell_type": "code",
   "execution_count": 6,
   "metadata": {},
   "outputs": [],
   "source": [
    "y = np.array(df['action'])"
   ]
  },
  {
   "cell_type": "code",
   "execution_count": 7,
   "metadata": {},
   "outputs": [],
   "source": [
    "rewards = np.array(df['reward'])"
   ]
  },
  {
   "cell_type": "code",
   "execution_count": 43,
   "metadata": {},
   "outputs": [
    {
     "data": {
      "text/plain": [
       "array([33., 15.,  0.,  0.,  0.,  0.,  0.])"
      ]
     },
     "execution_count": 43,
     "metadata": {},
     "output_type": "execute_result"
    }
   ],
   "source": [
    "cards = np.array(df[['hand1', 'hand2', 'community1', 'community2', 'community3', 'community4', 'community5']].loc[0])\n",
    "for i in range(1, df.shape[0]):\n",
    "    cards = np.vstack((cards, np.array(df[['hand1', 'hand2', 'community1', 'community2', 'community3', 'community4', 'community5']].loc[i])))\n",
    "cards"
   ]
  },
  {
   "cell_type": "code",
   "execution_count": 9,
   "metadata": {},
   "outputs": [
    {
     "data": {
      "text/plain": [
       "(201, 7)"
      ]
     },
     "execution_count": 9,
     "metadata": {},
     "output_type": "execute_result"
    }
   ],
   "source": [
    "cards.shape"
   ]
  },
  {
   "cell_type": "code",
   "execution_count": 11,
   "metadata": {},
   "outputs": [
    {
     "data": {
      "text/plain": [
       "array([[2.0e+00, 1.0e+00, 1.0e+00, ..., 0.0e+00, 0.0e+00, 0.0e+00],\n",
       "       [3.0e+00, 1.0e+00, 1.0e+00, ..., 0.0e+00, 0.0e+00, 0.0e+00],\n",
       "       [4.0e+00, 1.0e+00, 1.0e+00, ..., 0.0e+00, 0.0e+00, 0.0e+00],\n",
       "       ...,\n",
       "       [2.0e+00, 3.0e+00, 1.0e+00, ..., 4.0e+02, 8.0e+02, 1.8e+03],\n",
       "       [0.0e+00, 3.0e+00, 0.0e+00, ..., 4.0e+02, 8.0e+02, 1.8e+03],\n",
       "       [2.0e+00, 3.0e+00, 1.0e+00, ..., 4.0e+02, 8.0e+02, 1.8e+03]])"
      ]
     },
     "execution_count": 11,
     "metadata": {},
     "output_type": "execute_result"
    }
   ],
   "source": [
    "rest = np.array(df[['position', 'round', 'active_0', 'active_1', 'active_2', 'active_3', 'active_4', 'bid', 'bid_0', 'bid_1', 'bid_2', 'bid_3', 'bid_4']].loc[0])\n",
    "for i in range(1, df.shape[0]):\n",
    "    rest = np.vstack((rest, np.array(df[['position', 'round', 'active_0', 'active_1', 'active_2', 'active_3', 'active_4', 'bid', 'bid_0', 'bid_1', 'bid_2', 'bid_3', 'bid_4']].loc[i])))\n",
    "rest"
   ]
  },
  {
   "cell_type": "code",
   "execution_count": 12,
   "metadata": {},
   "outputs": [
    {
     "data": {
      "text/plain": [
       "(201, 13)"
      ]
     },
     "execution_count": 12,
     "metadata": {},
     "output_type": "execute_result"
    }
   ],
   "source": [
    "rest.shape"
   ]
  },
  {
   "cell_type": "markdown",
   "metadata": {},
   "source": [
    "Create a model:"
   ]
  },
  {
   "cell_type": "code",
   "execution_count": 13,
   "metadata": {},
   "outputs": [
    {
     "name": "stderr",
     "output_type": "stream",
     "text": [
      "WARNING: Logging before flag parsing goes to stderr.\n",
      "W0813 11:25:16.370150 4377101760 deprecation.py:506] From /Users/stefanroth/anaconda3/envs/poker/lib/python3.7/site-packages/tensorflow/python/keras/initializers.py:119: calling RandomUniform.__init__ (from tensorflow.python.ops.init_ops) with dtype is deprecated and will be removed in a future version.\n",
      "Instructions for updating:\n",
      "Call initializer instance with the dtype argument instead of passing it to the constructor\n",
      "W0813 11:25:16.412194 4377101760 deprecation.py:506] From /Users/stefanroth/anaconda3/envs/poker/lib/python3.7/site-packages/tensorflow/python/ops/init_ops.py:1251: calling VarianceScaling.__init__ (from tensorflow.python.ops.init_ops) with dtype is deprecated and will be removed in a future version.\n",
      "Instructions for updating:\n",
      "Call initializer instance with the dtype argument instead of passing it to the constructor\n"
     ]
    }
   ],
   "source": [
    "# Card embeddings\n",
    "card_input = Input(shape=cards.shape[1])\n",
    "card_output = layers.Embedding(max_features, vector_size, input_length=max_len)(card_input)\n",
    "card_output = layers.Flatten()(card_output)\n",
    "\n",
    "# Other information\n",
    "state_input = Input(shape=rest.shape[1])\n",
    "\n",
    "#Merge and add dense layer\n",
    "merge_layer = layers.concatenate([state_input, card_output])\n",
    "x = layers.Dense(64, activation='relu')(merge_layer)\n",
    "x = layers.Dense(32, activation='relu')(x)\n",
    "main_output = layers.Dense(3, activation='softmax')(x)\n",
    "\n",
    "# Define model with two inputs\n",
    "model = models.Model(inputs=[card_input, state_input], outputs=[main_output])\n",
    "\n",
    "#model.compile(\n",
    "#    optimizer='rmsprop',\n",
    "#    loss='sparse_categorical_crossentropy',\n",
    "#    metrics=['accuracy']\n",
    "#)"
   ]
  },
  {
   "cell_type": "code",
   "execution_count": 14,
   "metadata": {},
   "outputs": [],
   "source": [
    "#    action_prob_ph = self.model.output\n",
    "action_prob = K.sum(model.output)\n",
    "action_onehot_ph = K.placeholder(shape=(None, 3),\n",
    "                                         name=\"action_onehot\")\n",
    "discount_reward_ph = K.placeholder(shape=(None,),\n",
    "                                            name=\"discount_reward\")\n",
    "\n",
    "#action_prob = K.sum(action_prob_ph * action_onehot_ph, axis=1)\n",
    "log_action_prob = K.log(action_prob)\n",
    "\n",
    "loss = - log_action_prob * discount_reward_ph\n",
    "loss = K.mean(loss)\n",
    "\n",
    "adam = optimizers.Adam()\n",
    "\n",
    "updates = adam.get_updates(params=model.trainable_weights,\n",
    "                           #constraints=[],\n",
    "                           loss=loss)\n",
    "\n",
    "train_fn = K.function(inputs=[model.input,\n",
    "                                   action_onehot_ph,\n",
    "                                   discount_reward_ph],\n",
    "                           outputs=[action_prob], updates=updates)\n",
    "\n",
    "model.compile(optimizer=adam, loss='sparse_categorical_crossentropy')"
   ]
  },
  {
   "cell_type": "code",
   "execution_count": 44,
   "metadata": {},
   "outputs": [
    {
     "data": {
      "text/plain": [
       "[array([33., 15.,  0.,  0.,  0.,  0.,  0.]),\n",
       " array([[2.0e+00, 1.0e+00, 1.0e+00, ..., 0.0e+00, 0.0e+00, 0.0e+00],\n",
       "        [3.0e+00, 1.0e+00, 1.0e+00, ..., 0.0e+00, 0.0e+00, 0.0e+00],\n",
       "        [4.0e+00, 1.0e+00, 1.0e+00, ..., 0.0e+00, 0.0e+00, 0.0e+00],\n",
       "        ...,\n",
       "        [2.0e+00, 3.0e+00, 1.0e+00, ..., 4.0e+02, 8.0e+02, 1.8e+03],\n",
       "        [0.0e+00, 3.0e+00, 0.0e+00, ..., 4.0e+02, 8.0e+02, 1.8e+03],\n",
       "        [2.0e+00, 3.0e+00, 1.0e+00, ..., 4.0e+02, 8.0e+02, 1.8e+03]])]"
      ]
     },
     "execution_count": 44,
     "metadata": {},
     "output_type": "execute_result"
    }
   ],
   "source": [
    "[cards, rest]"
   ]
  },
  {
   "cell_type": "code",
   "execution_count": 25,
   "metadata": {},
   "outputs": [
    {
     "data": {
      "text/plain": [
       "array([1.5773242e-16, 1.2698680e-18, 1.0000000e+00], dtype=float32)"
      ]
     },
     "execution_count": 25,
     "metadata": {},
     "output_type": "execute_result"
    }
   ],
   "source": [
    "actions = model.predict([cards[0:1], rest[0:1]])\n",
    "np.squeeze(actions)"
   ]
  },
  {
   "cell_type": "code",
   "execution_count": 35,
   "metadata": {},
   "outputs": [
    {
     "data": {
      "text/plain": [
       "2"
      ]
     },
     "execution_count": 35,
     "metadata": {},
     "output_type": "execute_result"
    }
   ],
   "source": [
    "np.random.choice(3, p=np.squeeze(actions))"
   ]
  },
  {
   "cell_type": "code",
   "execution_count": 22,
   "metadata": {},
   "outputs": [
    {
     "name": "stdout",
     "output_type": "stream",
     "text": [
      "Epoch 1/10\n",
      "201/201 [==============================] - 0s 2ms/sample - loss: 8.5680\n",
      "Epoch 2/10\n",
      "201/201 [==============================] - 0s 213us/sample - loss: 3.3222\n",
      "Epoch 3/10\n",
      "201/201 [==============================] - 0s 215us/sample - loss: 2.8116\n",
      "Epoch 4/10\n",
      "201/201 [==============================] - 0s 226us/sample - loss: 4.5773\n",
      "Epoch 5/10\n",
      "201/201 [==============================] - 0s 203us/sample - loss: 8.0140\n",
      "Epoch 6/10\n",
      "201/201 [==============================] - 0s 196us/sample - loss: 4.7310\n",
      "Epoch 7/10\n",
      "201/201 [==============================] - 0s 198us/sample - loss: 1.5801\n",
      "Epoch 8/10\n",
      "201/201 [==============================] - 0s 197us/sample - loss: 1.3348\n",
      "Epoch 9/10\n",
      "201/201 [==============================] - 0s 199us/sample - loss: 2.5486\n",
      "Epoch 10/10\n",
      "201/201 [==============================] - 0s 204us/sample - loss: 1.8740\n"
     ]
    },
    {
     "data": {
      "text/plain": [
       "<tensorflow.python.keras.callbacks.History at 0x127512128>"
      ]
     },
     "execution_count": 22,
     "metadata": {},
     "output_type": "execute_result"
    }
   ],
   "source": [
    "model.fit([cards, rest], y, batch_size=10, epochs=10)"
   ]
  },
  {
   "cell_type": "code",
   "execution_count": 23,
   "metadata": {},
   "outputs": [
    {
     "data": {
      "text/plain": [
       "<tf.Tensor 'Sum:0' shape=() dtype=float32>"
      ]
     },
     "execution_count": 23,
     "metadata": {},
     "output_type": "execute_result"
    }
   ],
   "source": [
    "K.sum(model.output)"
   ]
  },
  {
   "cell_type": "code",
   "execution_count": 40,
   "metadata": {},
   "outputs": [],
   "source": [
    "train_fn = build_train_fn()"
   ]
  },
  {
   "cell_type": "code",
   "execution_count": 41,
   "metadata": {},
   "outputs": [],
   "source": [
    "history = train([cards, rest], y, rewards)"
   ]
  },
  {
   "cell_type": "code",
   "execution_count": 42,
   "metadata": {},
   "outputs": [],
   "source": [
    "history."
   ]
  },
  {
   "cell_type": "code",
   "execution_count": 26,
   "metadata": {},
   "outputs": [
    {
     "name": "stdout",
     "output_type": "stream",
     "text": [
      "Epoch 1/10\n",
      "201/201 [==============================] - 0s 223us/sample - loss: 14.8911 - acc: 0.5224\n",
      "Epoch 2/10\n",
      "201/201 [==============================] - 0s 230us/sample - loss: 11.9024 - acc: 0.5622\n",
      "Epoch 3/10\n",
      "201/201 [==============================] - 0s 178us/sample - loss: 13.8787 - acc: 0.5373\n",
      "Epoch 4/10\n",
      "201/201 [==============================] - 0s 193us/sample - loss: 9.2593 - acc: 0.6070\n",
      "Epoch 5/10\n",
      "201/201 [==============================] - 0s 198us/sample - loss: 9.2232 - acc: 0.6617\n",
      "Epoch 6/10\n",
      "201/201 [==============================] - 0s 206us/sample - loss: 9.7201 - acc: 0.6119\n",
      "Epoch 7/10\n",
      "201/201 [==============================] - 0s 218us/sample - loss: 10.1314 - acc: 0.6070\n",
      "Epoch 8/10\n",
      "201/201 [==============================] - 0s 236us/sample - loss: 8.6636 - acc: 0.6119\n",
      "Epoch 9/10\n",
      "201/201 [==============================] - 0s 214us/sample - loss: 11.0821 - acc: 0.5622\n",
      "Epoch 10/10\n",
      "201/201 [==============================] - 0s 197us/sample - loss: 8.8118 - acc: 0.6468\n"
     ]
    },
    {
     "data": {
      "text/plain": [
       "<tensorflow.python.keras.callbacks.History at 0x12fba21d0>"
      ]
     },
     "execution_count": 26,
     "metadata": {},
     "output_type": "execute_result"
    }
   ],
   "source": [
    "model.fit([cards, rest], y, batch_size=10, epochs=10)"
   ]
  },
  {
   "cell_type": "code",
   "execution_count": 24,
   "metadata": {},
   "outputs": [
    {
     "data": {
      "text/plain": [
       "(7,)"
      ]
     },
     "execution_count": 24,
     "metadata": {},
     "output_type": "execute_result"
    }
   ],
   "source": [
    "cards[0].shape"
   ]
  },
  {
   "cell_type": "code",
   "execution_count": 22,
   "metadata": {},
   "outputs": [
    {
     "data": {
      "text/plain": [
       "[array([33., 15.,  0.,  0.,  0.,  0.,  0.]),\n",
       " array([  2.,   1.,   1.,   1.,   1.,   1.,   1.,   0., 100., 200.,   0.,\n",
       "          0.,   0.])]"
      ]
     },
     "execution_count": 22,
     "metadata": {},
     "output_type": "execute_result"
    }
   ],
   "source": [
    "[cards[0], rest[0]]"
   ]
  },
  {
   "cell_type": "code",
   "execution_count": 16,
   "metadata": {},
   "outputs": [
    {
     "data": {
      "text/plain": [
       "'fold'"
      ]
     },
     "execution_count": 16,
     "metadata": {},
     "output_type": "execute_result"
    }
   ],
   "source": [
    "str(np.squeeze(action[0]))"
   ]
  },
  {
   "cell_type": "code",
   "execution_count": 15,
   "metadata": {},
   "outputs": [
    {
     "data": {
      "text/plain": [
       "[array(['fold'], dtype='<U5'),\n",
       " array(['fold'], dtype='<U5'),\n",
       " array(['fold'], dtype='<U5'),\n",
       " array(['fold'], dtype='<U5'),\n",
       " array(['fold'], dtype='<U5'),\n",
       " array(['call'], dtype='<U5'),\n",
       " array(['raise'], dtype='<U5'),\n",
       " array(['call'], dtype='<U5'),\n",
       " array(['call'], dtype='<U5')]"
      ]
     },
     "execution_count": 15,
     "metadata": {},
     "output_type": "execute_result"
    }
   ],
   "source": [
    "pactions = ['fold', 'call', 'raise']\n",
    "action = []\n",
    "for i in range(actions.shape[0]):\n",
    "    action.append(np.random.choice(pactions, 1, p=actions[i]))\n",
    "    \n",
    "action"
   ]
  },
  {
   "cell_type": "code",
   "execution_count": null,
   "metadata": {},
   "outputs": [],
   "source": [
    "from keras.layers import Merge\n",
    "\n",
    "left_branch = Sequential()\n",
    "left_branch.add(layers.Embedding(max_features, vector_size, input_length=max_len))\n",
    "\n",
    "right_branch = Sequential()\n",
    "right_branch.add(Dense(32, input_dim=784))\n",
    "\n",
    "merged = Merge([left_branch, right_branch], mode='concat')\n",
    "\n",
    "final_model = Sequential()\n",
    "final_model.add(merged)\n",
    "final_model.add(Dense(10, activation='softmax'))"
   ]
  },
  {
   "cell_type": "code",
   "execution_count": 24,
   "metadata": {},
   "outputs": [
    {
     "name": "stderr",
     "output_type": "stream",
     "text": [
      "W0810 17:43:26.784821 4741285312 deprecation.py:506] From /Users/stefanroth/anaconda3/envs/poker/lib/python3.7/site-packages/tensorflow/python/ops/init_ops.py:1251: calling VarianceScaling.__init__ (from tensorflow.python.ops.init_ops) with dtype is deprecated and will be removed in a future version.\n",
      "Instructions for updating:\n",
      "Call initializer instance with the dtype argument instead of passing it to the constructor\n"
     ]
    },
    {
     "name": "stdout",
     "output_type": "stream",
     "text": [
      "Model: \"sequential\"\n",
      "_________________________________________________________________\n",
      "Layer (type)                 Output Shape              Param #   \n",
      "=================================================================\n",
      "embedding_4 (Embedding)      (None, 7, 4)              212       \n",
      "_________________________________________________________________\n",
      "flatten (Flatten)            (None, 28)                0         \n",
      "_________________________________________________________________\n",
      "dense (Dense)                (None, 1)                 29        \n",
      "=================================================================\n",
      "Total params: 241\n",
      "Trainable params: 241\n",
      "Non-trainable params: 0\n",
      "_________________________________________________________________\n"
     ]
    }
   ],
   "source": [
    "model = models.Sequential()\n",
    "\n",
    "model.add(layers.Embedding(\n",
    "    max_features, vector_size, input_length=max_len\n",
    "    # Number of distinct features, size of the word vector, input size\n",
    "                          ))\n",
    "state_input = Input(shape=rest.shape)\n",
    "\n",
    "model.add(layers.Flatten())\n",
    "model.add(layers.Dense(1, activation='softmax'))\n",
    "model.summary()\n",
    "\n",
    "model.compile(\n",
    "    optimizer='rmsprop',\n",
    "    loss='categorical_crossentropy',\n",
    "    metrics=['accuracy']\n",
    ")"
   ]
  },
  {
   "cell_type": "code",
   "execution_count": 103,
   "metadata": {},
   "outputs": [
    {
     "data": {
      "text/plain": [
       "Index(['index', 'action', 'active_0', 'active_1', 'active_2', 'active_3',\n",
       "       'active_4', 'bid', 'bid_0', 'bid_1', 'bid_2', 'bid_3', 'bid_4',\n",
       "       'community1', 'community2', 'community3', 'community4', 'community5',\n",
       "       'hand1', 'hand2', 'player', 'position', 'round', 'reward'],\n",
       "      dtype='object')"
      ]
     },
     "execution_count": 103,
     "metadata": {},
     "output_type": "execute_result"
    }
   ],
   "source": [
    "df.columns"
   ]
  },
  {
   "cell_type": "code",
   "execution_count": 10,
   "metadata": {},
   "outputs": [],
   "source": [
    "rest = df[['position', 'round', 'active_0', 'active_1', 'active_2', 'active_3', 'active_4', 'bid', 'bid_0', 'bid_1', 'bid_2', 'bid_3', 'bid_4'\\\n",
    "          , 'hand1', 'hand2', 'community1', 'community2', 'community3', 'community4', 'community5']]"
   ]
  },
  {
   "cell_type": "code",
   "execution_count": 14,
   "metadata": {},
   "outputs": [
    {
     "data": {
      "text/html": [
       "<div>\n",
       "<style scoped>\n",
       "    .dataframe tbody tr th:only-of-type {\n",
       "        vertical-align: middle;\n",
       "    }\n",
       "\n",
       "    .dataframe tbody tr th {\n",
       "        vertical-align: top;\n",
       "    }\n",
       "\n",
       "    .dataframe thead th {\n",
       "        text-align: right;\n",
       "    }\n",
       "</style>\n",
       "<table border=\"1\" class=\"dataframe\">\n",
       "  <thead>\n",
       "    <tr style=\"text-align: right;\">\n",
       "      <th></th>\n",
       "      <th>index</th>\n",
       "      <th>action</th>\n",
       "      <th>active_0</th>\n",
       "      <th>active_1</th>\n",
       "      <th>active_2</th>\n",
       "      <th>active_3</th>\n",
       "      <th>active_4</th>\n",
       "      <th>bid</th>\n",
       "      <th>bid_0</th>\n",
       "      <th>bid_1</th>\n",
       "      <th>...</th>\n",
       "      <th>community2</th>\n",
       "      <th>community3</th>\n",
       "      <th>community4</th>\n",
       "      <th>community5</th>\n",
       "      <th>hand1</th>\n",
       "      <th>hand2</th>\n",
       "      <th>player</th>\n",
       "      <th>position</th>\n",
       "      <th>round</th>\n",
       "      <th>reward</th>\n",
       "    </tr>\n",
       "  </thead>\n",
       "  <tbody>\n",
       "    <tr>\n",
       "      <th>0</th>\n",
       "      <td>0</td>\n",
       "      <td>4.0</td>\n",
       "      <td>1.0</td>\n",
       "      <td>1.0</td>\n",
       "      <td>1.0</td>\n",
       "      <td>1.0</td>\n",
       "      <td>1.0</td>\n",
       "      <td>200.0</td>\n",
       "      <td>100.0</td>\n",
       "      <td>200.0</td>\n",
       "      <td>...</td>\n",
       "      <td>999.0</td>\n",
       "      <td>999.0</td>\n",
       "      <td>999.0</td>\n",
       "      <td>999.0</td>\n",
       "      <td>25.0</td>\n",
       "      <td>22.0</td>\n",
       "      <td>2.0</td>\n",
       "      <td>2.0</td>\n",
       "      <td>1.0</td>\n",
       "      <td>-400.0</td>\n",
       "    </tr>\n",
       "    <tr>\n",
       "      <th>1</th>\n",
       "      <td>1</td>\n",
       "      <td>0.0</td>\n",
       "      <td>1.0</td>\n",
       "      <td>1.0</td>\n",
       "      <td>1.0</td>\n",
       "      <td>1.0</td>\n",
       "      <td>1.0</td>\n",
       "      <td>0.0</td>\n",
       "      <td>100.0</td>\n",
       "      <td>200.0</td>\n",
       "      <td>...</td>\n",
       "      <td>999.0</td>\n",
       "      <td>999.0</td>\n",
       "      <td>999.0</td>\n",
       "      <td>999.0</td>\n",
       "      <td>44.0</td>\n",
       "      <td>51.0</td>\n",
       "      <td>3.0</td>\n",
       "      <td>3.0</td>\n",
       "      <td>1.0</td>\n",
       "      <td>0.0</td>\n",
       "    </tr>\n",
       "    <tr>\n",
       "      <th>2</th>\n",
       "      <td>2</td>\n",
       "      <td>4.0</td>\n",
       "      <td>1.0</td>\n",
       "      <td>1.0</td>\n",
       "      <td>1.0</td>\n",
       "      <td>0.0</td>\n",
       "      <td>1.0</td>\n",
       "      <td>200.0</td>\n",
       "      <td>100.0</td>\n",
       "      <td>200.0</td>\n",
       "      <td>...</td>\n",
       "      <td>999.0</td>\n",
       "      <td>999.0</td>\n",
       "      <td>999.0</td>\n",
       "      <td>999.0</td>\n",
       "      <td>31.0</td>\n",
       "      <td>35.0</td>\n",
       "      <td>4.0</td>\n",
       "      <td>4.0</td>\n",
       "      <td>1.0</td>\n",
       "      <td>-1000.0</td>\n",
       "    </tr>\n",
       "    <tr>\n",
       "      <th>3</th>\n",
       "      <td>3</td>\n",
       "      <td>5.0</td>\n",
       "      <td>1.0</td>\n",
       "      <td>1.0</td>\n",
       "      <td>1.0</td>\n",
       "      <td>0.0</td>\n",
       "      <td>1.0</td>\n",
       "      <td>400.0</td>\n",
       "      <td>100.0</td>\n",
       "      <td>200.0</td>\n",
       "      <td>...</td>\n",
       "      <td>999.0</td>\n",
       "      <td>999.0</td>\n",
       "      <td>999.0</td>\n",
       "      <td>999.0</td>\n",
       "      <td>11.0</td>\n",
       "      <td>42.0</td>\n",
       "      <td>5.0</td>\n",
       "      <td>5.0</td>\n",
       "      <td>1.0</td>\n",
       "      <td>-1600.0</td>\n",
       "    </tr>\n",
       "    <tr>\n",
       "      <th>4</th>\n",
       "      <td>4</td>\n",
       "      <td>4.0</td>\n",
       "      <td>1.0</td>\n",
       "      <td>1.0</td>\n",
       "      <td>0.0</td>\n",
       "      <td>1.0</td>\n",
       "      <td>1.0</td>\n",
       "      <td>400.0</td>\n",
       "      <td>200.0</td>\n",
       "      <td>200.0</td>\n",
       "      <td>...</td>\n",
       "      <td>999.0</td>\n",
       "      <td>999.0</td>\n",
       "      <td>999.0</td>\n",
       "      <td>999.0</td>\n",
       "      <td>0.0</td>\n",
       "      <td>8.0</td>\n",
       "      <td>0.0</td>\n",
       "      <td>0.0</td>\n",
       "      <td>1.0</td>\n",
       "      <td>-2000.0</td>\n",
       "    </tr>\n",
       "  </tbody>\n",
       "</table>\n",
       "<p>5 rows × 24 columns</p>\n",
       "</div>"
      ],
      "text/plain": [
       "   index  action  active_0  active_1  active_2  active_3  active_4    bid  \\\n",
       "0      0     4.0       1.0       1.0       1.0       1.0       1.0  200.0   \n",
       "1      1     0.0       1.0       1.0       1.0       1.0       1.0    0.0   \n",
       "2      2     4.0       1.0       1.0       1.0       0.0       1.0  200.0   \n",
       "3      3     5.0       1.0       1.0       1.0       0.0       1.0  400.0   \n",
       "4      4     4.0       1.0       1.0       0.0       1.0       1.0  400.0   \n",
       "\n",
       "   bid_0  bid_1  ...  community2  community3  community4  community5  hand1  \\\n",
       "0  100.0  200.0  ...       999.0       999.0       999.0       999.0   25.0   \n",
       "1  100.0  200.0  ...       999.0       999.0       999.0       999.0   44.0   \n",
       "2  100.0  200.0  ...       999.0       999.0       999.0       999.0   31.0   \n",
       "3  100.0  200.0  ...       999.0       999.0       999.0       999.0   11.0   \n",
       "4  200.0  200.0  ...       999.0       999.0       999.0       999.0    0.0   \n",
       "\n",
       "   hand2  player  position  round  reward  \n",
       "0   22.0     2.0       2.0    1.0  -400.0  \n",
       "1   51.0     3.0       3.0    1.0     0.0  \n",
       "2   35.0     4.0       4.0    1.0 -1000.0  \n",
       "3   42.0     5.0       5.0    1.0 -1600.0  \n",
       "4    8.0     0.0       0.0    1.0 -2000.0  \n",
       "\n",
       "[5 rows x 24 columns]"
      ]
     },
     "execution_count": 14,
     "metadata": {},
     "output_type": "execute_result"
    }
   ],
   "source": [
    "df.head()"
   ]
  },
  {
   "cell_type": "code",
   "execution_count": 19,
   "metadata": {},
   "outputs": [],
   "source": [
    "class Agent:\n",
    "    '''\n",
    "    The class Agent takes the following parameters as input:\n",
    "    \n",
    "    and uses them to decide on his action in a specified game of poker\n",
    "    '''\n",
    "    \n",
    "    def __init__(self, df, vector_size):\n",
    "        self.dataframe = df\n",
    "        self.max_features = 53\n",
    "        self.vector_size = vector_size\n",
    "        self.max_len = 7\n",
    "        self.input_card_embedding = \"\"\n",
    "        self.input_state = \"\"\n",
    "        self.model = \"\"\n",
    "        self.action = \"\"\n",
    "    \n",
    "    def create_embedding_input(self):\n",
    "        '''\n",
    "        The function create_embedding_input creates the input for the embedding of the card vectors\n",
    "        '''\n",
    "        cards = np.array(self.dataframe[['hand1', 'hand2', 'community1', 'community2', 'community3', 'community4', 'community5']].loc[0])\n",
    "        for i in range(1, df.shape[0]):\n",
    "            cards = np.vstack((cards, np.array(self.dataframe[['hand1', 'hand2', 'community1', 'community2', 'community3', 'community4', 'community5']].loc[i])))\n",
    "        \n",
    "        self.input_card_embedding = cards\n",
    "        \n",
    "    \n",
    "    def create_state_input(self):\n",
    "        '''\n",
    "        The function create_state_input creates the input for the neural network apart from the card embeddings\n",
    "        '''\n",
    "        state = np.array(df[['position', 'round', 'active_0', 'active_1', 'active_2', 'active_3', 'active_4', 'bid', 'bid_0', 'bid_1', 'bid_2', 'bid_3', 'bid_4'\\\n",
    "          , 'hand1', 'hand2', 'community1', 'community2', 'community3', 'community4', 'community5']].loc[0])\n",
    "        for i in range(1, df.shape[0]):\n",
    "            state = np.vstack((rest, np.array(df[['position', 'round', 'active_0', 'active_1', 'active_2', 'active_3', 'active_4', 'bid', 'bid_0', 'bid_1', 'bid_2', 'bid_3', 'bid_4'\\\n",
    "                  , 'hand1', 'hand2', 'community1', 'community2', 'community3', 'community4', 'community5']].loc[i])))\n",
    "        \n",
    "        self.input_state = rest\n",
    "    \n",
    "    \n",
    "    def build_model(self):\n",
    "        '''\n",
    "        The function build_model sets up the basic structure for the model that is going to be trained.\n",
    "        '''\n",
    "        # Card embeddings\n",
    "        card_input = Input(shape=self.input_card_embedding.shape[1])\n",
    "        card_output = layers.Embedding(self.max_features, self.vector_size, input_length=self.input_length)(card_input)\n",
    "        card_output = layers.Flatten()(card_output)\n",
    "\n",
    "        # Other information\n",
    "        state_input = Input(shape=self.state_input.shape[1])\n",
    "\n",
    "        #Merge and add dense layer\n",
    "        merge_layer = layers.concatenate([state_input, card_output])\n",
    "        x = layers.Dense(64, activation='relu')(merge_layer)\n",
    "        x = layers.Dense(32, activation='relu')(x)\n",
    "        main_output = layers.Dense(3, activation='softmax')(x)\n",
    "\n",
    "        # Define model with two inputs\n",
    "        self.model = models.Model(inputs=[card_input, state_input], outputs=[main_output])\n",
    "        \n",
    "        #    action_prob_ph = self.model.output\n",
    "        action_prob = K.sum(self.model.output)\n",
    "        action_onehot_ph = K.placeholder(shape=(None, 3),\n",
    "                                                 name=\"action_onehot\")\n",
    "        discount_reward_ph = K.placeholder(shape=(None,),\n",
    "                                                    name=\"discount_reward\")\n",
    "\n",
    "        #action_prob = K.sum(action_prob_ph * action_onehot_ph, axis=1)\n",
    "        log_action_prob = K.log(action_prob)\n",
    "\n",
    "        loss = - log_action_prob * discount_reward_ph\n",
    "        loss = K.mean(loss)\n",
    "\n",
    "        adam = optimizers.Adam()\n",
    "\n",
    "        updates = adam.get_updates(params=model.trainable_weights,\n",
    "                                   #constraints=[],\n",
    "                                   loss=loss)\n",
    "\n",
    "        train_fn = K.function(inputs=[self.model.input,\n",
    "                                           action_onehot_ph,\n",
    "                                           discount_reward_ph],\n",
    "                                   outputs=[action_prob], updates=updates)\n",
    "\n",
    "        self.model.compile(optimizer='adam', loss='sparse_categorical_crossentropy')\n",
    "\n",
    "#        model.compile(\n",
    "#            optimizer='rmsprop',\n",
    "#            loss='sparse_categorical_crossentropy',\n",
    "#            metrics=['accuracy']\n",
    "#        )\n",
    "        \n",
    "    def chose_action(self, state: list):\n",
    "        self.action = np.squeeze(np.random.choice(self.model.predict(state)))\n",
    "        # don't forget to introduce baseline\n",
    "        "
   ]
  },
  {
   "cell_type": "code",
   "execution_count": 87,
   "metadata": {},
   "outputs": [],
   "source": [
    "agent = Agent(df)"
   ]
  },
  {
   "cell_type": "code",
   "execution_count": 88,
   "metadata": {},
   "outputs": [],
   "source": [
    "agent.create_embedding_input()"
   ]
  },
  {
   "cell_type": "code",
   "execution_count": 89,
   "metadata": {},
   "outputs": [
    {
     "data": {
      "text/plain": [
       "array([[ 25.,  22., 999., ..., 999., 999., 999.],\n",
       "       [ 44.,  51., 999., ..., 999., 999., 999.],\n",
       "       [ 31.,  35., 999., ..., 999., 999., 999.],\n",
       "       ...,\n",
       "       [ 49.,  34., 999., ..., 999., 999., 999.],\n",
       "       [ 31.,  46., 999., ..., 999., 999., 999.],\n",
       "       [  8.,   1., 999., ..., 999., 999., 999.]])"
      ]
     },
     "execution_count": 89,
     "metadata": {},
     "output_type": "execute_result"
    }
   ],
   "source": [
    "agent.input_card_embedding"
   ]
  },
  {
   "cell_type": "code",
   "execution_count": 4,
   "metadata": {},
   "outputs": [
    {
     "data": {
      "text/plain": [
       "(25.0, 51.0)"
      ]
     },
     "execution_count": 4,
     "metadata": {},
     "output_type": "execute_result"
    }
   ],
   "source": [
    "df.hand1[0], df.hand2[1]"
   ]
  },
  {
   "cell_type": "code",
   "execution_count": null,
   "metadata": {},
   "outputs": [],
   "source": []
  },
  {
   "cell_type": "markdown",
   "metadata": {},
   "source": [
    "Let us look at the community cards:"
   ]
  },
  {
   "cell_type": "code",
   "execution_count": 8,
   "metadata": {},
   "outputs": [
    {
     "name": "stdout",
     "output_type": "stream",
     "text": [
      "{\"(q,c)\",\"(5,d)\",\"(7,c)\"}\n",
      "{\"(q,c)\",\"(5,d)\",\"(7,c)\"}\n",
      "{\"(q,c)\",\"(5,d)\",\"(7,c)\",\"(j,d)\"}\n",
      "{\"(q,c)\",\"(5,d)\",\"(7,c)\",\"(j,d)\"}\n",
      "{\"(q,c)\",\"(5,d)\",\"(7,c)\",\"(j,d)\"}\n",
      "{\"(3,d)\",\"(t,h)\",\"(a,c)\"}\n",
      "{\"(3,d)\",\"(t,h)\",\"(a,c)\"}\n",
      "{\"(3,d)\",\"(t,h)\",\"(a,c)\",\"(q,c)\"}\n",
      "{\"(3,d)\",\"(t,h)\",\"(a,c)\",\"(q,c)\"}\n",
      "{\"(3,h)\",\"(7,s)\",\"(9,c)\"}\n",
      "{\"(3,h)\",\"(7,s)\",\"(9,c)\"}\n",
      "{\"(3,h)\",\"(7,s)\",\"(9,c)\"}\n",
      "{\"(3,h)\",\"(7,s)\",\"(9,c)\"}\n",
      "{\"(3,h)\",\"(7,s)\",\"(9,c)\"}\n",
      "{\"(3,h)\",\"(7,s)\",\"(9,c)\"}\n",
      "{\"(3,h)\",\"(7,s)\",\"(9,c)\"}\n",
      "{\"(3,h)\",\"(7,s)\",\"(9,c)\"}\n",
      "{\"(3,h)\",\"(7,s)\",\"(9,c)\"}\n",
      "{\"(3,h)\",\"(7,s)\",\"(9,c)\"}\n",
      "{\"(3,h)\",\"(7,s)\",\"(9,c)\"}\n",
      "{\"(3,h)\",\"(7,s)\",\"(9,c)\"}\n",
      "{\"(3,h)\",\"(7,s)\",\"(9,c)\"}\n",
      "{\"(3,h)\",\"(7,s)\",\"(9,c)\"}\n",
      "{\"(3,h)\",\"(7,s)\",\"(9,c)\"}\n",
      "{\"(3,h)\",\"(7,s)\",\"(9,c)\",\"(k,d)\"}\n",
      "{\"(3,h)\",\"(7,s)\",\"(9,c)\",\"(k,d)\"}\n",
      "{\"(3,h)\",\"(7,s)\",\"(9,c)\",\"(k,d)\"}\n",
      "{\"(3,h)\",\"(7,s)\",\"(9,c)\",\"(k,d)\"}\n",
      "{\"(3,h)\",\"(7,s)\",\"(9,c)\",\"(k,d)\"}\n",
      "{\"(3,h)\",\"(2,c)\",\"(4,h)\"}\n",
      "{\"(3,h)\",\"(2,c)\",\"(4,h)\"}\n",
      "{\"(3,h)\",\"(2,c)\",\"(4,h)\",\"(a,c)\"}\n",
      "{\"(3,h)\",\"(2,c)\",\"(4,h)\",\"(a,c)\"}\n",
      "{\"(k,d)\",\"(2,c)\",\"(5,d)\"}\n",
      "{\"(k,d)\",\"(2,c)\",\"(5,d)\"}\n",
      "{\"(k,d)\",\"(2,c)\",\"(5,d)\"}\n",
      "{\"(8,d)\",\"(4,c)\",\"(q,d)\"}\n",
      "{\"(8,d)\",\"(4,c)\",\"(q,d)\"}\n",
      "{\"(8,d)\",\"(4,c)\",\"(q,d)\",\"(3,d)\"}\n",
      "{\"(8,d)\",\"(4,c)\",\"(q,d)\",\"(3,d)\"}\n",
      "{\"(8,d)\",\"(4,c)\",\"(q,d)\",\"(3,d)\",\"(3,h)\"}\n",
      "{\"(8,d)\",\"(4,c)\",\"(q,d)\",\"(3,d)\",\"(3,h)\"}\n"
     ]
    }
   ],
   "source": [
    "for i in range(df.shape[0]):\n",
    "    if len(df.community[i]) > 2:\n",
    "        print(df.community[i])"
   ]
  },
  {
   "cell_type": "code",
   "execution_count": null,
   "metadata": {},
   "outputs": [],
   "source": []
  }
 ],
 "metadata": {
  "kernelspec": {
   "display_name": "Python 3",
   "language": "python",
   "name": "python3"
  },
  "language_info": {
   "codemirror_mode": {
    "name": "ipython",
    "version": 3
   },
   "file_extension": ".py",
   "mimetype": "text/x-python",
   "name": "python",
   "nbconvert_exporter": "python",
   "pygments_lexer": "ipython3",
   "version": "3.7.3"
  }
 },
 "nbformat": 4,
 "nbformat_minor": 2
}
