{
 "cells": [
  {
   "cell_type": "markdown",
   "metadata": {},
   "source": [
    "# Does the poker code run?"
   ]
  },
  {
   "cell_type": "code",
   "execution_count": 1,
   "metadata": {},
   "outputs": [],
   "source": [
    "from poker import Card, Evaluator, Player, Game"
   ]
  },
  {
   "cell_type": "code",
   "execution_count": 2,
   "metadata": {},
   "outputs": [],
   "source": [
    "g = Game(6, 100, 10000) "
   ]
  },
  {
   "cell_type": "code",
   "execution_count": null,
   "metadata": {},
   "outputs": [
    {
     "name": "stdout",
     "output_type": "stream",
     "text": [
      "The position of the small blind is 2\n",
      "[1, 2]\n",
      "The order is [1, 2, 3, 4, 5, 0]\n",
      "1's hand is [('3', '♠'), ('2', '♣')] \n",
      "2's hand is [('9', '♥'), ('5', '♠')] \n",
      "3's hand is [('5', '♥'), ('j', '♣')] \n",
      "4's hand is [('k', '♦'), ('2', '♦')] \n",
      "5's hand is [('7', '♠'), ('9', '♣')] \n",
      "6's hand is [('10', '♣'), ('8', '♦')] \n",
      "Player 2: I have bet the small blind of $100!\n",
      "Player 3: I have bet the big blind of $200!\n",
      "Player 1: I think I can win this round. I am calling!\n",
      "Player 1: I have call and am betting $200!\n",
      "Player 4: I have raise and am betting $400!\n",
      "Player 5: I have raise and am betting $600!\n",
      "Player 6: I think I can win this round. I am calling!\n",
      "Player 6: I have call and am betting $600!\n",
      "Player 2: I have raise and am betting $800!\n"
     ]
    }
   ],
   "source": [
    "%%time\n",
    "g.play_one_complete_round()"
   ]
  },
  {
   "cell_type": "code",
   "execution_count": null,
   "metadata": {},
   "outputs": [],
   "source": []
  }
 ],
 "metadata": {
  "kernelspec": {
   "display_name": "Python 3",
   "language": "python",
   "name": "python3"
  },
  "language_info": {
   "codemirror_mode": {
    "name": "ipython",
    "version": 3
   },
   "file_extension": ".py",
   "mimetype": "text/x-python",
   "name": "python",
   "nbconvert_exporter": "python",
   "pygments_lexer": "ipython3",
   "version": "3.7.3"
  }
 },
 "nbformat": 4,
 "nbformat_minor": 2
}
