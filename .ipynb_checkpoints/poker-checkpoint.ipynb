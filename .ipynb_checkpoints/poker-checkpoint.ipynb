{
 "cells": [
  {
   "cell_type": "markdown",
   "metadata": {},
   "source": [
    "# Does the poker code run?"
   ]
  },
  {
   "cell_type": "code",
   "execution_count": 1,
   "metadata": {},
   "outputs": [],
   "source": [
    "from poker import Card, Evaluator, Player, Game"
   ]
  },
  {
   "cell_type": "code",
   "execution_count": 2,
   "metadata": {},
   "outputs": [],
   "source": [
    "g = Game(6, 100, 10000) "
   ]
  },
  {
   "cell_type": "code",
   "execution_count": 3,
   "metadata": {},
   "outputs": [
    {
     "name": "stdout",
     "output_type": "stream",
     "text": [
      "1's hand is [('2', 'h'), ('4', 'h')] \n",
      "2's hand is [('5', 'd'), ('8', 'h')] \n",
      "3's hand is [('8', 'd'), ('7', 'c')] \n",
      "4's hand is [('k', 'h'), ('a', 's')] \n",
      "5's hand is [('9', 's'), ('t', 's')] \n",
      "6's hand is [('4', 's'), ('q', 'c')] \n",
      "Player 1: I have bet the small blind of $100!\n",
      "Player 2: I have bet the big blind of $200!\n",
      "Player 3: I think I can win this game. I am calling!\n",
      "Player 3: I have 4\n",
      "            and am betting $200!\n",
      "Player 4: My cards are sh..! I fold!\n",
      "Player 4: I have 0\n",
      "            and am betting $0!\n",
      "Player 5: I think I can win this game. I am calling!\n",
      "Player 5: I have 4\n",
      "            and am betting $200!\n",
      "Player 6: I have 5\n",
      "            and am betting $400!\n",
      "The highest bid is 400\n",
      "Player 1: I think I can win this game. I am calling!\n",
      "Player 1: I have 4\n",
      "            and am betting $400!\n",
      "The highest bid is 400\n",
      "Player 2: I think I can win this game. I am calling!\n",
      "Player 2: I have 4\n",
      "            and am betting $400!\n",
      "The highest bid is 400\n",
      "Player 3: I think I can win this game. I am calling!\n",
      "Player 3: I have 4\n",
      "            and am betting $400!\n",
      "The highest bid is 400\n",
      "Player 5: I think I can win this game. I am calling!\n",
      "Player 5: I have 4\n",
      "            and am betting $400!\n",
      "The highest bid is 400\n",
      "Player 6: I have 5\n",
      "            and am betting $600!\n",
      "The highest bid is 600\n",
      "Player 1: I have 5\n",
      "            and am betting $800!\n",
      "The highest bid is 800\n",
      "Player 2: I think I can win this game. I am calling!\n",
      "Player 2: I have 4\n",
      "            and am betting $800!\n",
      "The highest bid is 800\n",
      "Player 3: My cards are sh..! I fold!\n",
      "Player 3: I have 0\n",
      "            and am betting $400!\n",
      "The highest bid is 800\n",
      "Player 5: I have 5\n",
      "            and am betting $1000!\n",
      "The highest bid is 1000\n",
      "Player 6: I have 5\n",
      "            and am betting $1200!\n",
      "The highest bid is 1200\n",
      "Player 1: I have 5\n",
      "            and am betting $1400!\n",
      "The highest bid is 1400\n",
      "Player 2: I have 5\n",
      "            and am betting $1600!\n",
      "The highest bid is 1600\n",
      "Player 5: My cards are sh..! I fold!\n",
      "Player 5: I have 0\n",
      "            and am betting $1000!\n",
      "The highest bid is 1600\n",
      "Player 6: I think I can win this game. I am calling!\n",
      "Player 6: I have 4\n",
      "            and am betting $1600!\n",
      "The highest bid is 1600\n",
      "Player 1: I have 5\n",
      "            and am betting $1800!\n",
      "The highest bid is 1800\n",
      "Player 2: I think I can win this game. I am calling!\n",
      "Player 2: I have 4\n",
      "            and am betting $1800!\n",
      "The highest bid is 1800\n",
      "Player 6: My cards are sh..! I fold!\n",
      "Player 6: I have 0\n",
      "            and am betting $1600!\n",
      "round 2 is over and 2 players\n",
      "        are still in the game\n",
      "The flop is: [('t', 'h'), ('8', 's'), ('6', 's')]\n",
      "Player 1 has the hand [('2', 'h'), ('4', 'h'), ('t', 'h'), ('8', 's'), ('6', 's')]\n",
      "Player 2 has the hand [('5', 'd'), ('8', 'h'), ('t', 'h'), ('8', 's'), ('6', 's')]\n",
      "The highest bid is 1800\n",
      "Player 1: I have 5\n",
      "            and am betting $2000!\n",
      "The highest bid is 2000\n",
      "Player 2: I think I can win this game. I am calling!\n",
      "Player 2: I have 4\n",
      "            and am betting $2000!\n",
      "Round 3 is over and 2         players are still in the game\n",
      "The cards after the turn are: [('t', 'h'), ('8', 's'), ('6', 's'), ('3', 'd')]\n",
      "The highest bid is 2000\n",
      "Player 1: I am curious what is going to happen.            I am checking!\n",
      "Player 1: I have 3\n",
      "            and am betting $2000!\n",
      "The highest bid is 2000\n",
      "Player 2: I am curious what is going to happen.            I am checking!\n",
      "Player 2: I have 3\n",
      "            and am betting $2000!\n",
      "Round 4 is over and 2         players are still in the game\n",
      "The cards after the river are: [('t', 'h'), ('8', 's'), ('6', 's'), ('3', 'd'), ('2', 's')]\n",
      "The highest bid is 2000\n",
      "Player 1: I am curious what is going to happen.            I am checking!\n",
      "Player 1: I have 3\n",
      "            and am betting $2000!\n",
      "The highest bid is 2000\n",
      "Player 2: I have 5\n",
      "            and am betting $2200!\n",
      "The highest bid is 2200\n",
      "Player 1: My cards are sh..! I fold!\n",
      "Player 1: I have 0\n",
      "            and am betting $2000!\n",
      "The game has ended\n",
      "Round 4 is over and 1         players are still in the game\n",
      "Player 2 wins because everyone else dropped                    out.\n",
      "Player 1's stack after game 1             is 8000.\n",
      "Player 2's stack after game 1             is 15000.\n",
      "Player 3's stack after game 1             is 9600.\n",
      "Player 4's stack after game 1             is 10000.\n",
      "Player 5's stack after game 1             is 9000.\n",
      "Player 6's stack after game 1             is 8400.\n",
      "CPU times: user 109 ms, sys: 16.7 ms, total: 126 ms\n",
      "Wall time: 166 ms\n"
     ]
    }
   ],
   "source": [
    "%%time\n",
    "g.play_one_complete_game()"
   ]
  },
  {
   "cell_type": "code",
   "execution_count": 7,
   "metadata": {},
   "outputs": [],
   "source": [
    "suit = ['h', 'd', 'c', 's']\n",
    "# ordered strings of faces\n",
    "faces = '2 3 4 5 6 7 8 9 10 j q k a'\n",
    "deck = []\n",
    "# faces as lists\n",
    "face = faces.split()"
   ]
  },
  {
   "cell_type": "code",
   "execution_count": 11,
   "metadata": {},
   "outputs": [],
   "source": [
    "import itertools\n",
    "import numpy as np\n",
    "deck = list(itertools.product(faces.split(), suit))\n",
    "#np.random.shuffle(deck)"
   ]
  },
  {
   "cell_type": "code",
   "execution_count": 22,
   "metadata": {},
   "outputs": [],
   "source": [
    "d = {deck[i]: i for i in range(len(deck))}"
   ]
  },
  {
   "cell_type": "code",
   "execution_count": 23,
   "metadata": {},
   "outputs": [
    {
     "data": {
      "text/plain": [
       "{('2', 'h'): 0,\n",
       " ('2', 'd'): 1,\n",
       " ('2', 'c'): 2,\n",
       " ('2', 's'): 3,\n",
       " ('3', 'h'): 4,\n",
       " ('3', 'd'): 5,\n",
       " ('3', 'c'): 6,\n",
       " ('3', 's'): 7,\n",
       " ('4', 'h'): 8,\n",
       " ('4', 'd'): 9,\n",
       " ('4', 'c'): 10,\n",
       " ('4', 's'): 11,\n",
       " ('5', 'h'): 12,\n",
       " ('5', 'd'): 13,\n",
       " ('5', 'c'): 14,\n",
       " ('5', 's'): 15,\n",
       " ('6', 'h'): 16,\n",
       " ('6', 'd'): 17,\n",
       " ('6', 'c'): 18,\n",
       " ('6', 's'): 19,\n",
       " ('7', 'h'): 20,\n",
       " ('7', 'd'): 21,\n",
       " ('7', 'c'): 22,\n",
       " ('7', 's'): 23,\n",
       " ('8', 'h'): 24,\n",
       " ('8', 'd'): 25,\n",
       " ('8', 'c'): 26,\n",
       " ('8', 's'): 27,\n",
       " ('9', 'h'): 28,\n",
       " ('9', 'd'): 29,\n",
       " ('9', 'c'): 30,\n",
       " ('9', 's'): 31,\n",
       " ('10', 'h'): 32,\n",
       " ('10', 'd'): 33,\n",
       " ('10', 'c'): 34,\n",
       " ('10', 's'): 35,\n",
       " ('j', 'h'): 36,\n",
       " ('j', 'd'): 37,\n",
       " ('j', 'c'): 38,\n",
       " ('j', 's'): 39,\n",
       " ('q', 'h'): 40,\n",
       " ('q', 'd'): 41,\n",
       " ('q', 'c'): 42,\n",
       " ('q', 's'): 43,\n",
       " ('k', 'h'): 44,\n",
       " ('k', 'd'): 45,\n",
       " ('k', 'c'): 46,\n",
       " ('k', 's'): 47,\n",
       " ('a', 'h'): 48,\n",
       " ('a', 'd'): 49,\n",
       " ('a', 'c'): 50,\n",
       " ('a', 's'): 51}"
      ]
     },
     "execution_count": 23,
     "metadata": {},
     "output_type": "execute_result"
    }
   ],
   "source": [
    "d"
   ]
  },
  {
   "cell_type": "code",
   "execution_count": 20,
   "metadata": {},
   "outputs": [],
   "source": [
    "d[('John', 'Smith')] = 1"
   ]
  },
  {
   "cell_type": "code",
   "execution_count": 21,
   "metadata": {},
   "outputs": [
    {
     "data": {
      "text/plain": [
       "{('John', 'Smith'): 1}"
      ]
     },
     "execution_count": 21,
     "metadata": {},
     "output_type": "execute_result"
    }
   ],
   "source": [
    "d"
   ]
  },
  {
   "cell_type": "code",
   "execution_count": null,
   "metadata": {},
   "outputs": [],
   "source": []
  }
 ],
 "metadata": {
  "kernelspec": {
   "display_name": "Python 3",
   "language": "python",
   "name": "python3"
  },
  "language_info": {
   "codemirror_mode": {
    "name": "ipython",
    "version": 3
   },
   "file_extension": ".py",
   "mimetype": "text/x-python",
   "name": "python",
   "nbconvert_exporter": "python",
   "pygments_lexer": "ipython3",
   "version": "3.7.3"
  }
 },
 "nbformat": 4,
 "nbformat_minor": 2
}
