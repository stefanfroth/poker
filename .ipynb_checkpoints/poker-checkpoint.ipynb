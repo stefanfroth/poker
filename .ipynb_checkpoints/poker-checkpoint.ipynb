{
 "cells": [
  {
   "cell_type": "markdown",
   "metadata": {},
   "source": [
    "# Does the poker code run?"
   ]
  },
  {
   "cell_type": "code",
   "execution_count": 31,
   "metadata": {},
   "outputs": [
    {
     "data": {
      "text/html": [
       "<div>\n",
       "<style scoped>\n",
       "    .dataframe tbody tr th:only-of-type {\n",
       "        vertical-align: middle;\n",
       "    }\n",
       "\n",
       "    .dataframe tbody tr th {\n",
       "        vertical-align: top;\n",
       "    }\n",
       "\n",
       "    .dataframe thead th {\n",
       "        text-align: right;\n",
       "    }\n",
       "</style>\n",
       "<table border=\"1\" class=\"dataframe\">\n",
       "  <thead>\n",
       "    <tr style=\"text-align: right;\">\n",
       "      <th></th>\n",
       "      <th>1</th>\n",
       "      <th>2</th>\n",
       "    </tr>\n",
       "  </thead>\n",
       "  <tbody>\n",
       "    <tr>\n",
       "      <th>0</th>\n",
       "      <td>1.0</td>\n",
       "      <td>2.0</td>\n",
       "    </tr>\n",
       "  </tbody>\n",
       "</table>\n",
       "</div>"
      ],
      "text/plain": [
       "     1    2\n",
       "0  1.0  2.0"
      ]
     },
     "execution_count": 31,
     "metadata": {},
     "output_type": "execute_result"
    }
   ],
   "source": [
    "df = df.append({'1': 1, '2': 2}, ignore_index=True)\n",
    "df"
   ]
  },
  {
   "cell_type": "code",
   "execution_count": 32,
   "metadata": {},
   "outputs": [],
   "source": [
    "d = {}\n",
    "d['name'] = 1"
   ]
  },
  {
   "cell_type": "code",
   "execution_count": 35,
   "metadata": {},
   "outputs": [
    {
     "data": {
      "text/plain": [
       "1"
      ]
     },
     "execution_count": 35,
     "metadata": {},
     "output_type": "execute_result"
    }
   ],
   "source": [
    "d['name']"
   ]
  },
  {
   "cell_type": "code",
   "execution_count": 2,
   "metadata": {},
   "outputs": [],
   "source": [
    "import pandas as pd"
   ]
  },
  {
   "cell_type": "code",
   "execution_count": 1,
   "metadata": {},
   "outputs": [],
   "source": [
    "from poker import Card, Evaluator, Player, Game"
   ]
  },
  {
   "cell_type": "code",
   "execution_count": 2,
   "metadata": {},
   "outputs": [],
   "source": [
    "g = Game(6, 100, 10000) "
   ]
  },
  {
   "cell_type": "code",
   "execution_count": 3,
   "metadata": {},
   "outputs": [
    {
     "name": "stdout",
     "output_type": "stream",
     "text": [
      "The order is [0, 1, 2, 3, 4, 5]\n",
      "1's hand is [('j', '♠'), ('q', '♠')] \n",
      "2's hand is [('2', '♣'), ('6', '♦')] \n",
      "3's hand is [('9', '♠'), ('10', '♣')] \n",
      "4's hand is [('k', '♣'), ('9', '♦')] \n",
      "5's hand is [('3', '♣'), ('j', '♦')] \n",
      "6's hand is [('6', '♠'), ('7', '♠')] \n",
      "Player 1: I have bet the small blind of $100!\n",
      "Player 2: I have bet the big blind of $200!\n",
      "Player 3: My cards are sh..! I fold!\n",
      "Player 3: I have 0 and am betting $0!\n",
      "The row {'player': 2, 'position': 0, 'round': 1, 'actions': [], 'action': 0, 'bid': 0, 'hand': [('9', '♠'), ('10', '♣')], 'community': [], 'bid_0': 100, 'active_0': 1, 'action_0': [1], 'bid_1': 200, 'active_1': 1, 'action_1': [2], 'bid_2': 0, 'active_2': 1, 'action_2': [], 'bid_3': 0, 'active_3': 1, 'action_3': [], 'bid_4': 0, 'active_4': 1, 'action_4': []} will be added to the output frame\n",
      "Player 4: I have 5 and am betting $400!\n",
      "The row {'player': 3, 'position': 1, 'round': 1, 'actions': [], 'action': 5, 'bid': 400, 'hand': [('k', '♣'), ('9', '♦')], 'community': [], 'bid_0': 100, 'active_0': 1, 'action_0': [1], 'bid_1': 200, 'active_1': 1, 'action_1': [2], 'bid_2': 0, 'active_2': 0, 'action_2': [0], 'bid_3': 0, 'active_3': 1, 'action_3': [], 'bid_4': 0, 'active_4': 1, 'action_4': []} will be added to the output frame\n",
      "Player 5: I think I can win this game. I am calling!\n",
      "Player 5: I have 4 and am betting $400!\n",
      "The row {'player': 4, 'position': 2, 'round': 1, 'actions': [], 'action': 4, 'bid': 400, 'hand': [('3', '♣'), ('j', '♦')], 'community': [], 'bid_0': 100, 'active_0': 1, 'action_0': [1], 'bid_1': 200, 'active_1': 1, 'action_1': [2], 'bid_2': 0, 'active_2': 0, 'action_2': [0], 'bid_3': 400, 'active_3': 1, 'action_3': [5], 'bid_4': 0, 'active_4': 1, 'action_4': []} will be added to the output frame\n",
      "Player 6: I have 5 and am betting $600!\n",
      "The row {'player': 5, 'position': 3, 'round': 1, 'actions': [], 'action': 5, 'bid': 600, 'hand': [('6', '♠'), ('7', '♠')], 'community': [], 'bid_0': 100, 'active_0': 1, 'action_0': [1], 'bid_1': 200, 'active_1': 1, 'action_1': [2], 'bid_2': 0, 'active_2': 0, 'action_2': [0], 'bid_3': 400, 'active_3': 1, 'action_3': [5], 'bid_4': 400, 'active_4': 1, 'action_4': [4]} will be added to the output frame\n",
      "entered while loop\n",
      "entered for loop\n",
      "The highest bid is 600\n",
      "Player 1: I think I can win this game. I am calling!\n",
      "Player 1: I have 4 and am betting $600!\n",
      "The row {'player': 0, 'position': 0, 'round': 1, 'actions': [1], 'action': 4, 'bid': 600, 'hand': [('j', '♠'), ('q', '♠')], 'community': [], 'bid_0': 200, 'active_0': 1, 'action_0': [2], 'bid_1': 0, 'active_1': 0, 'action_1': [0], 'bid_2': 400, 'active_2': 1, 'action_2': [5], 'bid_3': 400, 'active_3': 1, 'action_3': [4], 'bid_4': 600, 'active_4': 1, 'action_4': [5]} will be added to the output frame\n",
      "entered for loop\n",
      "The highest bid is 600\n",
      "Player 2: My cards are sh..! I fold!\n",
      "Player 2: I have 0 and am betting $200!\n",
      "The row {'player': 1, 'position': 1, 'round': 1, 'actions': [2], 'action': 0, 'bid': 200, 'hand': [('2', '♣'), ('6', '♦')], 'community': [], 'bid_0': 600, 'active_0': 1, 'action_0': [1, 4], 'bid_1': 0, 'active_1': 0, 'action_1': [0], 'bid_2': 400, 'active_2': 1, 'action_2': [5], 'bid_3': 400, 'active_3': 1, 'action_3': [4], 'bid_4': 600, 'active_4': 1, 'action_4': [5]} will be added to the output frame\n",
      "entered for loop\n",
      "entered for loop\n",
      "The highest bid is 600\n",
      "Player 4: I have 5 and am betting $800!\n",
      "The row {'player': 3, 'position': 3, 'round': 1, 'actions': [5], 'action': 5, 'bid': 800, 'hand': [('k', '♣'), ('9', '♦')], 'community': [], 'bid_0': 600, 'active_0': 1, 'action_0': [1, 4], 'bid_1': 200, 'active_1': 0, 'action_1': [2, 0], 'bid_2': 0, 'active_2': 0, 'action_2': [0], 'bid_3': 400, 'active_3': 1, 'action_3': [4], 'bid_4': 600, 'active_4': 1, 'action_4': [5]} will be added to the output frame\n",
      "entered for loop\n",
      "The highest bid is 800\n",
      "Player 5: My cards are sh..! I fold!\n",
      "Player 5: I have 0 and am betting $400!\n",
      "The row {'player': 4, 'position': 4, 'round': 1, 'actions': [4], 'action': 0, 'bid': 400, 'hand': [('3', '♣'), ('j', '♦')], 'community': [], 'bid_0': 600, 'active_0': 1, 'action_0': [1, 4], 'bid_1': 200, 'active_1': 0, 'action_1': [2, 0], 'bid_2': 0, 'active_2': 0, 'action_2': [0], 'bid_3': 800, 'active_3': 1, 'action_3': [5, 5], 'bid_4': 600, 'active_4': 1, 'action_4': [5]} will be added to the output frame\n",
      "entered for loop\n",
      "The highest bid is 800\n",
      "Player 6: I think I can win this game. I am calling!\n",
      "Player 6: I have 4 and am betting $800!\n",
      "The row {'player': 5, 'position': 5, 'round': 1, 'actions': [5], 'action': 4, 'bid': 800, 'hand': [('6', '♠'), ('7', '♠')], 'community': [], 'bid_0': 600, 'active_0': 1, 'action_0': [1, 4], 'bid_1': 200, 'active_1': 0, 'action_1': [2, 0], 'bid_2': 0, 'active_2': 0, 'action_2': [0], 'bid_3': 800, 'active_3': 1, 'action_3': [5, 5], 'bid_4': 400, 'active_4': 0, 'action_4': [4, 0]} will be added to the output frame\n",
      "entered while loop\n",
      "entered for loop\n",
      "The highest bid is 800\n",
      "Player 1: I think I can win this game. I am calling!\n",
      "Player 1: I have 4 and am betting $800!\n",
      "The row {'player': 0, 'position': 0, 'round': 1, 'actions': [1, 4], 'action': 4, 'bid': 800, 'hand': [('j', '♠'), ('q', '♠')], 'community': [], 'bid_0': 200, 'active_0': 0, 'action_0': [2, 0], 'bid_1': 0, 'active_1': 0, 'action_1': [0], 'bid_2': 800, 'active_2': 1, 'action_2': [5, 5], 'bid_3': 400, 'active_3': 0, 'action_3': [4, 0], 'bid_4': 800, 'active_4': 1, 'action_4': [5, 4]} will be added to the output frame\n",
      "entered for loop\n",
      "entered for loop\n",
      "entered for loop\n",
      "The highest bid is 800\n",
      "Player 4: I am curious what is going to happen.            I am checking!\n",
      "Player 4: I have 3 and am betting $800!\n",
      "The row {'player': 3, 'position': 3, 'round': 1, 'actions': [5, 5], 'action': 3, 'bid': 800, 'hand': [('k', '♣'), ('9', '♦')], 'community': [], 'bid_0': 800, 'active_0': 1, 'action_0': [1, 4, 4], 'bid_1': 200, 'active_1': 0, 'action_1': [2, 0], 'bid_2': 0, 'active_2': 0, 'action_2': [0], 'bid_3': 400, 'active_3': 0, 'action_3': [4, 0], 'bid_4': 800, 'active_4': 1, 'action_4': [5, 4]} will be added to the output frame\n",
      "entered for loop\n",
      "entered for loop\n",
      "The highest bid is 800\n",
      "Player 6: I am curious what is going to happen.            I am checking!\n",
      "Player 6: I have 3 and am betting $800!\n",
      "The row {'player': 5, 'position': 5, 'round': 1, 'actions': [5, 4], 'action': 3, 'bid': 800, 'hand': [('6', '♠'), ('7', '♠')], 'community': [], 'bid_0': 800, 'active_0': 1, 'action_0': [1, 4, 4], 'bid_1': 200, 'active_1': 0, 'action_1': [2, 0], 'bid_2': 0, 'active_2': 0, 'action_2': [0], 'bid_3': 800, 'active_3': 1, 'action_3': [5, 5, 3], 'bid_4': 400, 'active_4': 0, 'action_4': [4, 0]} will be added to the output frame\n",
      "round 2 is over and 3 players\n",
      "        are still in the game\n",
      "The flop is: [('k', '♠'), ('4', '♥'), ('8', '♥')]\n",
      "Player 1 has the hand [('j', '♠'), ('q', '♠'), ('k', '♠'), ('4', '♥'), ('8', '♥')]\n",
      "Player 4 has the hand [('k', '♣'), ('9', '♦'), ('k', '♠'), ('4', '♥'), ('8', '♥')]\n",
      "Player 6 has the hand [('6', '♠'), ('7', '♠'), ('k', '♠'), ('4', '♥'), ('8', '♥')]\n",
      "entered while loop\n",
      "entered for loop\n",
      "The highest bid is 800\n",
      "Player 1: I am curious what is going to happen.            I am checking!\n",
      "Player 1: I have 3 and am betting $800!\n",
      "The row {'player': 0, 'position': 0, 'round': 2, 'actions': [1, 4, 4], 'action': 3, 'bid': 800, 'hand': [('j', '♠'), ('q', '♠')], 'community': [('k', '♠'), ('4', '♥'), ('8', '♥')], 'bid_0': 200, 'active_0': 0, 'action_0': [2, 0], 'bid_1': 0, 'active_1': 0, 'action_1': [0], 'bid_2': 800, 'active_2': 1, 'action_2': [5, 5, 3], 'bid_3': 400, 'active_3': 0, 'action_3': [4, 0], 'bid_4': 800, 'active_4': 1, 'action_4': [5, 4, 3]} will be added to the output frame\n",
      "entered for loop\n",
      "entered for loop\n",
      "entered for loop\n",
      "The highest bid is 800\n",
      "Player 4: I am curious what is going to happen.            I am checking!\n",
      "Player 4: I have 3 and am betting $800!\n",
      "The row {'player': 3, 'position': 3, 'round': 2, 'actions': [5, 5, 3], 'action': 3, 'bid': 800, 'hand': [('k', '♣'), ('9', '♦')], 'community': [('k', '♠'), ('4', '♥'), ('8', '♥')], 'bid_0': 800, 'active_0': 1, 'action_0': [1, 4, 4, 3], 'bid_1': 200, 'active_1': 0, 'action_1': [2, 0], 'bid_2': 0, 'active_2': 0, 'action_2': [0], 'bid_3': 400, 'active_3': 0, 'action_3': [4, 0], 'bid_4': 800, 'active_4': 1, 'action_4': [5, 4, 3]} will be added to the output frame\n",
      "entered for loop\n",
      "entered for loop\n",
      "The highest bid is 800\n",
      "Player 6: I have 5 and am betting $1000!\n",
      "The row {'player': 5, 'position': 5, 'round': 2, 'actions': [5, 4, 3], 'action': 5, 'bid': 1000, 'hand': [('6', '♠'), ('7', '♠')], 'community': [('k', '♠'), ('4', '♥'), ('8', '♥')], 'bid_0': 800, 'active_0': 1, 'action_0': [1, 4, 4, 3], 'bid_1': 200, 'active_1': 0, 'action_1': [2, 0], 'bid_2': 0, 'active_2': 0, 'action_2': [0], 'bid_3': 800, 'active_3': 1, 'action_3': [5, 5, 3, 3], 'bid_4': 400, 'active_4': 0, 'action_4': [4, 0]} will be added to the output frame\n",
      "entered while loop\n",
      "entered for loop\n",
      "The highest bid is 1000\n",
      "Player 1: I think I can win this game. I am calling!\n",
      "Player 1: I have 4 and am betting $1000!\n",
      "The row {'player': 0, 'position': 0, 'round': 2, 'actions': [1, 4, 4, 3], 'action': 4, 'bid': 1000, 'hand': [('j', '♠'), ('q', '♠')], 'community': [('k', '♠'), ('4', '♥'), ('8', '♥')], 'bid_0': 200, 'active_0': 0, 'action_0': [2, 0], 'bid_1': 0, 'active_1': 0, 'action_1': [0], 'bid_2': 800, 'active_2': 1, 'action_2': [5, 5, 3, 3], 'bid_3': 400, 'active_3': 0, 'action_3': [4, 0], 'bid_4': 1000, 'active_4': 1, 'action_4': [5, 4, 3, 5]} will be added to the output frame\n",
      "entered for loop\n",
      "entered for loop\n",
      "entered for loop\n",
      "The highest bid is 1000\n",
      "Player 4: I have 5 and am betting $1200!\n",
      "The row {'player': 3, 'position': 3, 'round': 2, 'actions': [5, 5, 3, 3], 'action': 5, 'bid': 1200, 'hand': [('k', '♣'), ('9', '♦')], 'community': [('k', '♠'), ('4', '♥'), ('8', '♥')], 'bid_0': 1000, 'active_0': 1, 'action_0': [1, 4, 4, 3, 4], 'bid_1': 200, 'active_1': 0, 'action_1': [2, 0], 'bid_2': 0, 'active_2': 0, 'action_2': [0], 'bid_3': 400, 'active_3': 0, 'action_3': [4, 0], 'bid_4': 1000, 'active_4': 1, 'action_4': [5, 4, 3, 5]} will be added to the output frame\n",
      "entered for loop\n",
      "entered for loop\n",
      "The highest bid is 1200\n",
      "Player 6: My cards are sh..! I fold!\n",
      "Player 6: I have 0 and am betting $1000!\n",
      "The row {'player': 5, 'position': 5, 'round': 2, 'actions': [5, 4, 3, 5], 'action': 0, 'bid': 1000, 'hand': [('6', '♠'), ('7', '♠')], 'community': [('k', '♠'), ('4', '♥'), ('8', '♥')], 'bid_0': 1000, 'active_0': 1, 'action_0': [1, 4, 4, 3, 4], 'bid_1': 200, 'active_1': 0, 'action_1': [2, 0], 'bid_2': 0, 'active_2': 0, 'action_2': [0], 'bid_3': 1200, 'active_3': 1, 'action_3': [5, 5, 3, 3, 5], 'bid_4': 400, 'active_4': 0, 'action_4': [4, 0]} will be added to the output frame\n",
      "entered while loop\n",
      "entered for loop\n",
      "The highest bid is 1200\n",
      "Player 1: I think I can win this game. I am calling!\n",
      "Player 1: I have 4 and am betting $1200!\n",
      "The row {'player': 0, 'position': 0, 'round': 2, 'actions': [1, 4, 4, 3, 4], 'action': 4, 'bid': 1200, 'hand': [('j', '♠'), ('q', '♠')], 'community': [('k', '♠'), ('4', '♥'), ('8', '♥')], 'bid_0': 200, 'active_0': 0, 'action_0': [2, 0], 'bid_1': 0, 'active_1': 0, 'action_1': [0], 'bid_2': 1200, 'active_2': 1, 'action_2': [5, 5, 3, 3, 5], 'bid_3': 400, 'active_3': 0, 'action_3': [4, 0], 'bid_4': 1000, 'active_4': 0, 'action_4': [5, 4, 3, 5, 0]} will be added to the output frame\n"
     ]
    },
    {
     "name": "stdout",
     "output_type": "stream",
     "text": [
      "entered for loop\n",
      "entered for loop\n",
      "entered for loop\n",
      "The highest bid is 1200\n",
      "Player 4: I am curious what is going to happen.            I am checking!\n",
      "Player 4: I have 3 and am betting $1200!\n",
      "The row {'player': 3, 'position': 3, 'round': 2, 'actions': [5, 5, 3, 3, 5], 'action': 3, 'bid': 1200, 'hand': [('k', '♣'), ('9', '♦')], 'community': [('k', '♠'), ('4', '♥'), ('8', '♥')], 'bid_0': 1200, 'active_0': 1, 'action_0': [1, 4, 4, 3, 4, 4], 'bid_1': 200, 'active_1': 0, 'action_1': [2, 0], 'bid_2': 0, 'active_2': 0, 'action_2': [0], 'bid_3': 400, 'active_3': 0, 'action_3': [4, 0], 'bid_4': 1000, 'active_4': 0, 'action_4': [5, 4, 3, 5, 0]} will be added to the output frame\n",
      "entered for loop\n",
      "entered for loop\n",
      "The second round is over and 2         players are still in the game\n",
      "The cards after the turn are: [('k', '♠'), ('4', '♥'), ('8', '♥'), ('a', '♠')]\n",
      "entered while loop\n",
      "entered for loop\n",
      "The highest bid is 1200\n",
      "Player 1: I have 5 and am betting $1400!\n",
      "The row {'player': 0, 'position': 0, 'round': 3, 'actions': [1, 4, 4, 3, 4, 4], 'action': 5, 'bid': 1400, 'hand': [('j', '♠'), ('q', '♠')], 'community': [('k', '♠'), ('4', '♥'), ('8', '♥'), ('a', '♠')], 'bid_0': 200, 'active_0': 0, 'action_0': [2, 0], 'bid_1': 0, 'active_1': 0, 'action_1': [0], 'bid_2': 1200, 'active_2': 1, 'action_2': [5, 5, 3, 3, 5, 3], 'bid_3': 400, 'active_3': 0, 'action_3': [4, 0], 'bid_4': 1000, 'active_4': 0, 'action_4': [5, 4, 3, 5, 0]} will be added to the output frame\n",
      "entered for loop\n",
      "entered for loop\n",
      "entered for loop\n",
      "The highest bid is 1400\n",
      "Player 4: I think I can win this game. I am calling!\n",
      "Player 4: I have 4 and am betting $1400!\n",
      "The row {'player': 3, 'position': 3, 'round': 3, 'actions': [5, 5, 3, 3, 5, 3], 'action': 4, 'bid': 1400, 'hand': [('k', '♣'), ('9', '♦')], 'community': [('k', '♠'), ('4', '♥'), ('8', '♥'), ('a', '♠')], 'bid_0': 1400, 'active_0': 1, 'action_0': [1, 4, 4, 3, 4, 4, 5], 'bid_1': 200, 'active_1': 0, 'action_1': [2, 0], 'bid_2': 0, 'active_2': 0, 'action_2': [0], 'bid_3': 400, 'active_3': 0, 'action_3': [4, 0], 'bid_4': 1000, 'active_4': 0, 'action_4': [5, 4, 3, 5, 0]} will be added to the output frame\n",
      "entered for loop\n",
      "entered for loop\n",
      "The third round is over and 2         players are still in the game\n",
      "The cards after the river are: [('k', '♠'), ('4', '♥'), ('8', '♥'), ('a', '♠'), ('3', '♠')]\n",
      "[('j', '♠'), ('q', '♠'), ('k', '♠'), ('a', '♠'), ('3', '♠')]\n",
      "The best hand of player 1 is a flush\n",
      "[('k', '♣'), ('9', '♦'), ('k', '♠'), ('8', '♥'), ('a', '♠')]\n",
      "The best hand of player 4 is a one-pair\n",
      "Player 1 wins with a flush.             His hand is ['a', 'k', 'q', 'j', '3']\n",
      "The winner is 1\n",
      "Player 1's stack after game 1             is 13000.\n",
      "Player 2's stack after game 1             is 9800.\n",
      "Player 3's stack after game 1             is 10000.\n",
      "Player 4's stack after game 1             is 8600.\n",
      "Player 5's stack after game 1             is 9600.\n",
      "Player 6's stack after game 1             is 9000.\n",
      "CPU times: user 245 ms, sys: 20.4 ms, total: 266 ms\n",
      "Wall time: 262 ms\n"
     ]
    }
   ],
   "source": [
    "%%time\n",
    "g.play_one_complete_game()"
   ]
  },
  {
   "cell_type": "code",
   "execution_count": 7,
   "metadata": {},
   "outputs": [
    {
     "data": {
      "text/html": [
       "<div>\n",
       "<style scoped>\n",
       "    .dataframe tbody tr th:only-of-type {\n",
       "        vertical-align: middle;\n",
       "    }\n",
       "\n",
       "    .dataframe tbody tr th {\n",
       "        vertical-align: top;\n",
       "    }\n",
       "\n",
       "    .dataframe thead th {\n",
       "        text-align: right;\n",
       "    }\n",
       "</style>\n",
       "<table border=\"1\" class=\"dataframe\">\n",
       "  <thead>\n",
       "    <tr style=\"text-align: right;\">\n",
       "      <th></th>\n",
       "      <th>action</th>\n",
       "      <th>action_0</th>\n",
       "      <th>action_1</th>\n",
       "      <th>action_2</th>\n",
       "      <th>action_3</th>\n",
       "      <th>action_4</th>\n",
       "      <th>actions</th>\n",
       "      <th>active_0</th>\n",
       "      <th>active_1</th>\n",
       "      <th>active_2</th>\n",
       "      <th>...</th>\n",
       "      <th>bid_0</th>\n",
       "      <th>bid_1</th>\n",
       "      <th>bid_2</th>\n",
       "      <th>bid_3</th>\n",
       "      <th>bid_4</th>\n",
       "      <th>community</th>\n",
       "      <th>hand</th>\n",
       "      <th>player</th>\n",
       "      <th>position</th>\n",
       "      <th>round</th>\n",
       "    </tr>\n",
       "  </thead>\n",
       "  <tbody>\n",
       "    <tr>\n",
       "      <th>0</th>\n",
       "      <td>0.0</td>\n",
       "      <td>[1, 4, 4, 3, 4, 4, 5]</td>\n",
       "      <td>[2, 0]</td>\n",
       "      <td>[5, 5, 3, 3, 5, 3, 4]</td>\n",
       "      <td>[4, 0]</td>\n",
       "      <td>[5, 4, 3, 5, 0]</td>\n",
       "      <td>[]</td>\n",
       "      <td>1.0</td>\n",
       "      <td>1.0</td>\n",
       "      <td>1.0</td>\n",
       "      <td>...</td>\n",
       "      <td>100.0</td>\n",
       "      <td>200.0</td>\n",
       "      <td>0.0</td>\n",
       "      <td>0.0</td>\n",
       "      <td>0.0</td>\n",
       "      <td>[]</td>\n",
       "      <td>[(9, ♠), (10, ♣)]</td>\n",
       "      <td>2.0</td>\n",
       "      <td>0.0</td>\n",
       "      <td>1.0</td>\n",
       "    </tr>\n",
       "    <tr>\n",
       "      <th>1</th>\n",
       "      <td>5.0</td>\n",
       "      <td>[1, 4, 4, 3, 4, 4, 5]</td>\n",
       "      <td>[2, 0]</td>\n",
       "      <td>[0]</td>\n",
       "      <td>[4, 0]</td>\n",
       "      <td>[5, 4, 3, 5, 0]</td>\n",
       "      <td>[]</td>\n",
       "      <td>1.0</td>\n",
       "      <td>1.0</td>\n",
       "      <td>0.0</td>\n",
       "      <td>...</td>\n",
       "      <td>100.0</td>\n",
       "      <td>200.0</td>\n",
       "      <td>0.0</td>\n",
       "      <td>0.0</td>\n",
       "      <td>0.0</td>\n",
       "      <td>[]</td>\n",
       "      <td>[(k, ♣), (9, ♦)]</td>\n",
       "      <td>3.0</td>\n",
       "      <td>1.0</td>\n",
       "      <td>1.0</td>\n",
       "    </tr>\n",
       "    <tr>\n",
       "      <th>2</th>\n",
       "      <td>4.0</td>\n",
       "      <td>[1, 4, 4, 3, 4, 4, 5]</td>\n",
       "      <td>[2, 0]</td>\n",
       "      <td>[0]</td>\n",
       "      <td>[5, 5, 3, 3, 5, 3, 4]</td>\n",
       "      <td>[5, 4, 3, 5, 0]</td>\n",
       "      <td>[]</td>\n",
       "      <td>1.0</td>\n",
       "      <td>1.0</td>\n",
       "      <td>0.0</td>\n",
       "      <td>...</td>\n",
       "      <td>100.0</td>\n",
       "      <td>200.0</td>\n",
       "      <td>0.0</td>\n",
       "      <td>400.0</td>\n",
       "      <td>0.0</td>\n",
       "      <td>[]</td>\n",
       "      <td>[(3, ♣), (j, ♦)]</td>\n",
       "      <td>4.0</td>\n",
       "      <td>2.0</td>\n",
       "      <td>1.0</td>\n",
       "    </tr>\n",
       "    <tr>\n",
       "      <th>3</th>\n",
       "      <td>5.0</td>\n",
       "      <td>[1, 4, 4, 3, 4, 4, 5]</td>\n",
       "      <td>[2, 0]</td>\n",
       "      <td>[0]</td>\n",
       "      <td>[5, 5, 3, 3, 5, 3, 4]</td>\n",
       "      <td>[4, 0]</td>\n",
       "      <td>[]</td>\n",
       "      <td>1.0</td>\n",
       "      <td>1.0</td>\n",
       "      <td>0.0</td>\n",
       "      <td>...</td>\n",
       "      <td>100.0</td>\n",
       "      <td>200.0</td>\n",
       "      <td>0.0</td>\n",
       "      <td>400.0</td>\n",
       "      <td>400.0</td>\n",
       "      <td>[]</td>\n",
       "      <td>[(6, ♠), (7, ♠)]</td>\n",
       "      <td>5.0</td>\n",
       "      <td>3.0</td>\n",
       "      <td>1.0</td>\n",
       "    </tr>\n",
       "    <tr>\n",
       "      <th>4</th>\n",
       "      <td>4.0</td>\n",
       "      <td>[2, 0]</td>\n",
       "      <td>[0]</td>\n",
       "      <td>[5, 5, 3, 3, 5, 3, 4]</td>\n",
       "      <td>[4, 0]</td>\n",
       "      <td>[5, 4, 3, 5, 0]</td>\n",
       "      <td>[1]</td>\n",
       "      <td>1.0</td>\n",
       "      <td>0.0</td>\n",
       "      <td>1.0</td>\n",
       "      <td>...</td>\n",
       "      <td>200.0</td>\n",
       "      <td>0.0</td>\n",
       "      <td>400.0</td>\n",
       "      <td>400.0</td>\n",
       "      <td>600.0</td>\n",
       "      <td>[]</td>\n",
       "      <td>[(j, ♠), (q, ♠)]</td>\n",
       "      <td>0.0</td>\n",
       "      <td>0.0</td>\n",
       "      <td>1.0</td>\n",
       "    </tr>\n",
       "    <tr>\n",
       "      <th>5</th>\n",
       "      <td>0.0</td>\n",
       "      <td>[1, 4, 4, 3, 4, 4, 5]</td>\n",
       "      <td>[0]</td>\n",
       "      <td>[5, 5, 3, 3, 5, 3, 4]</td>\n",
       "      <td>[4, 0]</td>\n",
       "      <td>[5, 4, 3, 5, 0]</td>\n",
       "      <td>[2]</td>\n",
       "      <td>1.0</td>\n",
       "      <td>0.0</td>\n",
       "      <td>1.0</td>\n",
       "      <td>...</td>\n",
       "      <td>600.0</td>\n",
       "      <td>0.0</td>\n",
       "      <td>400.0</td>\n",
       "      <td>400.0</td>\n",
       "      <td>600.0</td>\n",
       "      <td>[]</td>\n",
       "      <td>[(2, ♣), (6, ♦)]</td>\n",
       "      <td>1.0</td>\n",
       "      <td>1.0</td>\n",
       "      <td>1.0</td>\n",
       "    </tr>\n",
       "    <tr>\n",
       "      <th>6</th>\n",
       "      <td>5.0</td>\n",
       "      <td>[1, 4, 4, 3, 4, 4, 5]</td>\n",
       "      <td>[2, 0]</td>\n",
       "      <td>[0]</td>\n",
       "      <td>[4, 0]</td>\n",
       "      <td>[5, 4, 3, 5, 0]</td>\n",
       "      <td>[5]</td>\n",
       "      <td>1.0</td>\n",
       "      <td>0.0</td>\n",
       "      <td>0.0</td>\n",
       "      <td>...</td>\n",
       "      <td>600.0</td>\n",
       "      <td>200.0</td>\n",
       "      <td>0.0</td>\n",
       "      <td>400.0</td>\n",
       "      <td>600.0</td>\n",
       "      <td>[]</td>\n",
       "      <td>[(k, ♣), (9, ♦)]</td>\n",
       "      <td>3.0</td>\n",
       "      <td>3.0</td>\n",
       "      <td>1.0</td>\n",
       "    </tr>\n",
       "    <tr>\n",
       "      <th>7</th>\n",
       "      <td>0.0</td>\n",
       "      <td>[1, 4, 4, 3, 4, 4, 5]</td>\n",
       "      <td>[2, 0]</td>\n",
       "      <td>[0]</td>\n",
       "      <td>[5, 5, 3, 3, 5, 3, 4]</td>\n",
       "      <td>[5, 4, 3, 5, 0]</td>\n",
       "      <td>[4]</td>\n",
       "      <td>1.0</td>\n",
       "      <td>0.0</td>\n",
       "      <td>0.0</td>\n",
       "      <td>...</td>\n",
       "      <td>600.0</td>\n",
       "      <td>200.0</td>\n",
       "      <td>0.0</td>\n",
       "      <td>800.0</td>\n",
       "      <td>600.0</td>\n",
       "      <td>[]</td>\n",
       "      <td>[(3, ♣), (j, ♦)]</td>\n",
       "      <td>4.0</td>\n",
       "      <td>4.0</td>\n",
       "      <td>1.0</td>\n",
       "    </tr>\n",
       "    <tr>\n",
       "      <th>8</th>\n",
       "      <td>4.0</td>\n",
       "      <td>[1, 4, 4, 3, 4, 4, 5]</td>\n",
       "      <td>[2, 0]</td>\n",
       "      <td>[0]</td>\n",
       "      <td>[5, 5, 3, 3, 5, 3, 4]</td>\n",
       "      <td>[4, 0]</td>\n",
       "      <td>[5]</td>\n",
       "      <td>1.0</td>\n",
       "      <td>0.0</td>\n",
       "      <td>0.0</td>\n",
       "      <td>...</td>\n",
       "      <td>600.0</td>\n",
       "      <td>200.0</td>\n",
       "      <td>0.0</td>\n",
       "      <td>800.0</td>\n",
       "      <td>400.0</td>\n",
       "      <td>[]</td>\n",
       "      <td>[(6, ♠), (7, ♠)]</td>\n",
       "      <td>5.0</td>\n",
       "      <td>5.0</td>\n",
       "      <td>1.0</td>\n",
       "    </tr>\n",
       "    <tr>\n",
       "      <th>9</th>\n",
       "      <td>4.0</td>\n",
       "      <td>[2, 0]</td>\n",
       "      <td>[0]</td>\n",
       "      <td>[5, 5, 3, 3, 5, 3, 4]</td>\n",
       "      <td>[4, 0]</td>\n",
       "      <td>[5, 4, 3, 5, 0]</td>\n",
       "      <td>[1, 4]</td>\n",
       "      <td>0.0</td>\n",
       "      <td>0.0</td>\n",
       "      <td>1.0</td>\n",
       "      <td>...</td>\n",
       "      <td>200.0</td>\n",
       "      <td>0.0</td>\n",
       "      <td>800.0</td>\n",
       "      <td>400.0</td>\n",
       "      <td>800.0</td>\n",
       "      <td>[]</td>\n",
       "      <td>[(j, ♠), (q, ♠)]</td>\n",
       "      <td>0.0</td>\n",
       "      <td>0.0</td>\n",
       "      <td>1.0</td>\n",
       "    </tr>\n",
       "    <tr>\n",
       "      <th>10</th>\n",
       "      <td>3.0</td>\n",
       "      <td>[1, 4, 4, 3, 4, 4, 5]</td>\n",
       "      <td>[2, 0]</td>\n",
       "      <td>[0]</td>\n",
       "      <td>[4, 0]</td>\n",
       "      <td>[5, 4, 3, 5, 0]</td>\n",
       "      <td>[5, 5]</td>\n",
       "      <td>1.0</td>\n",
       "      <td>0.0</td>\n",
       "      <td>0.0</td>\n",
       "      <td>...</td>\n",
       "      <td>800.0</td>\n",
       "      <td>200.0</td>\n",
       "      <td>0.0</td>\n",
       "      <td>400.0</td>\n",
       "      <td>800.0</td>\n",
       "      <td>[]</td>\n",
       "      <td>[(k, ♣), (9, ♦)]</td>\n",
       "      <td>3.0</td>\n",
       "      <td>3.0</td>\n",
       "      <td>1.0</td>\n",
       "    </tr>\n",
       "    <tr>\n",
       "      <th>11</th>\n",
       "      <td>3.0</td>\n",
       "      <td>[1, 4, 4, 3, 4, 4, 5]</td>\n",
       "      <td>[2, 0]</td>\n",
       "      <td>[0]</td>\n",
       "      <td>[5, 5, 3, 3, 5, 3, 4]</td>\n",
       "      <td>[4, 0]</td>\n",
       "      <td>[5, 4]</td>\n",
       "      <td>1.0</td>\n",
       "      <td>0.0</td>\n",
       "      <td>0.0</td>\n",
       "      <td>...</td>\n",
       "      <td>800.0</td>\n",
       "      <td>200.0</td>\n",
       "      <td>0.0</td>\n",
       "      <td>800.0</td>\n",
       "      <td>400.0</td>\n",
       "      <td>[]</td>\n",
       "      <td>[(6, ♠), (7, ♠)]</td>\n",
       "      <td>5.0</td>\n",
       "      <td>5.0</td>\n",
       "      <td>1.0</td>\n",
       "    </tr>\n",
       "    <tr>\n",
       "      <th>12</th>\n",
       "      <td>3.0</td>\n",
       "      <td>[2, 0]</td>\n",
       "      <td>[0]</td>\n",
       "      <td>[5, 5, 3, 3, 5, 3, 4]</td>\n",
       "      <td>[4, 0]</td>\n",
       "      <td>[5, 4, 3, 5, 0]</td>\n",
       "      <td>[1, 4, 4]</td>\n",
       "      <td>0.0</td>\n",
       "      <td>0.0</td>\n",
       "      <td>1.0</td>\n",
       "      <td>...</td>\n",
       "      <td>200.0</td>\n",
       "      <td>0.0</td>\n",
       "      <td>800.0</td>\n",
       "      <td>400.0</td>\n",
       "      <td>800.0</td>\n",
       "      <td>[(k, ♠), (4, ♥), (8, ♥)]</td>\n",
       "      <td>[(j, ♠), (q, ♠)]</td>\n",
       "      <td>0.0</td>\n",
       "      <td>0.0</td>\n",
       "      <td>2.0</td>\n",
       "    </tr>\n",
       "    <tr>\n",
       "      <th>13</th>\n",
       "      <td>3.0</td>\n",
       "      <td>[1, 4, 4, 3, 4, 4, 5]</td>\n",
       "      <td>[2, 0]</td>\n",
       "      <td>[0]</td>\n",
       "      <td>[4, 0]</td>\n",
       "      <td>[5, 4, 3, 5, 0]</td>\n",
       "      <td>[5, 5, 3]</td>\n",
       "      <td>1.0</td>\n",
       "      <td>0.0</td>\n",
       "      <td>0.0</td>\n",
       "      <td>...</td>\n",
       "      <td>800.0</td>\n",
       "      <td>200.0</td>\n",
       "      <td>0.0</td>\n",
       "      <td>400.0</td>\n",
       "      <td>800.0</td>\n",
       "      <td>[(k, ♠), (4, ♥), (8, ♥)]</td>\n",
       "      <td>[(k, ♣), (9, ♦)]</td>\n",
       "      <td>3.0</td>\n",
       "      <td>3.0</td>\n",
       "      <td>2.0</td>\n",
       "    </tr>\n",
       "    <tr>\n",
       "      <th>14</th>\n",
       "      <td>5.0</td>\n",
       "      <td>[1, 4, 4, 3, 4, 4, 5]</td>\n",
       "      <td>[2, 0]</td>\n",
       "      <td>[0]</td>\n",
       "      <td>[5, 5, 3, 3, 5, 3, 4]</td>\n",
       "      <td>[4, 0]</td>\n",
       "      <td>[5, 4, 3]</td>\n",
       "      <td>1.0</td>\n",
       "      <td>0.0</td>\n",
       "      <td>0.0</td>\n",
       "      <td>...</td>\n",
       "      <td>800.0</td>\n",
       "      <td>200.0</td>\n",
       "      <td>0.0</td>\n",
       "      <td>800.0</td>\n",
       "      <td>400.0</td>\n",
       "      <td>[(k, ♠), (4, ♥), (8, ♥)]</td>\n",
       "      <td>[(6, ♠), (7, ♠)]</td>\n",
       "      <td>5.0</td>\n",
       "      <td>5.0</td>\n",
       "      <td>2.0</td>\n",
       "    </tr>\n",
       "    <tr>\n",
       "      <th>15</th>\n",
       "      <td>4.0</td>\n",
       "      <td>[2, 0]</td>\n",
       "      <td>[0]</td>\n",
       "      <td>[5, 5, 3, 3, 5, 3, 4]</td>\n",
       "      <td>[4, 0]</td>\n",
       "      <td>[5, 4, 3, 5, 0]</td>\n",
       "      <td>[1, 4, 4, 3]</td>\n",
       "      <td>0.0</td>\n",
       "      <td>0.0</td>\n",
       "      <td>1.0</td>\n",
       "      <td>...</td>\n",
       "      <td>200.0</td>\n",
       "      <td>0.0</td>\n",
       "      <td>800.0</td>\n",
       "      <td>400.0</td>\n",
       "      <td>1000.0</td>\n",
       "      <td>[(k, ♠), (4, ♥), (8, ♥)]</td>\n",
       "      <td>[(j, ♠), (q, ♠)]</td>\n",
       "      <td>0.0</td>\n",
       "      <td>0.0</td>\n",
       "      <td>2.0</td>\n",
       "    </tr>\n",
       "    <tr>\n",
       "      <th>16</th>\n",
       "      <td>5.0</td>\n",
       "      <td>[1, 4, 4, 3, 4, 4, 5]</td>\n",
       "      <td>[2, 0]</td>\n",
       "      <td>[0]</td>\n",
       "      <td>[4, 0]</td>\n",
       "      <td>[5, 4, 3, 5, 0]</td>\n",
       "      <td>[5, 5, 3, 3]</td>\n",
       "      <td>1.0</td>\n",
       "      <td>0.0</td>\n",
       "      <td>0.0</td>\n",
       "      <td>...</td>\n",
       "      <td>1000.0</td>\n",
       "      <td>200.0</td>\n",
       "      <td>0.0</td>\n",
       "      <td>400.0</td>\n",
       "      <td>1000.0</td>\n",
       "      <td>[(k, ♠), (4, ♥), (8, ♥)]</td>\n",
       "      <td>[(k, ♣), (9, ♦)]</td>\n",
       "      <td>3.0</td>\n",
       "      <td>3.0</td>\n",
       "      <td>2.0</td>\n",
       "    </tr>\n",
       "    <tr>\n",
       "      <th>17</th>\n",
       "      <td>0.0</td>\n",
       "      <td>[1, 4, 4, 3, 4, 4, 5]</td>\n",
       "      <td>[2, 0]</td>\n",
       "      <td>[0]</td>\n",
       "      <td>[5, 5, 3, 3, 5, 3, 4]</td>\n",
       "      <td>[4, 0]</td>\n",
       "      <td>[5, 4, 3, 5]</td>\n",
       "      <td>1.0</td>\n",
       "      <td>0.0</td>\n",
       "      <td>0.0</td>\n",
       "      <td>...</td>\n",
       "      <td>1000.0</td>\n",
       "      <td>200.0</td>\n",
       "      <td>0.0</td>\n",
       "      <td>1200.0</td>\n",
       "      <td>400.0</td>\n",
       "      <td>[(k, ♠), (4, ♥), (8, ♥)]</td>\n",
       "      <td>[(6, ♠), (7, ♠)]</td>\n",
       "      <td>5.0</td>\n",
       "      <td>5.0</td>\n",
       "      <td>2.0</td>\n",
       "    </tr>\n",
       "    <tr>\n",
       "      <th>18</th>\n",
       "      <td>4.0</td>\n",
       "      <td>[2, 0]</td>\n",
       "      <td>[0]</td>\n",
       "      <td>[5, 5, 3, 3, 5, 3, 4]</td>\n",
       "      <td>[4, 0]</td>\n",
       "      <td>[5, 4, 3, 5, 0]</td>\n",
       "      <td>[1, 4, 4, 3, 4]</td>\n",
       "      <td>0.0</td>\n",
       "      <td>0.0</td>\n",
       "      <td>1.0</td>\n",
       "      <td>...</td>\n",
       "      <td>200.0</td>\n",
       "      <td>0.0</td>\n",
       "      <td>1200.0</td>\n",
       "      <td>400.0</td>\n",
       "      <td>1000.0</td>\n",
       "      <td>[(k, ♠), (4, ♥), (8, ♥)]</td>\n",
       "      <td>[(j, ♠), (q, ♠)]</td>\n",
       "      <td>0.0</td>\n",
       "      <td>0.0</td>\n",
       "      <td>2.0</td>\n",
       "    </tr>\n",
       "    <tr>\n",
       "      <th>19</th>\n",
       "      <td>3.0</td>\n",
       "      <td>[1, 4, 4, 3, 4, 4, 5]</td>\n",
       "      <td>[2, 0]</td>\n",
       "      <td>[0]</td>\n",
       "      <td>[4, 0]</td>\n",
       "      <td>[5, 4, 3, 5, 0]</td>\n",
       "      <td>[5, 5, 3, 3, 5]</td>\n",
       "      <td>1.0</td>\n",
       "      <td>0.0</td>\n",
       "      <td>0.0</td>\n",
       "      <td>...</td>\n",
       "      <td>1200.0</td>\n",
       "      <td>200.0</td>\n",
       "      <td>0.0</td>\n",
       "      <td>400.0</td>\n",
       "      <td>1000.0</td>\n",
       "      <td>[(k, ♠), (4, ♥), (8, ♥)]</td>\n",
       "      <td>[(k, ♣), (9, ♦)]</td>\n",
       "      <td>3.0</td>\n",
       "      <td>3.0</td>\n",
       "      <td>2.0</td>\n",
       "    </tr>\n",
       "    <tr>\n",
       "      <th>20</th>\n",
       "      <td>5.0</td>\n",
       "      <td>[2, 0]</td>\n",
       "      <td>[0]</td>\n",
       "      <td>[5, 5, 3, 3, 5, 3, 4]</td>\n",
       "      <td>[4, 0]</td>\n",
       "      <td>[5, 4, 3, 5, 0]</td>\n",
       "      <td>[1, 4, 4, 3, 4, 4]</td>\n",
       "      <td>0.0</td>\n",
       "      <td>0.0</td>\n",
       "      <td>1.0</td>\n",
       "      <td>...</td>\n",
       "      <td>200.0</td>\n",
       "      <td>0.0</td>\n",
       "      <td>1200.0</td>\n",
       "      <td>400.0</td>\n",
       "      <td>1000.0</td>\n",
       "      <td>[(k, ♠), (4, ♥), (8, ♥), (a, ♠)]</td>\n",
       "      <td>[(j, ♠), (q, ♠)]</td>\n",
       "      <td>0.0</td>\n",
       "      <td>0.0</td>\n",
       "      <td>3.0</td>\n",
       "    </tr>\n",
       "    <tr>\n",
       "      <th>21</th>\n",
       "      <td>4.0</td>\n",
       "      <td>[1, 4, 4, 3, 4, 4, 5]</td>\n",
       "      <td>[2, 0]</td>\n",
       "      <td>[0]</td>\n",
       "      <td>[4, 0]</td>\n",
       "      <td>[5, 4, 3, 5, 0]</td>\n",
       "      <td>[5, 5, 3, 3, 5, 3]</td>\n",
       "      <td>1.0</td>\n",
       "      <td>0.0</td>\n",
       "      <td>0.0</td>\n",
       "      <td>...</td>\n",
       "      <td>1400.0</td>\n",
       "      <td>200.0</td>\n",
       "      <td>0.0</td>\n",
       "      <td>400.0</td>\n",
       "      <td>1000.0</td>\n",
       "      <td>[(k, ♠), (4, ♥), (8, ♥), (a, ♠)]</td>\n",
       "      <td>[(k, ♣), (9, ♦)]</td>\n",
       "      <td>3.0</td>\n",
       "      <td>3.0</td>\n",
       "      <td>3.0</td>\n",
       "    </tr>\n",
       "  </tbody>\n",
       "</table>\n",
       "<p>22 rows × 23 columns</p>\n",
       "</div>"
      ],
      "text/plain": [
       "    action               action_0 action_1               action_2  \\\n",
       "0      0.0  [1, 4, 4, 3, 4, 4, 5]   [2, 0]  [5, 5, 3, 3, 5, 3, 4]   \n",
       "1      5.0  [1, 4, 4, 3, 4, 4, 5]   [2, 0]                    [0]   \n",
       "2      4.0  [1, 4, 4, 3, 4, 4, 5]   [2, 0]                    [0]   \n",
       "3      5.0  [1, 4, 4, 3, 4, 4, 5]   [2, 0]                    [0]   \n",
       "4      4.0                 [2, 0]      [0]  [5, 5, 3, 3, 5, 3, 4]   \n",
       "5      0.0  [1, 4, 4, 3, 4, 4, 5]      [0]  [5, 5, 3, 3, 5, 3, 4]   \n",
       "6      5.0  [1, 4, 4, 3, 4, 4, 5]   [2, 0]                    [0]   \n",
       "7      0.0  [1, 4, 4, 3, 4, 4, 5]   [2, 0]                    [0]   \n",
       "8      4.0  [1, 4, 4, 3, 4, 4, 5]   [2, 0]                    [0]   \n",
       "9      4.0                 [2, 0]      [0]  [5, 5, 3, 3, 5, 3, 4]   \n",
       "10     3.0  [1, 4, 4, 3, 4, 4, 5]   [2, 0]                    [0]   \n",
       "11     3.0  [1, 4, 4, 3, 4, 4, 5]   [2, 0]                    [0]   \n",
       "12     3.0                 [2, 0]      [0]  [5, 5, 3, 3, 5, 3, 4]   \n",
       "13     3.0  [1, 4, 4, 3, 4, 4, 5]   [2, 0]                    [0]   \n",
       "14     5.0  [1, 4, 4, 3, 4, 4, 5]   [2, 0]                    [0]   \n",
       "15     4.0                 [2, 0]      [0]  [5, 5, 3, 3, 5, 3, 4]   \n",
       "16     5.0  [1, 4, 4, 3, 4, 4, 5]   [2, 0]                    [0]   \n",
       "17     0.0  [1, 4, 4, 3, 4, 4, 5]   [2, 0]                    [0]   \n",
       "18     4.0                 [2, 0]      [0]  [5, 5, 3, 3, 5, 3, 4]   \n",
       "19     3.0  [1, 4, 4, 3, 4, 4, 5]   [2, 0]                    [0]   \n",
       "20     5.0                 [2, 0]      [0]  [5, 5, 3, 3, 5, 3, 4]   \n",
       "21     4.0  [1, 4, 4, 3, 4, 4, 5]   [2, 0]                    [0]   \n",
       "\n",
       "                 action_3         action_4             actions  active_0  \\\n",
       "0                  [4, 0]  [5, 4, 3, 5, 0]                  []       1.0   \n",
       "1                  [4, 0]  [5, 4, 3, 5, 0]                  []       1.0   \n",
       "2   [5, 5, 3, 3, 5, 3, 4]  [5, 4, 3, 5, 0]                  []       1.0   \n",
       "3   [5, 5, 3, 3, 5, 3, 4]           [4, 0]                  []       1.0   \n",
       "4                  [4, 0]  [5, 4, 3, 5, 0]                 [1]       1.0   \n",
       "5                  [4, 0]  [5, 4, 3, 5, 0]                 [2]       1.0   \n",
       "6                  [4, 0]  [5, 4, 3, 5, 0]                 [5]       1.0   \n",
       "7   [5, 5, 3, 3, 5, 3, 4]  [5, 4, 3, 5, 0]                 [4]       1.0   \n",
       "8   [5, 5, 3, 3, 5, 3, 4]           [4, 0]                 [5]       1.0   \n",
       "9                  [4, 0]  [5, 4, 3, 5, 0]              [1, 4]       0.0   \n",
       "10                 [4, 0]  [5, 4, 3, 5, 0]              [5, 5]       1.0   \n",
       "11  [5, 5, 3, 3, 5, 3, 4]           [4, 0]              [5, 4]       1.0   \n",
       "12                 [4, 0]  [5, 4, 3, 5, 0]           [1, 4, 4]       0.0   \n",
       "13                 [4, 0]  [5, 4, 3, 5, 0]           [5, 5, 3]       1.0   \n",
       "14  [5, 5, 3, 3, 5, 3, 4]           [4, 0]           [5, 4, 3]       1.0   \n",
       "15                 [4, 0]  [5, 4, 3, 5, 0]        [1, 4, 4, 3]       0.0   \n",
       "16                 [4, 0]  [5, 4, 3, 5, 0]        [5, 5, 3, 3]       1.0   \n",
       "17  [5, 5, 3, 3, 5, 3, 4]           [4, 0]        [5, 4, 3, 5]       1.0   \n",
       "18                 [4, 0]  [5, 4, 3, 5, 0]     [1, 4, 4, 3, 4]       0.0   \n",
       "19                 [4, 0]  [5, 4, 3, 5, 0]     [5, 5, 3, 3, 5]       1.0   \n",
       "20                 [4, 0]  [5, 4, 3, 5, 0]  [1, 4, 4, 3, 4, 4]       0.0   \n",
       "21                 [4, 0]  [5, 4, 3, 5, 0]  [5, 5, 3, 3, 5, 3]       1.0   \n",
       "\n",
       "    active_1  active_2  ...   bid_0  bid_1   bid_2   bid_3   bid_4  \\\n",
       "0        1.0       1.0  ...   100.0  200.0     0.0     0.0     0.0   \n",
       "1        1.0       0.0  ...   100.0  200.0     0.0     0.0     0.0   \n",
       "2        1.0       0.0  ...   100.0  200.0     0.0   400.0     0.0   \n",
       "3        1.0       0.0  ...   100.0  200.0     0.0   400.0   400.0   \n",
       "4        0.0       1.0  ...   200.0    0.0   400.0   400.0   600.0   \n",
       "5        0.0       1.0  ...   600.0    0.0   400.0   400.0   600.0   \n",
       "6        0.0       0.0  ...   600.0  200.0     0.0   400.0   600.0   \n",
       "7        0.0       0.0  ...   600.0  200.0     0.0   800.0   600.0   \n",
       "8        0.0       0.0  ...   600.0  200.0     0.0   800.0   400.0   \n",
       "9        0.0       1.0  ...   200.0    0.0   800.0   400.0   800.0   \n",
       "10       0.0       0.0  ...   800.0  200.0     0.0   400.0   800.0   \n",
       "11       0.0       0.0  ...   800.0  200.0     0.0   800.0   400.0   \n",
       "12       0.0       1.0  ...   200.0    0.0   800.0   400.0   800.0   \n",
       "13       0.0       0.0  ...   800.0  200.0     0.0   400.0   800.0   \n",
       "14       0.0       0.0  ...   800.0  200.0     0.0   800.0   400.0   \n",
       "15       0.0       1.0  ...   200.0    0.0   800.0   400.0  1000.0   \n",
       "16       0.0       0.0  ...  1000.0  200.0     0.0   400.0  1000.0   \n",
       "17       0.0       0.0  ...  1000.0  200.0     0.0  1200.0   400.0   \n",
       "18       0.0       1.0  ...   200.0    0.0  1200.0   400.0  1000.0   \n",
       "19       0.0       0.0  ...  1200.0  200.0     0.0   400.0  1000.0   \n",
       "20       0.0       1.0  ...   200.0    0.0  1200.0   400.0  1000.0   \n",
       "21       0.0       0.0  ...  1400.0  200.0     0.0   400.0  1000.0   \n",
       "\n",
       "                           community               hand  player position round  \n",
       "0                                 []  [(9, ♠), (10, ♣)]     2.0      0.0   1.0  \n",
       "1                                 []   [(k, ♣), (9, ♦)]     3.0      1.0   1.0  \n",
       "2                                 []   [(3, ♣), (j, ♦)]     4.0      2.0   1.0  \n",
       "3                                 []   [(6, ♠), (7, ♠)]     5.0      3.0   1.0  \n",
       "4                                 []   [(j, ♠), (q, ♠)]     0.0      0.0   1.0  \n",
       "5                                 []   [(2, ♣), (6, ♦)]     1.0      1.0   1.0  \n",
       "6                                 []   [(k, ♣), (9, ♦)]     3.0      3.0   1.0  \n",
       "7                                 []   [(3, ♣), (j, ♦)]     4.0      4.0   1.0  \n",
       "8                                 []   [(6, ♠), (7, ♠)]     5.0      5.0   1.0  \n",
       "9                                 []   [(j, ♠), (q, ♠)]     0.0      0.0   1.0  \n",
       "10                                []   [(k, ♣), (9, ♦)]     3.0      3.0   1.0  \n",
       "11                                []   [(6, ♠), (7, ♠)]     5.0      5.0   1.0  \n",
       "12          [(k, ♠), (4, ♥), (8, ♥)]   [(j, ♠), (q, ♠)]     0.0      0.0   2.0  \n",
       "13          [(k, ♠), (4, ♥), (8, ♥)]   [(k, ♣), (9, ♦)]     3.0      3.0   2.0  \n",
       "14          [(k, ♠), (4, ♥), (8, ♥)]   [(6, ♠), (7, ♠)]     5.0      5.0   2.0  \n",
       "15          [(k, ♠), (4, ♥), (8, ♥)]   [(j, ♠), (q, ♠)]     0.0      0.0   2.0  \n",
       "16          [(k, ♠), (4, ♥), (8, ♥)]   [(k, ♣), (9, ♦)]     3.0      3.0   2.0  \n",
       "17          [(k, ♠), (4, ♥), (8, ♥)]   [(6, ♠), (7, ♠)]     5.0      5.0   2.0  \n",
       "18          [(k, ♠), (4, ♥), (8, ♥)]   [(j, ♠), (q, ♠)]     0.0      0.0   2.0  \n",
       "19          [(k, ♠), (4, ♥), (8, ♥)]   [(k, ♣), (9, ♦)]     3.0      3.0   2.0  \n",
       "20  [(k, ♠), (4, ♥), (8, ♥), (a, ♠)]   [(j, ♠), (q, ♠)]     0.0      0.0   3.0  \n",
       "21  [(k, ♠), (4, ♥), (8, ♥), (a, ♠)]   [(k, ♣), (9, ♦)]     3.0      3.0   3.0  \n",
       "\n",
       "[22 rows x 23 columns]"
      ]
     },
     "execution_count": 7,
     "metadata": {},
     "output_type": "execute_result"
    }
   ],
   "source": [
    "g.output"
   ]
  },
  {
   "cell_type": "code",
   "execution_count": 9,
   "metadata": {},
   "outputs": [
    {
     "data": {
      "text/plain": [
       "(22, 23)"
      ]
     },
     "execution_count": 9,
     "metadata": {},
     "output_type": "execute_result"
    }
   ],
   "source": [
    "g.output.shape"
   ]
  },
  {
   "cell_type": "code",
   "execution_count": 8,
   "metadata": {},
   "outputs": [
    {
     "name": "stdout",
     "output_type": "stream",
     "text": [
      "[0, 0, 0, 0]\n",
      "[0, 0, 0, 0]\n",
      "[0, 0, 0, 0]\n",
      "[0, 0, 0, 0]\n",
      "[0, 0, 0, 0]\n",
      "[0, 0, 0, 0]\n"
     ]
    }
   ],
   "source": [
    "for player in g.players:\n",
    "    if len(player.last_actions) < 4:\n",
    "        [player.last_actions.append(0) for i in range(4-len(player.last_actions))]\n",
    "    print(player.last_actions)"
   ]
  },
  {
   "cell_type": "code",
   "execution_count": 22,
   "metadata": {},
   "outputs": [],
   "source": [
    "l = [1, 2, 3]\n",
    "leng = 5"
   ]
  },
  {
   "cell_type": "code",
   "execution_count": 23,
   "metadata": {},
   "outputs": [
    {
     "data": {
      "text/plain": [
       "[0, 1]"
      ]
     },
     "execution_count": 23,
     "metadata": {},
     "output_type": "execute_result"
    }
   ],
   "source": [
    "[x for x in range(leng-len(l))]"
   ]
  },
  {
   "cell_type": "code",
   "execution_count": 25,
   "metadata": {},
   "outputs": [
    {
     "ename": "TypeError",
     "evalue": "unsupported operand type(s) for *: 'NoneType' and 'int'",
     "output_type": "error",
     "traceback": [
      "\u001b[0;31m---------------------------------------------------------------------------\u001b[0m",
      "\u001b[0;31mTypeError\u001b[0m                                 Traceback (most recent call last)",
      "\u001b[0;32m<ipython-input-25-1efc68bee741>\u001b[0m in \u001b[0;36m<module>\u001b[0;34m\u001b[0m\n\u001b[0;32m----> 1\u001b[0;31m \u001b[0ml\u001b[0m\u001b[0;34m.\u001b[0m\u001b[0mappend\u001b[0m\u001b[0;34m(\u001b[0m\u001b[0;36m0\u001b[0m\u001b[0;34m)\u001b[0m \u001b[0;34m*\u001b[0m \u001b[0;36m2\u001b[0m\u001b[0;34m\u001b[0m\u001b[0;34m\u001b[0m\u001b[0m\n\u001b[0m",
      "\u001b[0;31mTypeError\u001b[0m: unsupported operand type(s) for *: 'NoneType' and 'int'"
     ]
    }
   ],
   "source": [
    "l.append(0) * 2"
   ]
  },
  {
   "cell_type": "code",
   "execution_count": 7,
   "metadata": {},
   "outputs": [
    {
     "data": {
      "text/plain": [
       "[1, 2, 3, 0, 0]"
      ]
     },
     "execution_count": 7,
     "metadata": {},
     "output_type": "execute_result"
    }
   ],
   "source": [
    "for i in range(2):\n",
    "    l.append(0)\n",
    "l"
   ]
  },
  {
   "cell_type": "code",
   "execution_count": 26,
   "metadata": {},
   "outputs": [],
   "source": [
    "if len(l) < leng:\n",
    "#    print(leng-len(l))\n",
    "    [l.append(0) for i in range(leng-len(l))]\n",
    "elif len(l) > leng:\n",
    "    raise ValueError('The input shape is already to long')"
   ]
  },
  {
   "cell_type": "code",
   "execution_count": 10,
   "metadata": {},
   "outputs": [],
   "source": [
    "l = [1] * 6"
   ]
  },
  {
   "cell_type": "code",
   "execution_count": 27,
   "metadata": {},
   "outputs": [
    {
     "data": {
      "text/plain": [
       "[1, 2, 3, 0, 0]"
      ]
     },
     "execution_count": 27,
     "metadata": {},
     "output_type": "execute_result"
    }
   ],
   "source": [
    "l"
   ]
  },
  {
   "cell_type": "code",
   "execution_count": 30,
   "metadata": {},
   "outputs": [],
   "source": [
    "x = [8, 9]"
   ]
  },
  {
   "cell_type": "code",
   "execution_count": 36,
   "metadata": {},
   "outputs": [],
   "source": [
    "x.extend(l)"
   ]
  },
  {
   "cell_type": "code",
   "execution_count": 37,
   "metadata": {},
   "outputs": [
    {
     "data": {
      "text/plain": [
       "[1, 2, 3, 0, 0]"
      ]
     },
     "execution_count": 37,
     "metadata": {},
     "output_type": "execute_result"
    }
   ],
   "source": [
    "l"
   ]
  },
  {
   "cell_type": "code",
   "execution_count": 38,
   "metadata": {},
   "outputs": [
    {
     "data": {
      "text/plain": [
       "[8, 9, 1, 2, 3, 0, 0, 1, 2, 3, 0, 0, 1, 2, 3, 0, 0]"
      ]
     },
     "execution_count": 38,
     "metadata": {},
     "output_type": "execute_result"
    }
   ],
   "source": [
    "x"
   ]
  },
  {
   "cell_type": "code",
   "execution_count": 34,
   "metadata": {},
   "outputs": [],
   "source": [
    "s = (l, x, x.extend(l))"
   ]
  },
  {
   "cell_type": "code",
   "execution_count": 35,
   "metadata": {},
   "outputs": [
    {
     "data": {
      "text/plain": [
       "([1, 2, 3, 0, 0], [8, 9, 1, 2, 3, 0, 0, 1, 2, 3, 0, 0], None)"
      ]
     },
     "execution_count": 35,
     "metadata": {},
     "output_type": "execute_result"
    }
   ],
   "source": [
    "s"
   ]
  },
  {
   "cell_type": "code",
   "execution_count": 46,
   "metadata": {},
   "outputs": [],
   "source": [
    "s = set(l)"
   ]
  },
  {
   "cell_type": "code",
   "execution_count": 47,
   "metadata": {},
   "outputs": [
    {
     "data": {
      "text/plain": [
       "{0, 1, 2, 3}"
      ]
     },
     "execution_count": 47,
     "metadata": {},
     "output_type": "execute_result"
    }
   ],
   "source": [
    "s"
   ]
  },
  {
   "cell_type": "code",
   "execution_count": 48,
   "metadata": {},
   "outputs": [],
   "source": [
    "s.update(x)"
   ]
  },
  {
   "cell_type": "code",
   "execution_count": 49,
   "metadata": {},
   "outputs": [
    {
     "data": {
      "text/plain": [
       "{0, 1, 2, 3, 8, 9}"
      ]
     },
     "execution_count": 49,
     "metadata": {},
     "output_type": "execute_result"
    }
   ],
   "source": [
    "s"
   ]
  },
  {
   "cell_type": "code",
   "execution_count": 50,
   "metadata": {},
   "outputs": [
    {
     "data": {
      "text/plain": [
       "[1, 2, 3, 0, 0]"
      ]
     },
     "execution_count": 50,
     "metadata": {},
     "output_type": "execute_result"
    }
   ],
   "source": [
    "l"
   ]
  },
  {
   "cell_type": "code",
   "execution_count": 53,
   "metadata": {},
   "outputs": [],
   "source": [
    "l.remove(3)"
   ]
  },
  {
   "cell_type": "code",
   "execution_count": 55,
   "metadata": {},
   "outputs": [],
   "source": [
    "t = l.remove(2)"
   ]
  },
  {
   "cell_type": "code",
   "execution_count": 58,
   "metadata": {},
   "outputs": [
    {
     "data": {
      "text/plain": [
       "[1, 0, 0]"
      ]
     },
     "execution_count": 58,
     "metadata": {},
     "output_type": "execute_result"
    }
   ],
   "source": [
    "l"
   ]
  },
  {
   "cell_type": "code",
   "execution_count": null,
   "metadata": {},
   "outputs": [],
   "source": []
  }
 ],
 "metadata": {
  "kernelspec": {
   "display_name": "Python 3",
   "language": "python",
   "name": "python3"
  },
  "language_info": {
   "codemirror_mode": {
    "name": "ipython",
    "version": 3
   },
   "file_extension": ".py",
   "mimetype": "text/x-python",
   "name": "python",
   "nbconvert_exporter": "python",
   "pygments_lexer": "ipython3",
   "version": "3.7.3"
  }
 },
 "nbformat": 4,
 "nbformat_minor": 2
}
