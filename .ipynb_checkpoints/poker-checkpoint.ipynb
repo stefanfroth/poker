{
 "cells": [
  {
   "cell_type": "markdown",
   "metadata": {},
   "source": [
    "# Does the poker code run?"
   ]
  },
  {
   "cell_type": "code",
   "execution_count": 1,
   "metadata": {},
   "outputs": [],
   "source": [
    "import numpy as np\n",
    "import itertools\n",
    "from collections import namedtuple\n",
    "from poker import Card, Evaluator, Player, Game"
   ]
  },
  {
   "cell_type": "code",
   "execution_count": 2,
   "metadata": {},
   "outputs": [],
   "source": [
    "g = Game(6, 100, 10000) "
   ]
  },
  {
   "cell_type": "code",
   "execution_count": 6,
   "metadata": {},
   "outputs": [
    {
     "name": "stdout",
     "output_type": "stream",
     "text": [
      "The position of the small blind is 2\n",
      "[1, 2]\n",
      "[0, 1, 2, 3, 4, 5]\n",
      "[0, 3, 4, 5]\n",
      "[3, 4, 5] [0]\n",
      "[1, 2, 3, 4, 5, 0]\n",
      "The order is [1, 2, 3, 4, 5, 0]\n",
      "1's hand is [('8', '♣'), ('q', '♥')] \n",
      "2's hand is [('7', '♠'), ('8', '♦')] \n",
      "3's hand is [('5', '♠'), ('9', '♥')] \n",
      "4's hand is [('k', '♦'), ('10', '♠')] \n",
      "5's hand is [('5', '♦'), ('2', '♦')] \n",
      "6's hand is [('3', '♦'), ('7', '♦')] \n",
      "Player 2: I have bet the small blind of $100!\n",
      "Player 3: I have bet the big blind of $200!\n",
      "Player 1: I think I can win this round. I am calling!\n",
      "Player 1: I have call and am betting $200!\n",
      "Player 4: I think I can win this round. I am calling!\n",
      "Player 4: I have call and am betting $200!\n",
      "Player 5: I think I can win this round. I am calling!\n",
      "Player 5: I have call and am betting $200!\n",
      "Player 6: I have raise and am betting $400!\n",
      "Player 2: I think I can win this round. I am calling!\n",
      "Player 2: I have call and am betting $400!\n",
      "The highest bid is 400\n",
      "Player 3: My cards are sh..! I fold!\n",
      "Player 3: I have fold and am betting $200!\n",
      "The highest bid is 400\n",
      "Player 4: I have raise and am betting $600!\n",
      "The highest bid is 600\n",
      "Player 5: I have raise and am betting $800!\n",
      "The highest bid is 800\n",
      "Player 6: I have raise and am betting $1000!\n",
      "The highest bid is 1000\n",
      "Player 1: I think I can win this round. I am calling!\n",
      "Player 1: I have call and am betting $1000!\n",
      "The highest bid is 1000\n",
      "Player 2: I have raise and am betting $1200!\n",
      "The highest bid is 1200\n",
      "Player 4: I think I can win this round. I am calling!\n",
      "Player 4: I have call and am betting $1200!\n",
      "The highest bid is 1200\n",
      "Player 5: My cards are sh..! I fold!\n",
      "Player 5: I have fold and am betting $800!\n",
      "The highest bid is 1200\n",
      "Player 6: My cards are sh..! I fold!\n",
      "Player 6: I have fold and am betting $1000!\n",
      "The highest bid is 1200\n",
      "Player 1: My cards are sh..! I fold!\n",
      "Player 1: I have fold and am betting $1000!\n",
      "The first round is over and 2 players are still in the game\n",
      "The flop is: [('5', '♣'), ('j', '♦'), ('k', '♣')]\n",
      "Player 2 has the hand [('7', '♠'), ('8', '♦'), ('5', '♣'), ('j', '♦'), ('k', '♣')]\n",
      "Player 4 has the hand [('k', '♦'), ('10', '♠'), ('5', '♣'), ('j', '♦'), ('k', '♣')]\n",
      "Player 2: I think I can win this round. I am calling!\n",
      "Player 2: I have call and am betting $1200!\n",
      "Player 4: I have raise and am betting $1400!\n",
      "the highest bid is 1400\n",
      "Player 2: My cards are sh..! I fold!\n",
      "Player 2: I have fold and am betting $1200!\n",
      "The game has ended\n",
      "The second round is over and 1 players are still in the game\n",
      "The cards after the turn are: [('5', '♣'), ('j', '♦'), ('k', '♣'), ('5', '♥')]\n",
      "Player 4: I think I can win this round. I am calling!\n",
      "Player 4: I have call and am betting $1400!\n",
      "The third timestep is over and 1 players are still in the game!\n",
      "The cards after the river are: [('5', '♣'), ('j', '♦'), ('k', '♣'), ('5', '♥'), ('4', '♥')]\n",
      "[('k', '♦'), ('5', '♣'), ('j', '♦'), ('k', '♣'), ('5', '♥')]\n",
      "The best hand of player 4 is a two-pair\n",
      "Player 4 wins with a two-pair. His hand is ['k', '5', 'j']\n",
      "The winner is 4\n",
      "Player 1's stack after round 2 is 13600.\n",
      "Player 2's stack after round 2 is 7400.\n",
      "Player 3's stack after round 2 is 8800.\n",
      "Player 4's stack after round 2 is 13600.\n",
      "Player 5's stack after round 2 is 7600.\n",
      "Player 6's stack after round 2 is 9000.\n"
     ]
    }
   ],
   "source": [
    "g.play_one_complete_round()"
   ]
  }
 ],
 "metadata": {
  "kernelspec": {
   "display_name": "Python 3",
   "language": "python",
   "name": "python3"
  },
  "language_info": {
   "codemirror_mode": {
    "name": "ipython",
    "version": 3
   },
   "file_extension": ".py",
   "mimetype": "text/x-python",
   "name": "python",
   "nbconvert_exporter": "python",
   "pygments_lexer": "ipython3",
   "version": "3.7.3"
  }
 },
 "nbformat": 4,
 "nbformat_minor": 2
}
